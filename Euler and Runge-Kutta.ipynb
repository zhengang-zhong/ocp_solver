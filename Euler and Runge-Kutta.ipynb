{
 "cells": [
  {
   "cell_type": "code",
   "execution_count": 661,
   "metadata": {},
   "outputs": [],
   "source": [
    "import casadi as ca\n",
    "import numpy as np"
   ]
  },
  {
   "cell_type": "markdown",
   "metadata": {},
   "source": [
    "## Numerical solution for ODE "
   ]
  },
  {
   "cell_type": "markdown",
   "metadata": {},
   "source": [
    "reference: [Runge-Kutta methods](https://en.wikipedia.org/wiki/Runge%E2%80%93Kutta_methods)\n",
    "\n",
    "This notebook intends to provide some insights in some numerical integration methods which approximately solve ordinary differential equations.\n",
    "\n",
    "A differential equation is generally used to describe a dynamic system, such as spring-mass systems and mobile robots. The mathematical formulation of their systems are given either by an explicit ODE or an implicit ODE. Since a close-formed solution of ODE doesn't always exists, we solve the problems leveraging some numerical methods.\n",
    "\n",
    "**Explicit ODE**: $F\\left(x, y, y^{\\prime}, \\ldots, y^{(n-1)}\\right)=y^{(n)}$ and\n",
    "**Implicit ODE**: $F\\left(x, y, y^{\\prime}, y^{\\prime \\prime}, \\ldots, y^{(n)}\\right)=0$"
   ]
  },
  {
   "cell_type": "markdown",
   "metadata": {},
   "source": [
    "This part of notebook focuses on the numerical solution of the first order system in the following form: $\\dot{\\mathbf{x}} = F(t,\\mathbf{x})$"
   ]
  },
  {
   "cell_type": "markdown",
   "metadata": {},
   "source": [
    "### Runge-Kutta order 4\n",
    "\n",
    "Runge-Kutta order 4(RK4) approximates the next value of $\\mathbf{x}(t_{n+1})$ at time step $t_{n+1}$ by calculating the present value $\\mathbf{x}_{n}$ plus the weighted average of four increments. \n",
    "\n",
    "This method has $O\\left(h^5\\right)$ local error and $O\\left(h^4\\right)$ global error.\n",
    "\n",
    "The time derivatives of $\\mathbf{x}$ at the beginning, the midpoint and the end of the interval are determined using:\n",
    "\n",
    "$\\begin{aligned} \\mathbf{k}_{1} &=F\\left(t_{n}, \\mathbf{x}_{n}\\right) \\\\ \\mathbf{k}_{2} &=F\\left(t_{n}+\\frac{h}{2}, \\mathbf{x}_{n}+h \\frac{\\mathbf{k}_{1}}{2}\\right) \\\\ \\mathbf{k}_{3} &=F\\left(t_{n}+\\frac{h}{2}, \\mathbf{x}_{n}+h \\frac{\\mathbf{k}_{2}}{2}\\right) \\\\ \\mathbf{k}_{4} &=F\\left(t_{n}+h, \\mathbf{x}_{n}+h \\mathbf{k}_{3}\\right) \\end{aligned}$, where $h$ is the interval length. The value of next step is then approximated by $\\mathbf{x}_{n+1}=\\mathbf{x}_{n}+\\frac{1}{6} h\\left(\\mathbf{k}_{1}+2 \\mathbf{k}_{2}+2 \\mathbf{k}_{3}+\\mathbf{k}_{4}\\right)$."
   ]
  },
  {
   "cell_type": "code",
   "execution_count": 662,
   "metadata": {},
   "outputs": [],
   "source": [
    "def RK4_np(f, x, t, h):\n",
    "    \"\"\"\n",
    "    Runge-Kutta 4th order solver using numpy array data type.\n",
    "\n",
    "    Args:\n",
    "        f: A function returning first order ODE in 2D numpy array (Nx x 1).\n",
    "        x: Current value (list or numpy array). \n",
    "        t: Current time.\n",
    "        h: Step length.\n",
    "    Returns:\n",
    "        x_next: Vector of next value in 2D numpy array (Nx x 1)\n",
    "    \"\"\"\n",
    "    x = np.reshape(x, (np.shape(x)[0], -1))    # Reshape x to col vector in np 2D array\n",
    "    k1 = f(t, x)\n",
    "    k2 = f(t + h / 2, x + h / 2 * k1)\n",
    "    k3 = f(t + h / 2, x + h / 2 * k2)\n",
    "    k4 = f(t + h, x + h * k3)\n",
    "    x_next = x + h / 6 * (k1 + 2 * k2 + 2 * k3 + k4)\n",
    "    return x_next"
   ]
  },
  {
   "cell_type": "code",
   "execution_count": 629,
   "metadata": {},
   "outputs": [],
   "source": [
    "def RK4_ca(f, x, t, h):\n",
    "    \"\"\"\n",
    "    Runge-Kutta 4th order solver using casadi.\n",
    "\n",
    "    Args:\n",
    "        f: First order ODE in casadi function (Nx + Nt -> Nx).\n",
    "        x: Current value (list or numpy array). \n",
    "        t: Current time.\n",
    "        h: Step length.\n",
    "    Returns:\n",
    "        x_next: Vector of next value in casadi DM\n",
    "    \"\"\"\n",
    "    k1 = f(t, x)\n",
    "    k2 = f(t + h / 2, x + h / 2 * k1)\n",
    "    k3 = f(t + h / 2, x + h / 2 * k2)\n",
    "    k4 = f(t + h, x + h * k3)\n",
    "    x_next = x + h / 6 * (k1 + 2 * k2 + 2 * k3 + k4)\n",
    "    return x_next"
   ]
  },
  {
   "cell_type": "markdown",
   "metadata": {},
   "source": [
    "Test dynamical system: $\\begin{aligned} \\dot{x}_1 &= x_2 \\\\ \\dot{x}_2 &= u\\end{aligned}$\n",
    "\n",
    "Analytical solution: $\\begin{aligned} x_1 &= x_{10} + x_{20}t + \\frac{1}{2}ut^{2} \\\\ x_2 &= x_{20} + ut\\end{aligned}$"
   ]
  },
  {
   "cell_type": "code",
   "execution_count": 630,
   "metadata": {},
   "outputs": [],
   "source": [
    "def ode_np(t, x):\n",
    "    '''\n",
    "    Double integrator\n",
    "    \n",
    "    Args:\n",
    "        t: Current time.\n",
    "        x: Current value (list or numpy array). \n",
    "        \n",
    "    Returns: First order ODE in 2D numpy array (Nx x 1).\n",
    "    '''\n",
    "    x = np.reshape(x, np.shape(x)[0])\n",
    "\n",
    "    u = 1.0\n",
    "    x_dot1 = x[1] \n",
    "    x_dot2 = u\n",
    "\n",
    "    return np.array([[x_dot1],[x_dot2]])"
   ]
  },
  {
   "cell_type": "code",
   "execution_count": 631,
   "metadata": {},
   "outputs": [],
   "source": [
    "x0 = [1.0,2.0]    # Current state\n",
    "t0 = 1    # Trivial variable time\n",
    "h = 1  # Step length"
   ]
  },
  {
   "cell_type": "markdown",
   "metadata": {},
   "source": [
    "#### Numpy RK4 solution"
   ]
  },
  {
   "cell_type": "code",
   "execution_count": 632,
   "metadata": {},
   "outputs": [
    {
     "data": {
      "text/plain": [
       "array([[3.5],\n",
       "       [3. ]])"
      ]
     },
     "execution_count": 632,
     "metadata": {},
     "output_type": "execute_result"
    }
   ],
   "source": [
    "#Solve ODE by RK4\n",
    "x1 = RK4_np(ode_np, x0, t0, h)\n",
    "x1"
   ]
  },
  {
   "cell_type": "markdown",
   "metadata": {},
   "source": [
    "#### Casadi RK4 solution"
   ]
  },
  {
   "cell_type": "code",
   "execution_count": 633,
   "metadata": {},
   "outputs": [],
   "source": [
    "def ode_ca(t, x):\n",
    "    '''\n",
    "    Double integrator\n",
    "    \n",
    "    Args:\n",
    "        t: Current time.\n",
    "        x: Current value (list or numpy array). \n",
    "        \n",
    "    Returns: First order ODE in casadi SX col vector .\n",
    "    '''\n",
    "    # Parameter konfiguration\n",
    "    u = 1.0\n",
    "    rhs = [x[1],\n",
    "           u\n",
    "           ]\n",
    "\n",
    "    return ca.vertcat(*rhs)"
   ]
  },
  {
   "cell_type": "code",
   "execution_count": 634,
   "metadata": {},
   "outputs": [
    {
     "data": {
      "text/plain": [
       "DM([3.5, 3])"
      ]
     },
     "execution_count": 634,
     "metadata": {},
     "output_type": "execute_result"
    }
   ],
   "source": [
    "Nx = 2    # x dimension: 2\n",
    "Nt = 1    # t dimension: 1\n",
    "\n",
    "x = ca.SX.sym('x', Nx)\n",
    "t = ca.SX.sym('t', Nt)\n",
    "\n",
    "# Construct a casadi function for the ODE\n",
    "fn_ca = ca.Function(\"ode_func\", [t, x], [ode_ca(t,x)])\n",
    "\n",
    "#Solve ODE by RK4\n",
    "x1 = RK4_ca(fn_ca, x0, t0, h)\n",
    "x1"
   ]
  },
  {
   "cell_type": "markdown",
   "metadata": {},
   "source": [
    "### Implicit Euler method"
   ]
  },
  {
   "cell_type": "markdown",
   "metadata": {},
   "source": [
    "The implicit Euler method (also known as backward Euler method) is another numerical methods applied for solving ordinary differential equations. It replaces the slope in the explicit form $F\\left(t_{n}, \\mathbf{x}_{n}\\right)$ by $F\\left(t_{n+1}, \\mathbf{x}_{n+1}\\right)$. The formulation of the implicit Euler method is given by $\\mathbf{x}_{n+1}=\\mathbf{x}_{n}+h F\\left(\\mathbf{x}_{n+1}, t_{n+1}\\right)$. Since the variable $\\mathbf{x}_{n+1}$ exists on both sides of the equation, a numerical root-finding algorithm should be applied to solve the algebraic equation, such as Newton-Raphson method."
   ]
  },
  {
   "cell_type": "markdown",
   "metadata": {},
   "source": [
    "- Step 1: Build a Newton-Raphson solver\n",
    "\n",
    "Newton step update rule: $\\delta=-J(x)^{-1} f(x)$"
   ]
  },
  {
   "cell_type": "code",
   "execution_count": 658,
   "metadata": {},
   "outputs": [],
   "source": [
    "def newton_np(f_newton, J, x, eps = 1e-11):\n",
    "    '''\n",
    "    Find a zero of a given function f using the Newton-Raphson method.\n",
    " \n",
    "    Args:\n",
    "        f_newton: A function of the input x. Function return is in numpy 2D array (Nf x 1).\n",
    "        J: The Jacobian of f. It is also a function of the input x. Its return is a numpy 2D array (Nf x Nx).\n",
    "        x: Initial guess of the zero. Better be close to the searched zero to guarantee a better convergence.\n",
    "        eps: Error tolerance. Stop when |F|_{norm2} < eps.\n",
    "        \n",
    "        TODO: stop when the number of iterations is too large\n",
    "    Returns: The zero of function f in Numpy 2D array (Nx x 1).\n",
    "    '''\n",
    "    x_update = np.copy(x)    \n",
    "    f_value = f_newton(x_update)\n",
    "    f_tol = 1e6 # dummy initial\n",
    "\n",
    "    while (f_tol > eps):\n",
    "        # Update Newton step\n",
    "        delta = - np.linalg.inv(J(x_update)) @ f_value # Alternative way: using np.linalg.solve(J(x),-f(x))\n",
    "        x_update += delta\n",
    "        # Calculate for the cretirion to stop the loop.\n",
    "        f_diff = f_newton(x_update) - f_value\n",
    "        f_value = f_newton(x_update)\n",
    "        f_tol = np.linalg.norm(f_diff) # l2 norm\n",
    "    return x_update"
   ]
  },
  {
   "cell_type": "markdown",
   "metadata": {},
   "source": [
    "- Step 2: Construct the ODE solver leveraging implicit Euler method \n",
    "\n",
    "The way to calculate the Jacobian is to approximate each element $\\frac{\\partial f_{i}}{\\partial x_{j}}$ in the Jacobian matrix by $\\frac{f_{i}(x+\\epsilon) - f_{i}(x-\\epsilon)}{2\\epsilon}$.\n",
    "The implicit system to be solved is formulated by  $f(\\mathbf{x}_{n+1}) = \\mathbf{x}_{n+1}-\\mathbf{x}_{n}-h F\\left(\\mathbf{x}_{n+1}, t_{n+1}\\right)$."
   ]
  },
  {
   "cell_type": "code",
   "execution_count": 659,
   "metadata": {},
   "outputs": [],
   "source": [
    "def Euler_back_np(f, x, t, h, eps = 1e-6):\n",
    "    \"\"\"\n",
    "    Implicit Euler solver using numpy array data type.\n",
    "\n",
    "    Args:\n",
    "        f: A function returning first order ODE in 2D numpy array (Nx x 1).\n",
    "        x: Current value (list or numpy array). \n",
    "        t: Current time.\n",
    "        h: Step length.\n",
    "        eps: Error tolerence of solving zeros using Newton-Raphson method\n",
    "    Returns:\n",
    "        x_next: Vector of next value in 2D numpy array (Nx x 1)\n",
    "    \"\"\"\n",
    "    x = np.reshape(x, (np.shape(x)[0], -1))    # Reshape x to col vector in np 2D array\n",
    "    \n",
    "    Nx = np.shape(x)[0]\n",
    "    def fn_implicit_wrapper(f, x, t_next, h):\n",
    "        # Return then the function of implicit system to be solved by Newton-Raphson.\n",
    "        def fn_implicit(x_next):\n",
    "            f_implicit = x_next - x - h * f(t_next, x_next)\n",
    "            return f_implicit\n",
    "        return fn_implicit\n",
    "    \n",
    "    def Jacobian_wrapper(fn_implicit, eps_j = 1e-5):\n",
    "        # Return then the function of implicit system's Jacobian to be used in the Newton-Raphson function.\n",
    "        def Jacobian(x_next):\n",
    "            Nx = np.shape(x_next)[0]\n",
    "            J = np.zeros([Nx,Nx])\n",
    "            x1 = np.copy(x_next) # TODO: try not allocate to new memory\n",
    "            x2 = np.copy(x_next) \n",
    "            for i in range(Nx):    # go through all x, assign the values vector-wise.\n",
    "                x1[i][0] += eps_j\n",
    "                x2[i][0] -= eps_j\n",
    "                f1 = fn_implicit(x1).flatten()\n",
    "                f2 = fn_implicit(x2).flatten()\n",
    "                x1[i][0] -= eps_j\n",
    "                x2[i][0] += eps_j\n",
    "                J[: , i] = (f1 - f2)/ (2 * eps_j)\n",
    "            return J\n",
    "        return Jacobian\n",
    "    # Left hand implicit system used to calculate the zero leveraging Newton Raphson method.\n",
    "    f_lhs = fn_implicit_wrapper(f, x, t+h, h) \n",
    "    Jacobian = Jacobian_wrapper(f_lhs)\n",
    "    x_next = newton_np(f_lhs, Jacobian, x)    # x here is initial guess of x_next, may be assigned to other initial values.\n",
    "    return x_next"
   ]
  },
  {
   "cell_type": "code",
   "execution_count": 660,
   "metadata": {},
   "outputs": [
    {
     "data": {
      "text/plain": [
       "array([[4.],\n",
       "       [3.]])"
      ]
     },
     "execution_count": 660,
     "metadata": {},
     "output_type": "execute_result"
    }
   ],
   "source": [
    "#Solve ODE by implicit Euler method -> obvious lower accuracy compared to RK4 method\n",
    "x1 = Euler_back_np(ode_np, x0, t0, h)\n",
    "x1"
   ]
  },
  {
   "cell_type": "markdown",
   "metadata": {},
   "source": [
    "Any convergence problem when h is set too large? -> stiff system."
   ]
  }
 ],
 "metadata": {
  "kernelspec": {
   "display_name": "Python 3",
   "language": "python",
   "name": "python3"
  },
  "language_info": {
   "codemirror_mode": {
    "name": "ipython",
    "version": 3
   },
   "file_extension": ".py",
   "mimetype": "text/x-python",
   "name": "python",
   "nbconvert_exporter": "python",
   "pygments_lexer": "ipython3",
   "version": "3.7.7"
  }
 },
 "nbformat": 4,
 "nbformat_minor": 4
}
