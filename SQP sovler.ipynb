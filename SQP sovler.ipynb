{
 "cells": [
  {
   "cell_type": "code",
   "execution_count": 15,
   "metadata": {},
   "outputs": [
    {
     "name": "stdout",
     "output_type": "stream",
     "text": [
      "Package                Version\n",
      "---------------------- ---------\n",
      "absl-py                0.10.0\n",
      "appdirs                1.4.4\n",
      "appnope                0.1.0\n",
      "astunparse             1.6.3\n",
      "atari-py               0.2.6\n",
      "attrs                  19.3.0\n",
      "backcall               0.2.0\n",
      "bleach                 3.1.5\n",
      "cachetools             4.1.1\n",
      "casadi                 3.5.5\n",
      "certifi                2020.6.20\n",
      "chardet                3.0.4\n",
      "cloudpickle            1.6.0\n",
      "cycler                 0.10.0\n",
      "decorator              4.4.2\n",
      "defusedxml             0.6.0\n",
      "distlib                0.3.1\n",
      "entrypoints            0.3\n",
      "filelock               3.0.12\n",
      "future                 0.18.2\n",
      "gast                   0.3.3\n",
      "google-auth            1.22.1\n",
      "google-auth-oauthlib   0.4.1\n",
      "google-pasta           0.2.0\n",
      "grpcio                 1.32.0\n",
      "gym                    0.17.3\n",
      "h5py                   2.10.0\n",
      "httpsig                1.3.0\n",
      "idna                   2.10\n",
      "importlib-metadata     1.6.1\n",
      "ipykernel              5.3.0\n",
      "ipython                7.15.0\n",
      "ipython-genutils       0.2.0\n",
      "ipywidgets             7.5.1\n",
      "jedi                   0.17.1\n",
      "Jinja2                 2.11.2\n",
      "joblib                 0.17.0\n",
      "jsonschema             3.2.0\n",
      "jupyter                1.0.0\n",
      "jupyter-client         6.1.3\n",
      "jupyter-console        6.1.0\n",
      "jupyter-core           4.6.3\n",
      "Keras-Preprocessing    1.1.2\n",
      "kiwisolver             1.2.0\n",
      "lxml                   4.5.2\n",
      "Markdown               3.3\n",
      "MarkupSafe             1.1.1\n",
      "matplotlib             3.2.2\n",
      "mistune                0.8.4\n",
      "mpmath                 1.1.0\n",
      "nbconvert              5.6.1\n",
      "nbformat               5.0.7\n",
      "notebook               6.0.3\n",
      "numpy                  1.18.5\n",
      "oauthlib               3.1.0\n",
      "opencv-python          4.4.0.44\n",
      "opt-einsum             3.3.0\n",
      "packaging              20.4\n",
      "pandas                 1.0.5\n",
      "pandocfilters          1.4.2\n",
      "parso                  0.7.0\n",
      "pexpect                4.8.0\n",
      "pickleshare            0.7.5\n",
      "Pillow                 7.2.0\n",
      "pip                    20.2.3\n",
      "prometheus-client      0.8.0\n",
      "prompt-toolkit         3.0.5\n",
      "protobuf               3.13.0\n",
      "psutil                 5.7.2\n",
      "ptyprocess             0.6.0\n",
      "pyasn1                 0.4.8\n",
      "pyasn1-modules         0.2.8\n",
      "pycryptodome           3.9.8\n",
      "pyglet                 1.5.0\n",
      "Pygments               2.6.1\n",
      "pyparsing              2.4.7\n",
      "pyrsistent             0.16.0\n",
      "pyserial               3.4\n",
      "python-dateutil        2.8.1\n",
      "pytz                   2020.1\n",
      "pyzmq                  19.0.1\n",
      "qtconsole              4.7.4\n",
      "QtPy                   1.9.0\n",
      "requests               2.24.0\n",
      "requests-oauthlib      1.3.0\n",
      "rsa                    4.6\n",
      "scikit-learn           0.23.2\n",
      "scipy                  1.5.2\n",
      "seaborn                0.11.0\n",
      "selenium               3.141.0\n",
      "Send2Trash             1.5.0\n",
      "setuptools             41.2.0\n",
      "six                    1.15.0\n",
      "sympy                  1.6.2\n",
      "tensorboard            2.3.0\n",
      "tensorboard-plugin-wit 1.7.0\n",
      "tensorflow             2.3.1\n",
      "tensorflow-estimator   2.3.0\n",
      "termcolor              1.1.0\n",
      "terminado              0.8.3\n",
      "testpath               0.4.4\n",
      "threadpoolctl          2.1.0\n",
      "torch                  1.6.0\n",
      "torchvision            0.7.0\n",
      "tornado                6.0.4\n",
      "traitlets              4.3.3\n",
      "urllib3                1.25.10\n",
      "virtualenv             20.0.33\n",
      "wcwidth                0.2.4\n",
      "webencodings           0.5.1\n",
      "Werkzeug               1.0.1\n",
      "wheel                  0.35.1\n",
      "widgetsnbextension     3.5.1\n",
      "wrapt                  1.12.1\n",
      "zipp                   3.1.0\n",
      "\u001b[33mWARNING: You are using pip version 20.2.3; however, version 20.2.4 is available.\n",
      "You should consider upgrading via the '/Library/Frameworks/Python.framework/Versions/3.7/bin/python3.7 -m pip install --upgrade pip' command.\u001b[0m\n"
     ]
    }
   ],
   "source": [
    "!pip list "
   ]
  },
  {
   "cell_type": "code",
   "execution_count": 2,
   "metadata": {},
   "outputs": [],
   "source": [
    "import numpy as np\n",
    "import matplotlib.pyplot as plt\n",
    "import sympy as sp"
   ]
  },
  {
   "cell_type": "markdown",
   "metadata": {},
   "source": [
    "## SQP solver\n",
    "\n",
    "reference: Numerical Optimization (Jorge Nocedal and Stephen J. Wright), Springer, 2006."
   ]
  },
  {
   "cell_type": "markdown",
   "metadata": {},
   "source": [
    "The purpose of this notebook is to visualize **Sequential Quadratic Programming** method both in line search and trust-region frameworks. \n",
    "\n",
    "SQP as an effective method for nonlinearly constrained optimization problem solves a sequence of quadratic optimization problems to approximate the solution of the original nonlinear problem. The solving strategies by applying active-set methods are bifold: IQP and EQP methods. The **inequality-constrained QP** (IQP) approach solves an inequality-constrained quadratic problem iteratively to compute a search step and update the estimate of the optimal active set. **Equality constrained QP** method separates the computations of search step and active set estimation by 1. first, generating an estimate of the optimal active set; 2. then, solving an equality-constrained quadratic program to find the search step."
   ]
  },
  {
   "cell_type": "markdown",
   "metadata": {},
   "source": [
    "Assumed that we are given an nonlinear optimization problem as following: \n",
    "$$\n",
    "\\begin{aligned}\n",
    "\\text{min} &f(x)\\\\\n",
    "\\text { subject to } c_{i}(x)&=0,  i \\in \\mathcal{E} \\\\\n",
    "c_{i}(x) &\\geq 0,  i \\in \\mathcal{I},\n",
    "\\end{aligned}\n",
    "$$\n",
    "where the objective function $f$ and constraint functions are smooth. \n",
    "The quadratic program for the given NLP problem could be derived by the Newton-KKT system with the assumption that the constraints Jacobian $A_k$ has full row rank (linearly independent constraints) and the Hessian of the Lagrangian is positive definite (second order sufficient optimality condition). The underlying idea is to replace the original nonlinear problem by the problem minimizing the Lagrangian, and then to make a quadratic approximation to the Lagrangian.\n",
    "\n",
    "The following quadratic problem is then solved in each iteration to update the step and the Lagrangian mupltiplier: $$\n",
    "\\begin{array}{rl}\n",
    "\\min _{p} & f_{k}+\\nabla f_{k}^{T} p+\\frac{1}{2} p^{T} \\nabla_{x x}^{2} \\mathcal{L}_{k} p \\\\\n",
    "\\text { subject to } & \\nabla c_{i}\\left(x_{k}\\right)^{T} p+c_{i}\\left(x_{k}\\right)=0, \\quad i \\in \\mathcal{E} \\\\\n",
    "& \\nabla c_{i}\\left(x_{k}\\right)^{T} p+c_{i}\\left(x_{k}\\right) \\geq 0, \\quad i \\in \\mathcal{I}.\n",
    "\\end{array}\n",
    "$$\n"
   ]
  },
  {
   "cell_type": "markdown",
   "metadata": {},
   "source": [
    "### Some important ingredients\n",
    "1. Handling in consistent linearizations: The linearized constriants of the original nonlinear constraints may give rise to an infeasible subproblem. Thus, we could reformulate the NLP as a $\\ell_1$ penalty problem.\n",
    "2. Full Quasi-Newton approximations: BFGS and SR1.\n",
    "    - BFGS: If Hession $\\nabla_{x x}^{2} \\mathcal{L}$ has negative eigenvalues, BFGS updating may not fulfilled the curvature condtion $s_{k}^{T} y_{k}>0$. We may skip the update if $s_{k}^{T} y_{k} \\geq \\theta s_{k}^{T} B_{k} s_{k}$ not satisfied, or, we could replace the $y_{k}$ in the standard BFGS by $r_{k}=\\theta_{k} y_{k}+\\left(1-\\theta_{k}\\right) B_{k} s_{k}$.\n",
    "    - SR1: A Good choice for a trust-region method, but not accept an indefinite Hessian approximation for a Line search method.\n",
    "3. Reduced-Hessian Quasi-Newton approximations: Find approximations to only the part of $\\nabla_{x x}^{2} \\mathcal{L}_{k}$ that affects the component of $p_k$ in the null space of $A_k$.\n",
    "4. Merit fucntions: control the step size in a line search method and determine whether the step should be accepted or rejected in a trust-region method. Many of merit functions could be applied, for example nonsmooth penalty functions and augmented Lagrangians.\n",
    "5. Second-order correction: To keep away from the Maratos effect by using the new step to approxiamte a second-order Taylor expandsion.\n"
   ]
  },
  {
   "cell_type": "markdown",
   "metadata": {},
   "source": [
    "### Line search SQP"
   ]
  },
  {
   "cell_type": "markdown",
   "metadata": {},
   "source": [
    "Step 1: Initialization: objective function, its first and second derivative (or approximated Hessian instead), constraint Jacobian, and constraint.\n",
    "\n",
    "Step 2: Solve the approximated squadratic program to get the step and Lagrange multiplier. \n",
    "\n",
    "Step 3: select $\\mu$ satisfying $\\mu \\geq \\frac{\\nabla f_{k}^{T} p_{k}+(\\sigma / 2) p_{k}^{T} \\nabla_{x x}^{2} \\mathcal{L}_{k} p_{k}}{(1-\\rho)\\left\\|c_{k}\\right\\|_{1}}$ for the merit function.\n",
    "\n",
    "Step 4: Select $\\alpha_k$ satisfying the sufficient decrease condition (Armijo condition).\n",
    "\n",
    "Step 5: Evaluation and jump to step 2"
   ]
  },
  {
   "cell_type": "markdown",
   "metadata": {},
   "source": [
    "### Trust-region SQP"
   ]
  },
  {
   "cell_type": "markdown",
   "metadata": {},
   "source": [
    "`TODO: finish it`"
   ]
  },
  {
   "cell_type": "code",
   "execution_count": 3,
   "metadata": {},
   "outputs": [],
   "source": [
    "# small number is to be recognized as zero to avoid numerical problem (owning to the calculation accuracy)\n",
    "tol_zero = 1e-10"
   ]
  },
  {
   "cell_type": "code",
   "execution_count": 4,
   "metadata": {},
   "outputs": [],
   "source": [
    "def active_set(ai, bi, x0):\n",
    "    '''\n",
    "    Initialize the active set for the given initial state.\n",
    "    Args:\n",
    "        ai: Left-hand side of the inequality constraints (Ni x Nx).\n",
    "        bi: right-hand side of the inequality constraints (Ni x 1).\n",
    "        x0: initial state (Nx x 1).\n",
    "        \n",
    "    Return:\n",
    "        active_set: rerturn the active set of the given inequality constraints at x0 (N_act x Nx).\n",
    "        inactive_set: rerturn the inactive set of the given inequality constraints at x0 (N_inact x Nx).\n",
    "    '''\n",
    "    n_active_row = (ai @ x0 - bi == 0).flatten()\n",
    "    n_inactive_row = ~ n_active_row\n",
    "    active_set = np.hstack((ai[n_active_row],bi[n_active_row]))\n",
    "    inactive_set = np.hstack((ai[n_inactive_row],bi[n_inactive_row]))\n",
    "    return active_set,inactive_set"
   ]
  },
  {
   "cell_type": "code",
   "execution_count": 5,
   "metadata": {},
   "outputs": [],
   "source": [
    "def QP_subproblem(G, c, ws, xk):\n",
    "    \n",
    "    '''\n",
    "    Solve the QP subproblem for Newton-KKT system.\n",
    "    Args:\n",
    "        G: Weigting matrix of quadratic terms (Nx x Nx).\n",
    "        c: Weigting matrix of linear terms (Nx x 1).\n",
    "        ws: working space ( (Ne + N_active) x (Nx + 1)).\n",
    "        xk: Curret state (Nx x 1).\n",
    "        \n",
    "    Return:\n",
    "        pk: search step (Nx x 1). \n",
    "        lambda_k: Lagrangian multiplier ( (Ne + N_active) x 1\n",
    "    '''\n",
    "    \n",
    "    \n",
    "    Nx = np.shape(xk)[0]\n",
    "    Nlambda = np.shape(ws)[0]\n",
    "    \n",
    "    A = ws[:,0:-1]\n",
    "    \n",
    "    gk = G @ xk + c\n",
    "    rhs = np.vstack((-gk,np.zeros([Nlambda,1])))\n",
    "    lhs = np.vstack((np.hstack((G,-A.T)),np.hstack((A,np.zeros([Nlambda,Nlambda])))))\n",
    "    sol = np.linalg.inv(lhs) @ rhs\n",
    "    sol[abs(sol) < tol_zero] = 0.0\n",
    "    return sol[:Nx,:],sol[Nx:,:]"
   ]
  },
  {
   "cell_type": "code",
   "execution_count": 6,
   "metadata": {},
   "outputs": [],
   "source": [
    "def QP_activeset(G, c, ae = None, be = None, ai= None, bi= None, x0 = None):\n",
    "    '''\n",
    "    Solve the convex QP problem with active-set method\n",
    "    Args:\n",
    "        G: Weigting matrix of quadratic terms (Nx x Nx).\n",
    "        c: Weigting matrix of linear terms (Nx x 1).\n",
    "        ae: Left-hand side of the equality constraints (Ne x Nx).\n",
    "        be: Right-hand side of the equality constraints  (Ne x 1).\n",
    "        ai: Left-hand side of the inequality constraints (Ni x Nx).\n",
    "        bi: Right-hand side of the inequality constraints (Ni x 1).        \n",
    "        x0: Initial state (Nx x 1).    \n",
    "    \n",
    "    Returns: \n",
    "        xk: Optimial state.\n",
    "    \n",
    "    TODO:\n",
    "        1. deal with infeasible initial point.\n",
    "        2. Select another algorithm for the QP subproblem.\n",
    "        3. Tranform into C code.\n",
    "        4. Visualization.\n",
    "        5. Find a better way to deal with the empty set.\n",
    "        6. If G is singular, cannot use the inverse function. -> use Newton-Raphson method instead.\n",
    "    '''\n",
    "        \n",
    "    # Test if the given initial point is feasible.\n",
    "    Nx = np.shape(G)[0]\n",
    "    if x0 is None:\n",
    "        x0 = np.zeros(Nx).reshape(-1,1)\n",
    "    else:\n",
    "        x0 = np.reshape(x0,(-1,1))\n",
    "    if ae is not None:\n",
    "        if not np.all(ae @ x0 - be == 0):\n",
    "            print(\"Error\")\n",
    "            return None\n",
    "    if ai is not None:\n",
    "        if not np.all(ai @ x0 - bi >= 0):\n",
    "            print(\"Error\")\n",
    "            return None\n",
    "    xk = x0\n",
    "    \n",
    "    #initialization.\n",
    "\n",
    "    if ae is not None:\n",
    "        Ne = np.shape(ae)[0]\n",
    "    else:\n",
    "        Ne = 0\n",
    "    if ai is not None:\n",
    "        Ni = np.shape(ai)[0]\n",
    "        # Return which set is active. Empty array if none inequality constraint is active.\n",
    "        ws_active, ws_inactive = active_set(ai, bi, xk)\n",
    "    else:\n",
    "        Ni = 0 \n",
    "        ws_active = np.array([], dtype=np.int).reshape(0,Nx+1)\n",
    "        ws_inactive = np.array([], dtype=np.int).reshape(0,Nx+1)\n",
    "\n",
    "    if ae is None:\n",
    "        we = np.array([], dtype=np.int).reshape(0,Nx+1)\n",
    "    else:\n",
    "        we = np.hstack((ae,be))\n",
    "\n",
    "\n",
    "    # Define working space = equality constraints + active inequality constraints.\n",
    "    ws = np.vstack((we,ws_active))\n",
    "    \n",
    "    while(True):\n",
    "        # Solve QP subproblem.\n",
    "        pk,lambda_k = QP_subproblem(G,c,ws,xk)\n",
    "        # Seperate the Lagrangian multiplier into two parts for equality constraints and inequality constraints. \n",
    "        if np.shape(lambda_k)[0] > Ne:\n",
    "            lambda_inequality = lambda_k[Ne:,:]\n",
    "        else:\n",
    "            lambda_inequality = np.array([], dtype=np.int).reshape(0,1)\n",
    "        n_zero = Nx - np.count_nonzero(pk)\n",
    "        # If search step vector has only element with 0 value. \n",
    "        if n_zero == Nx:\n",
    "            # p statisfies the optimality conditions, check the signs of the multipliers.\n",
    "            if np.all(lambda_inequality >= 0):\n",
    "                print(\"solution find\")\n",
    "                return xk, lambda_k\n",
    "            else:\n",
    "                # Droping the working constraint with most negative value.\n",
    "                n_min = np.argmin(lambda_inequality)\n",
    "                row_del = ws_active[n_min,:]\n",
    "                ws_active = np.delete(ws_active, (n_min), axis=0)\n",
    "                ws_inactive = np.vstack((ws_inactive, row_del))\n",
    "                ws = np.vstack((we,ws_active))\n",
    "        # p vector not zero -> calculate the search length alpha.\n",
    "        else:\n",
    "            # Yield alpha value.\n",
    "            alpha_k = 1\n",
    "            for i,row in enumerate(ws_inactive):\n",
    "                b = row[-1]\n",
    "                a = row[:-1]\n",
    "                if (a @ pk)[0] < 0:\n",
    "                    v_tmp = (( b - a @ xk )/ (a @ pk))[0]\n",
    "                    if v_tmp < 1:\n",
    "                        n_constraint = i\n",
    "                        alpha_k = v_tmp\n",
    "            if alpha_k == 1:\n",
    "                xk = xk + pk * alpha_k\n",
    "            # If not a full step, include the most restrive inactive constraint into working space.\n",
    "            else:\n",
    "                row_inc = ws_inactive[n_constraint,:]\n",
    "                ws_active = np.vstack( (ws_active, row_inc))\n",
    "                ws_inactive = np.delete(ws_inactive, (n_constraint), axis=0)\n",
    "                ws = np.vstack((we,ws_active))\n",
    "                xk = xk + pk * alpha_k"
   ]
  },
  {
   "cell_type": "markdown",
   "metadata": {},
   "source": [
    "### Local SQP "
   ]
  },
  {
   "cell_type": "code",
   "execution_count": 7,
   "metadata": {},
   "outputs": [],
   "source": [
    "def sp_sub(var,value):\n",
    "    if np.ndim(value) == 2:\n",
    "        value = value.flatten()\n",
    "    \n",
    "    return list(zip(var,value))"
   ]
  },
  {
   "cell_type": "code",
   "execution_count": 19,
   "metadata": {},
   "outputs": [],
   "source": [
    "def SQP_solver(var, obj, lambda_0 = None, x0 = None ,ce = None, ci = None, solver = 'sqp_local', eps = 1e-6):\n",
    "    '''\n",
    "    Solve the convex nonlinear problem with SQP (QP subproblem solved by an active-set method)\n",
    "    Args:\n",
    "        var: Decision variables in Sympy symbols (Nx x 1).\n",
    "        obj: Objective function in Sympy containing symbolic variables (1 x 1).\n",
    "        lambda_0: Initial guess of Lagrangian Multiplier ( (Ne + Ni) x 1).\n",
    "        x0: Initial state (Nx x 1).\n",
    "        ce: Equality constraints in sympy Matrix (Ne x 1).\n",
    "        ci: Inequality constraints in sympy Matrix (Ni x 1)   \n",
    "        solver: Type of sqp solver. Default local SQP solver.\n",
    "        eps: Tolerance for convergence test.\n",
    "    Returns: \n",
    "        xk: Optimial decision variable vector.\n",
    "    TODO: \n",
    "    1. Deal with unconstrained problem\n",
    "    2. Deal with only equality or inequality constraint problem\n",
    "    3. Line search SQP\n",
    "    4. Trust region SQP\n",
    "    '''     \n",
    "    # Initialization   \n",
    "    # Decide SQP solver\n",
    "    if solver is 'sqp_local':\n",
    "        print(\"Solving with the local SQP algorithm\")\n",
    "\n",
    "    # Determine the number of decision variables, equality constraints and inequality constraints. \n",
    "    Nx = np.shape(var)[0]\n",
    "    # Test if the given initial point is feasible.\n",
    "    if x0 is None:\n",
    "        x0 = np.zeros(Nx).reshape(-1,1)\n",
    "    if ce is not None:\n",
    "        if not np.all(np.array(ce.subs(sp_sub(x_vec, x0))) == 0):\n",
    "            print(\"Error\")\n",
    "            return None\n",
    "        Ne = np.shape(ce)[0]\n",
    "    else:\n",
    "        Ne = 0\n",
    "    if ci is not None:\n",
    "        if not np.all(np.array(ci.subs(sp_sub(x_vec, x0))) >= 0):\n",
    "            print(\"Error\")\n",
    "            return None\n",
    "        Ni = np.shape(ci)[0]\n",
    "    else:\n",
    "        Ni = 0\n",
    "    xk = x0\n",
    "    # Initialize the Lagrangian Multipliers\n",
    "    if lambda_0 is None:\n",
    "        lambda_0 = np.zeros(Ne + Ni).reshape(-1,1)\n",
    "    lambda_k = lambda_0\n",
    "    \n",
    "    # Initialize the objective fn, linearized obj, Hessian, and linearized constraints.\n",
    "    c_symb = ci.row_insert(0,ce)    #  (Ne + Ni) x 1\n",
    "    c_jac_symb = c_symb.jacobian(var)    #  (Ne + Ni) x Nx\n",
    "    lambda_symb = sp.Matrix( sp.symbols('lambda0:' + str(Ne+Ni)))    \n",
    "    f_jac_symb = obj.jacobian(var).T # column vector    \n",
    "    L_symb = f_jac_symb - c_jac_symb.T @ lambda_symb\n",
    "    L_hessian_xx_symb = L_symb.jacobian(var)\n",
    "    \n",
    "    while(True):\n",
    "        # Sensitivity evaluation.\n",
    "        ck = c_symb.subs(sp_sub(var, xk))\n",
    "        c_jac_k = c_jac_symb.subs(sp_sub(var, xk))    #  (Ne + Ni) x Nx\n",
    "        fk = obj.subs(sp_sub(var, xk))\n",
    "        f_jac_k = f_jac_symb.subs(sp_sub(var, xk))\n",
    "        L_hessian_xx_k = L_hessian_xx_symb.subs(sp_sub(var, xk)).subs(sp_sub(lambda_symb,lambda_k))\n",
    "\n",
    "        # Set as float to avoid problem raised in np.linalg.inv.\n",
    "        # Reconstruct and reshape all the matrix for active-set method QP solver.\n",
    "#         G = np.array(L_hessian_xx_k,dtype ='float')\n",
    "#         c = np.array(f_jac_k,dtype ='float')\n",
    "#         ae = np.array(c_jac_k,dtype ='float')[:Ne,:]\n",
    "#         ai = np.array(c_jac_k,dtype ='float')[Ne:,:]\n",
    "\n",
    "#         be = - np.array(ck,dtype ='float' )[:Ne,:]\n",
    "#         bi = - np.array(ck,dtype ='float')[Ne:,:]\n",
    "\n",
    "        G = np.array(L_hessian_xx_k).astype(float)\n",
    "        c = np.array(f_jac_k).astype(float)\n",
    "        ae = np.array(c_jac_k)[:Ne,:].astype(float)\n",
    "        ai = np.array(c_jac_k)[Ne:,:].astype(float)\n",
    "\n",
    "        be = - np.array(ck)[:Ne,:].astype(float)\n",
    "        bi = - np.array(ck)[Ne:,:].astype(float)\n",
    "        be[abs(be) < tol_zero] = 0.0    #  This line is ugly...but if the rhs is a small number like 1e-16, make the initial condition infeasible.\n",
    "        p,lambda_k = QP_activeset(G, c, ae = ae, be = be, ai = ai, bi= bi, x0 = None)\n",
    "        x_old = xk\n",
    "        xk = xk + p\n",
    "        if(np.linalg.norm(x_old - xk) < eps):\n",
    "            return xk"
   ]
  },
  {
   "cell_type": "markdown",
   "metadata": {},
   "source": [
    "### Test 1\n",
    "$$\n",
    "\\begin{aligned}\n",
    "\\min _{x} q(x)  =\\left(x_{1}\\right)^{2}+& \\left(x_{2}\\right)^{2} + \\left(x_{3}\\right)^{2}\\\\\n",
    "\\text { subject to }  x_{1} + x_{2} + x_{2}  & = 1 \\\\\n",
    "                      x_{1}   & \\geq 1 \n",
    "\\end{aligned}\n",
    "$$"
   ]
  },
  {
   "cell_type": "code",
   "execution_count": 20,
   "metadata": {},
   "outputs": [],
   "source": [
    "x = sp.symbols('x0:3')\n",
    "x_vec = sp.Matrix([x[0],x[1],x[2]])\n",
    "P = np.diag([1,1,1])\n",
    "obj_vec = x_vec.T @ np.diag([1,1,1]) @ x_vec\n",
    "obj = obj_vec\n",
    "\n",
    "ce = sp.Matrix([x[0]+x[1]+x[2]-1])\n",
    "ci = sp.Matrix([x[0]])\n",
    "\n",
    "x0 = np.array([1,0,0]).reshape(-1,1)"
   ]
  },
  {
   "cell_type": "code",
   "execution_count": 21,
   "metadata": {},
   "outputs": [
    {
     "name": "stdout",
     "output_type": "stream",
     "text": [
      "Solving with the local SQP algorithm\n",
      "solution find\n",
      "solution find\n"
     ]
    },
    {
     "data": {
      "text/plain": [
       "array([[0.33333333],\n",
       "       [0.33333333],\n",
       "       [0.33333333]])"
      ]
     },
     "execution_count": 21,
     "metadata": {},
     "output_type": "execute_result"
    }
   ],
   "source": [
    "x_opt = SQP_solver(x_vec, obj,ce = ce, ci = ci,x0 =x0 )\n",
    "x_opt"
   ]
  },
  {
   "cell_type": "markdown",
   "metadata": {},
   "source": [
    "### Test 2\n",
    "$$\n",
    "\\begin{aligned}\n",
    "\\min _{x} q(x)  =\\left(\\sin(x_{1})\\right)^{2}+& \\left(x_{2}\\right)^{2} + \\left(x_{3}\\right)^{2}\\\\\n",
    "\\text { subject to }  x_{1} + x_{2} + x_{2}  & = 1 \\\\\n",
    "                      x_{1}   & \\geq 0 \\\\ \n",
    "                      x_{1}   & \\leq 1 \n",
    "\\end{aligned}\n",
    "$$"
   ]
  },
  {
   "cell_type": "code",
   "execution_count": 22,
   "metadata": {},
   "outputs": [],
   "source": [
    "x = sp.symbols('x0:3')\n",
    "x_vec = sp.Matrix([x[0],x[1],x[2]])\n",
    "obj_vec = sp.Matrix([sp.sin(x[0])**2+x[1]*x[1]+x[2]*x[2]])\n",
    "obj = obj_vec\n",
    "\n",
    "ce = sp.Matrix([x[0]+x[1]+x[2]-1])\n",
    "ci = sp.Matrix([x[0],-x[0]+1])\n",
    "\n",
    "x0 = np.array([0,1.5,-0.5]).reshape(-1,1)"
   ]
  },
  {
   "cell_type": "code",
   "execution_count": 23,
   "metadata": {},
   "outputs": [
    {
     "name": "stdout",
     "output_type": "stream",
     "text": [
      "Solving with the local SQP algorithm\n",
      "solution find\n",
      "solution find\n",
      "solution find\n",
      "solution find\n"
     ]
    },
    {
     "data": {
      "text/plain": [
       "array([[0.35228846],\n",
       "       [0.32385577],\n",
       "       [0.32385577]])"
      ]
     },
     "execution_count": 23,
     "metadata": {},
     "output_type": "execute_result"
    }
   ],
   "source": [
    "x_opt = SQP_solver(x_vec, obj,ce = ce, ci = ci,x0 =x0 )\n",
    "x_opt"
   ]
  },
  {
   "cell_type": "markdown",
   "metadata": {},
   "source": [
    "### Test 3\n",
    "$$\n",
    "\\begin{aligned}\n",
    "\\min _{x} q(x)  =\\left(\\sin(x_{1})\\right)+& \\left(x_{2}\\right)^{2} + \\left(x_{3}\\right)^{2}\\\\\n",
    "\\text { subject to }  x_{1} + x_{2} + x_{2}  & = 1 \\\\\n",
    "                      x_{1}   & \\geq 0 \\\\ \n",
    "                      x_{1}   & \\leq 1 \n",
    "\\end{aligned}\n",
    "$$"
   ]
  },
  {
   "cell_type": "code",
   "execution_count": 24,
   "metadata": {},
   "outputs": [],
   "source": [
    "x = sp.symbols('x0:3')\n",
    "x_vec = sp.Matrix([x[0],x[1],x[2]])\n",
    "obj_vec = sp.Matrix([sp.sin(x[0])+x[1]*x[1]+x[2]*x[2]])\n",
    "obj = obj_vec\n",
    "\n",
    "ce = sp.Matrix([x[0]+x[1]+x[2]-1])\n",
    "ci = sp.Matrix([x[0],-x[0]+1])\n",
    "\n",
    "x0 = np.array([0,1.5,-0.5]).reshape(-1,1)"
   ]
  },
  {
   "cell_type": "code",
   "execution_count": 25,
   "metadata": {},
   "outputs": [
    {
     "name": "stdout",
     "output_type": "stream",
     "text": [
      "Solving with the local SQP algorithm\n",
      "solution find\n",
      "solution find\n"
     ]
    },
    {
     "data": {
      "text/plain": [
       "array([[0. ],\n",
       "       [0.5],\n",
       "       [0.5]])"
      ]
     },
     "execution_count": 25,
     "metadata": {},
     "output_type": "execute_result"
    }
   ],
   "source": [
    "x_opt = SQP_solver(x_vec, obj,ce = ce, ci = ci,x0 =x0 )\n",
    "x_opt"
   ]
  },
  {
   "cell_type": "markdown",
   "metadata": {},
   "source": [
    "### Line search SQP"
   ]
  },
  {
   "cell_type": "markdown",
   "metadata": {},
   "source": [
    "### Trust region SQP"
   ]
  }
 ],
 "metadata": {
  "kernelspec": {
   "display_name": "Python 3",
   "language": "python",
   "name": "python3"
  },
  "language_info": {
   "codemirror_mode": {
    "name": "ipython",
    "version": 3
   },
   "file_extension": ".py",
   "mimetype": "text/x-python",
   "name": "python",
   "nbconvert_exporter": "python",
   "pygments_lexer": "ipython3",
   "version": "3.7.7"
  }
 },
 "nbformat": 4,
 "nbformat_minor": 4
}
