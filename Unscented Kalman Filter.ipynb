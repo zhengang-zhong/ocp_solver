{
 "cells": [
  {
   "cell_type": "code",
   "execution_count": 1,
   "metadata": {},
   "outputs": [],
   "source": [
    "import casadi as ca\n",
    "import numpy as np\n",
    "from scipy.linalg import sqrtm\n",
    "import matplotlib.pyplot as plt"
   ]
  },
  {
   "cell_type": "markdown",
   "metadata": {},
   "source": [
    "## Unscented Kalman filter"
   ]
  },
  {
   "cell_type": "markdown",
   "metadata": {},
   "source": [
    "Since EKF propogate the mean and covariance of the state on the basis of the linearization, the estimation of EKF would be erroneous if the system is highly nonlinear. The unscented Kalman filter (UKF) significantly diminishes the linearization errors brought by EKF.  "
   ]
  },
  {
   "cell_type": "markdown",
   "metadata": {},
   "source": [
    "The underlying idea of UKF is that we use the unscented transformation to propogate the mean and covariance of a system for each time update and measurement update, whereas the EKF uses linearization instead. "
   ]
  },
  {
   "cell_type": "markdown",
   "metadata": {},
   "source": [
    "reference: Dan Siomon, Optimal State Estimation."
   ]
  },
  {
   "cell_type": "markdown",
   "metadata": {},
   "source": [
    "### UKF alogrithm"
   ]
  },
  {
   "cell_type": "markdown",
   "metadata": {},
   "source": [
    "#### Step1: Define a discrete-time nonlinear system\n",
    "<center>\n",
    "$$\\begin{aligned} x_{k+1} &=f\\left(x_{k}, u_{k}, t_{k}\\right)+w_{k} \\\\ y_{k} &=h\\left(x_{k}, t_{k}\\right)+v_{k} \\\\ w_{k} & \\sim\\left(0, Q_{k}\\right) \\\\ v_{k} & \\sim\\left(0, R_{k}\\right), \\end{aligned}$$\n",
    "</center>\n",
    "where the state $x_k$ is a vector with $n$ elements. The noise processes ${w_k}$ and ${v_k}$ are white, zero-mean, uncorrelated, and have known covariance matriced $Q_k$ and $R_k$."
   ]
  },
  {
   "cell_type": "markdown",
   "metadata": {},
   "source": [
    "#### Step 2: Initialize the UKF\n",
    "<center>\n",
    "$\\begin{aligned} \\hat{x}_{0}^{+} &=E\\left(x_{0}\\right) \\\\ P_{0}^{+} &=E\\left[\\left(x_{0}-\\hat{x}_{0}^{+}\\right)\\left(x_{0}-\\hat{x}_{0}^{+}\\right)^{T}\\right] \\end{aligned}$    \n",
    "<center>"
   ]
  },
  {
   "cell_type": "markdown",
   "metadata": {},
   "source": [
    "#### Step 3: Time update\n",
    "The state estimate and covriance are propogated from $\\hat{x}_{k-1}$ to $\\hat{x}_{k}$.\n",
    "\n",
    "1. Choose $2n$ sigma points $\\hat{x}^{(i)}_{k-1}$ for the best mean and covariance guess at time instant $k$ based on the estimation at $k-1$.\n",
    "<center>\n",
    "    $\\begin{aligned} \\hat{x}_{k-1}^{(i)} &=\\hat{x}_{k-1}^{+}+\\tilde{x}^{(i)} \\quad i=1, \\cdots, 2 n \\\\ \\tilde{x}^{(i)} &=\\left(\\sqrt{n P_{k-1}^{+}}\\right)_{i}^{T} \\quad i=1, \\cdots, n \\\\ \\tilde{x}^{(n+i)} &=-\\left(\\sqrt{n P_{k-1}^{+}}\\right)_{i}^{T} \\quad i=1, \\cdots, n \\end{aligned}$\n",
    "<center>"
   ]
  },
  {
   "cell_type": "markdown",
   "metadata": {},
   "source": [
    "2. Tranform the simga points $\\hat{x}_{k-1}^{(i)}$ into $\\hat{x}^{(i)}_{k}$ vectors using the given nonlinear system $f\\left(x_{k}, u_{k}, t_{k}\\right)$ in the first step.\n",
    "<center>\n",
    "    $\\hat{x}_{k}^{(i)}=f\\left(\\hat{x}_{k-1}^{(i)}, u_{k}, t_{k}\\right)$    \n",
    "<center>"
   ]
  },
  {
   "cell_type": "markdown",
   "metadata": {},
   "source": [
    "3. Make a weighted average of $\\hat{x}_k^{(i)}$ to acquire the the a priori state estimate at the time instant $k$ (here assigned equal weight).\n",
    "<center>\n",
    "    $\\hat{x}_{k}^{-}=\\frac{1}{2 n} \\sum_{i=1}^{2 n} \\hat{x}_{k}^{(i)}$\n",
    "<center>"
   ]
  },
  {
   "cell_type": "markdown",
   "metadata": {},
   "source": [
    "4. Update the a priori error covariance with the concideration of the process noise $Q_{k-1}$.\n",
    "<center>\n",
    "    $P_{k}^{-}=\\frac{1}{2 n} \\sum_{i=1}^{2 n}\\left(\\hat{x}_{k}^{(i)}-\\hat{x}_{k}^{-}\\right)\\left(\\hat{x}_{k}^{(i)}-\\hat{x}_{k}^{-}\\right)^{T}+Q_{k-1}$\n",
    "<center>\n",
    "    "
   ]
  },
  {
   "cell_type": "markdown",
   "metadata": {},
   "source": [
    "#### Step 4: Measurement update"
   ]
  },
  {
   "cell_type": "markdown",
   "metadata": {},
   "source": [
    "1. Choose $2n$ sigma points $\\hat{x}_k^{(i)}$.\n",
    "<center>\n",
    "    $\\begin{aligned} \\hat{x}_{k}^{(i)} &=\\hat{x}_{k}^{-}+\\tilde{x}^{(i)} \\quad i=1, \\cdots, 2 n \\\\ \\tilde{x}^{(i)} &=\\left(\\sqrt{n P_{k}^{-}}\\right)_{i}^{T} \\quad i=1, \\cdots, n \\\\ \\tilde{x}^{(n+i)} &=-\\left(\\sqrt{n P_{k}^{-}}\\right)_{i}^{T} \\quad i=1, \\cdots, n \\end{aligned}$\n",
    "<center>\n",
    "\n",
    "    This step could be omitted for saving computational effort; instead, reuse the result from step 3.2. "
   ]
  },
  {
   "cell_type": "markdown",
   "metadata": {},
   "source": [
    "2. Tranform the sigma points into the predicted mearsurements $\\hat{y}_k^{(i)}$.\n",
    "<center>\n",
    "    $\\hat{y}_{k}^{(i)}=h\\left(\\hat{x}_{k}^{(i)}, t_{k}\\right)$\n",
    "    \n",
    "<center>"
   ]
  },
  {
   "cell_type": "markdown",
   "metadata": {},
   "source": [
    "3. \n",
    "Make a weighted average of the predicted measurements as in the step 2.3.\n",
    "<center>\n",
    "    $\\hat{y}_{k}=\\frac{1}{2 n} \\sum_{i=1}^{2 n} \\hat{y}_{k}^{(i)}$\n",
    "<center>"
   ]
  },
  {
   "cell_type": "markdown",
   "metadata": {},
   "source": [
    "4. Estimate the covavriance of the predicted measurement with the consideration of the measurement noise $R_k$.\n",
    "<center>\n",
    "$P_{y}=\\frac{1}{2 n} \\sum_{i=1}^{2 n}\\left(\\hat{y}_{k}^{(i)}-\\hat{y}_{k}\\right)\\left(\\hat{y}_{k}^{(i)}-\\hat{y}_{k}\\right)^{T}+R_{k}$\n",
    "<center>"
   ]
  },
  {
   "cell_type": "markdown",
   "metadata": {},
   "source": [
    "5. Estimate the cross covariance between $\\hat{x}_{k}^{-}$ and $\\hat{y}_{k}$.\n",
    "<center>\n",
    "$P_{x y}=\\frac{1}{2 n} \\sum_{i=1}^{2 n}\\left(\\hat{x}_{k}^{(i)}-\\hat{x}_{k}^{-}\\right)\\left(\\hat{y}_{k}^{(i)}-\\hat{y}_{k}\\right)^{T}$\n",
    "<center>"
   ]
  },
  {
   "cell_type": "markdown",
   "metadata": {},
   "source": [
    "6. Update the a posteriori estimate.\n",
    "<center>\n",
    "    $\\begin{aligned} K_{k} &=P_{x y} P_{y}^{-1} \\\\ \\hat{x}_{k}^{+} &=\\hat{x}_{k}^{-}+K_{k}\\left(y_{k}-\\hat{y}_{k}\\right) \\\\ P_{k}^{+} &=P_{k}^{-}-K_{k} P_{y} K_{k}^{T} \\end{aligned}$\n",
    "<center>"
   ]
  },
  {
   "cell_type": "code",
   "execution_count": 2,
   "metadata": {},
   "outputs": [],
   "source": [
    "def RK4_ca(f, x, u, t, h):\n",
    "    \"\"\"\n",
    "    Runge-Kutta 4th order solver using casadi.\n",
    "\n",
    "    Args:\n",
    "        f: First order ODE in casadi function (Nx + Nt -> Nx).\n",
    "        x: Current value (list or numpy array). \n",
    "        t: Current time.\n",
    "        h: Step length.\n",
    "    Returns:\n",
    "        x_next: Vector of next value in casadi DM\n",
    "    \"\"\"\n",
    "    k1 = f(x, u, t)\n",
    "    k2 = f(x + h / 2 * k1, u, t + h / 2)\n",
    "    k3 = f(x + h / 2 * k2, u, t + h / 2)\n",
    "    k4 = f(x + h * k3, u, t + h)\n",
    "    x_next = x + h / 6 * (k1 + 2 * k2 + 2 * k3 + k4)\n",
    "    return x_next"
   ]
  },
  {
   "cell_type": "code",
   "execution_count": 3,
   "metadata": {},
   "outputs": [],
   "source": [
    "def UKF(f, h, x0, P0, Q0, y1, u1, t1, R1):\n",
    "    '''\n",
    "    Unscented Kalman filter. Update the estimate for the step k by using \n",
    "    the estimate at the step k-1. Footnote 0 means the value of the last step,\n",
    "    and 1 means the value of the current step.\n",
    "    \n",
    "    Args:\n",
    "    \n",
    "        f: Nominal time discrete function in casadi.Function \n",
    "           (x_k, u_k, t_k -> x_{k+1}). \n",
    "        h: Nominal measurement function in casadi.Function.\n",
    "           (x_k, t_k -> y_k).\n",
    "        x0: State estimate of the last step (x_{k-1}).\n",
    "        P0: Covariance Estimate of the last step (P_{k-1}).\n",
    "        Q0: Covariance matrix of the process noises of the last step Q_{k-1}.\n",
    "        y1: Measurement at the step k.\n",
    "        u1: Input at the step k.\n",
    "        t1: Time at the step k.\n",
    "        R1: Covariance matrix of the measurement noises of the current step.\n",
    "\n",
    "    TODO:\n",
    "        1. P may need to be symmetrized: (P+P.T)/2\n",
    "        2. \n",
    "    \n",
    "    Return:\n",
    "        x1_aposteriori: A posteriori estimate of the state\n",
    "        P1_aposteriori: A posteriori estimate of the covariance matrix\n",
    "    '''\n",
    "    # Initialization\n",
    "    # Transfer x0 in casadi.casadi.DM\n",
    "    if isinstance(x0,list) or isinstance(x0,np.ndarray):\n",
    "        x0_DM = ca.DM(x0)\n",
    "    else:\n",
    "        x0_DM = x0\n",
    "    # Transfer P0 in casadi.casadi.DM\n",
    "    if isinstance(P0,list) or isinstance(P0,np.ndarray):\n",
    "        P0_DM = ca.DM(P0)\n",
    "    else:\n",
    "        P0_DM = P0\n",
    "\n",
    "    Nx = x0_DM.shape[0]    \n",
    "    Ny = np.shape(y1)[0]\n",
    "\n",
    "    # TIME UPDATE\n",
    "    # Choose 2n sigma points \\hat{x}_{k-1}^{(i)} given the P_{k-1}^{+}\n",
    "    x_tilde_matrix_temp = ca.DM(sqrtm(Nx*P0_DM)).T\n",
    "    x_tilde_matrix = ca.horzcat(x_tilde_matrix_temp,-x_tilde_matrix_temp)\n",
    "    x0_hat_matrix = x0_DM + x_tilde_matrix\n",
    "    \n",
    "    # transform the sigma points into x_k^{(i)}} \n",
    "    x1_hat_matrix = ca.DM.zeros(Nx,2*Nx)\n",
    "    for i in range(2*Nx):\n",
    "        x1_hat_matrix[:,i] = f(x0_hat_matrix[:,i], u1, t1)\n",
    "        \n",
    "    # calculate the a priori state estimate \n",
    "    x1_apriori = ca.DM.zeros(Nx)\n",
    "    for i in range(2*Nx):\n",
    "        x1_apriori += x1_hat_matrix[:,i]\n",
    "    x1_apriori = x1_apriori/(2*Nx)\n",
    "\n",
    "    # estimate a priori error covariance\n",
    "    P1_apriori = ca.DM.zeros(Nx,Nx)\n",
    "    for i in range(2*Nx):\n",
    "        P1_apriori += (x1_hat_matrix[:,i] - x1_apriori) @ (x1_hat_matrix[:,i] - x1_apriori).T\n",
    "    P1_apriori = P1_apriori/(2*Nx) + Q0\n",
    "\n",
    "    \n",
    "    #MEASUREMENT UPDATE\n",
    "    # Choose 2n sigma points \\hat{x}_{k}^{(i)} given the P_{k}^{-}\n",
    "    x_tilde_matrix_temp = ca.DM(sqrtm(Nx*P1_apriori)).T\n",
    "    x_tilde_matrix = ca.horzcat(x_tilde_matrix_temp,-x_tilde_matrix_temp)\n",
    "    x1_hat_matrix = x1_apriori + x_tilde_matrix\n",
    "    # transform the sigma points into y_{k}^{(i)}} \n",
    "    y1_hat_matrix = ca.DM.zeros(Ny,2*Nx)\n",
    "    for i in range(2*Nx):\n",
    "        y1_hat_matrix[:,i] = h(x1_hat_matrix[:,i], t1)\n",
    "    \n",
    "    y1_hat = ca.DM.zeros(Ny)\n",
    "    for i in range(2*Nx):\n",
    "        y1_hat += y1_hat_matrix[:,i]\n",
    "    y1_hat = y1_hat/(2*Nx)    \n",
    "    \n",
    "    \n",
    "    # Covariance estimate\n",
    "    Py = ca.DM.zeros(Ny,Ny)\n",
    "    for i in range(2*Nx):\n",
    "        Py += (y1_hat_matrix[:,i] - y1_hat) @ (y1_hat_matrix[:,i] - y1_hat).T\n",
    "    Py = Py/(2*Nx) + R1\n",
    "\n",
    "    Pxy = ca.DM.zeros(Nx,Ny)\n",
    "    for i in range(2*Nx):\n",
    "        Pxy += (x1_hat_matrix[:,i] - x1_apriori) @ (y1_hat_matrix[:,i] - y1_hat).T\n",
    "    Pxy = Pxy/(2*Nx) \n",
    "\n",
    "    \n",
    "    # a posteriori estimate\n",
    "    K1 =  Pxy @ np.linalg.inv(Py)\n",
    "    x1_aposteriori = x1_apriori + K1 @ (y1 - y1_hat)\n",
    "    P1_aposteriori = P1_apriori - K1 @ Py @ K1.T\n",
    "\n",
    "    return x1_aposteriori, P1_aposteriori"
   ]
  },
  {
   "cell_type": "code",
   "execution_count": 4,
   "metadata": {},
   "outputs": [],
   "source": [
    "def ca_to_list_1d(ca_data):\n",
    "    return np.array(ca_data).reshape(1, -1).flatten().tolist()"
   ]
  },
  {
   "cell_type": "markdown",
   "metadata": {},
   "source": [
    "#### Example: Range meansurement \n",
    "(From the book optimal state estimation, Page 451)\n",
    "<center>\n",
    "$\\begin{aligned} x_{1} &=x_{2}+w_{1} \\\\ \\dot{x}_{2} &=\\rho_{0} \\exp \\left(-x_{1} / k\\right) x_{2}^{2} x_{3} / 2-g+w_{2} \\\\ \\dot{x}_{3} &=w_{3} \\\\ y\\left(t_{k}\\right) &=\\sqrt{M^{2}+\\left(x_{1}\\left(t_{k}\\right)-a\\right)^{2}}+v_{k} \\end{aligned}$\n",
    "<center>"
   ]
  },
  {
   "cell_type": "code",
   "execution_count": 5,
   "metadata": {},
   "outputs": [],
   "source": [
    "def ode_nominal(x, u, t):\n",
    "    \"\"\"\n",
    "    Nominal time-continuous model \n",
    "    \"\"\"\n",
    "    # Parameter konfiguration\n",
    "    rho_0 = 2    # [1b-sec^{2}/ft^{4}]\n",
    "    g = 32.2    # [ft/sec^{2}]\n",
    "    k = 2e4    # [ft]\n",
    "    E_v = 1e4    # [ft2]\n",
    "    E_wf = 0    #\n",
    "    M = 1e5    # [ft]\n",
    "    a = 1e5    # [ft]\n",
    "\n",
    "    rhs = [x[1],\n",
    "           rho_0 * ca.exp(-x[0]/k) * x[1]**2 * x[2]/2 - g,\n",
    "           0\n",
    "           ]\n",
    "    return ca.vertcat(*rhs)\n"
   ]
  },
  {
   "cell_type": "code",
   "execution_count": 6,
   "metadata": {},
   "outputs": [],
   "source": [
    "def ode_noised(x, u, w, t):\n",
    "    \"\"\"\n",
    "    Noised time-continuous model \n",
    "    \"\"\"\n",
    "    # Parameter konfiguration\n",
    "    rho_0 = 2    # [1b-sec^{2}/ft^{4}]\n",
    "    g = 32.2    # [ft/sec^{2}]\n",
    "    k = 2e4    # [ft]\n",
    "    E_v = 1e4    # [ft2]\n",
    "    E_wf = 0    #\n",
    "    M = 1e5    # [ft]\n",
    "    a = 1e5    # [ft]\n",
    "\n",
    "    rhs = [x[1] + w[0],\n",
    "           rho_0 * ca.exp(-x[0]/k) * x[1]**2 * x[2]/2 - g + w[1],\n",
    "           0 + w[2]\n",
    "           ]\n",
    "    return ca.vertcat(*rhs)"
   ]
  },
  {
   "cell_type": "code",
   "execution_count": 7,
   "metadata": {},
   "outputs": [],
   "source": [
    "def h_nominal(x, t):\n",
    "    \"\"\"\n",
    "    Nominal measurement function \n",
    "    \"\"\"\n",
    "    # Parameter konfiguration\n",
    "    rho_0 = 2    # [1b-sec^{2}/ft^{4}]\n",
    "    g = 32.2    # [ft/sec^{2}]\n",
    "    k = 2e4    # [ft]\n",
    "    E_v = 1e4    # [ft2]\n",
    "    E_wf = 0    #\n",
    "    M = 1e5    # [ft]\n",
    "    a = 1e5    # [ft]\n",
    "\n",
    "    rhs = [ca.sqrt(M**2 + (x[0] - a)**2)\n",
    "           ]\n",
    "    return ca.vertcat(*rhs)\n"
   ]
  },
  {
   "cell_type": "code",
   "execution_count": 8,
   "metadata": {},
   "outputs": [],
   "source": [
    "def h_noise(x, v, t):\n",
    "    \"\"\"\n",
    "    Noised measurement function \n",
    "    \"\"\"\n",
    "    # Parameter konfiguration\n",
    "    rho_0 = 2    # [1b-sec^{2}/ft^{4}]\n",
    "    g = 32.2    # [ft/sec^{2}]\n",
    "    k = 2e4    # [ft]\n",
    "    E_v = 1e4    # [ft2]\n",
    "    E_wf = 0    #\n",
    "    M = 1e5    # [ft]\n",
    "    a = 1e5    # [ft]\n",
    "\n",
    "    rhs = [ca.sqrt(M**2 + (x[0] - a)**2) + v[0]\n",
    "           ]\n",
    "    return ca.vertcat(*rhs)"
   ]
  },
  {
   "cell_type": "code",
   "execution_count": 9,
   "metadata": {},
   "outputs": [],
   "source": [
    "# Initialization\n",
    "\n",
    "x0 = np.array([3e5,-2e4,1e-3])\n",
    "f=1\n",
    "P0= ca.diag([1e6,4e6,10])\n",
    "P0= ca.diag([10,10,10])\n",
    "Q0=ca.diag([0,0,0])\n",
    "R1=ca.diag(1e4)\n",
    "t1= 1\n",
    "u1 = 1\n",
    "mu_v = 0\n",
    "sigma_v = ca.sqrt(R1)[0] \n",
    "\n",
    "w = [0,0,0]"
   ]
  },
  {
   "cell_type": "code",
   "execution_count": 10,
   "metadata": {},
   "outputs": [],
   "source": [
    "Nx = 3    # x dimension: 3\n",
    "Nt = 1    # t dimension: 1\n",
    "Nu = 0\n",
    "Nw = 3\n",
    "Nv = 1\n",
    "\n",
    "\n",
    "x_var = ca.SX.sym('x', Nx)\n",
    "t_var = ca.SX.sym('t', Nt)\n",
    "u_var = ca.SX.sym('u', Nu)\n",
    "w_var = ca.SX.sym('w', Nw)\n",
    "v_var = ca.SX.sym('t', Nv)\n",
    "\n",
    "# Construct a casadi function for the ODE\n",
    "fn_ca = ca.Function(\"ode_func\", [x_var,u_var,t_var], [ode_nominal(x_var,u_var,t_var)])\n",
    "fn_noised_ca = ca. Function(\"ode_noised_func\", [x_var, u_var,  t_var],[ode_noised(x_var, u_var, w_var, t_var)]) ##\n",
    "hn_ca = ca.Function(\"measurement_func\", [x_var, t_var], [h_nominal(x_var,t_var)])\n",
    "hn_noised_ca = ca.Function(\"measurement_noised_func\", [x_var, v_var, t_var], [h_noise(x_var, v_var, t_var)])\n",
    "\n",
    "# Length for each step\n",
    "h = 1e-3    # Simulation 1ms\n",
    "h_est = 0.5    # Obstain measurement every 0.5 s\n",
    "\n",
    "fn_dis = ca.Function(\"ode_disc\", [x_var,u_var,t_var], [RK4_ca(fn_ca, x_var, u_var, t_var, h)])\n",
    "fn_est_dis = fn_dis = ca.Function(\"ode_disc\", [x_var,u_var,t_var], [RK4_ca(fn_ca, x_var, u_var, t_var, h_est)])\n",
    "# Generate the noised time-discrete system with step length equal to 0.5 s.\n",
    "fn_noised_dis = ca.Function(\"ode_disc\", [x_var,u_var, w_var,t_var], [RK4_ca(fn_noised_ca, x_var, u_var, t_var, h)])"
   ]
  },
  {
   "cell_type": "code",
   "execution_count": 11,
   "metadata": {},
   "outputs": [],
   "source": [
    "# Empyt list to be plotted.\n",
    "x_real_plot = []\n",
    "x_estimate_plot = []\n",
    "y_plot = []\n",
    "\n",
    "x1_real = x0\n",
    "x_real_plot.append(ca_to_list_1d(x1_real))\n",
    "x_estimate_plot.append(ca_to_list_1d(x0))\n",
    "\n",
    "t_sim = 30    # Simulation time\n",
    "step_sim = int(t_sim / h)   # Simulation steps\n",
    "step_sample = int(h_est / h)    # Every 0.5 seconds make a sample => 500 steps\n",
    "for i in range(step_sim):\n",
    "    x1_real = fn_noised_dis(x1_real,1,w,1)\n",
    "    x_real_plot.append(ca_to_list_1d(x1_real))\n",
    "    if i % step_sample == 0 and i != 0:    # Avoid taking the initial value twite\n",
    "        v_noise = np.random.normal(mu_v, sigma_v, 1)\n",
    "        y1 = hn_noised_ca(x1_real, v_noise,1)\n",
    "        y_plot.append(ca_to_list_1d(y1))\n",
    "        x1_estimate, P0 = UKF(fn_est_dis, hn_ca, x0, P0, Q0, y1, u1, t1, R1)\n",
    "        x_estimate_plot.append(ca_to_list_1d(x1_estimate))\n",
    "        x0 = x1_estimate"
   ]
  },
  {
   "cell_type": "code",
   "execution_count": 12,
   "metadata": {},
   "outputs": [
    {
     "name": "stdout",
     "output_type": "stream",
     "text": [
      "60\n"
     ]
    }
   ],
   "source": [
    "t_est = [ _* step_sample for _ in range(np.shape(x_estimate_plot)[0])]\n",
    "\n",
    "print(np.shape(x_estimate_plot)[0])\n",
    "# plt.plot(t,np.array(x_estimate_plot)[:,0])\n",
    "\n",
    "t_real = np.arange(step_sim+1)\n",
    "# plt.plot(t,np.array(x_real_plot)[:,0])"
   ]
  },
  {
   "cell_type": "code",
   "execution_count": 13,
   "metadata": {},
   "outputs": [],
   "source": [
    "diff =np.abs( np.array(x_real_plot)[::500][:-1] - np.array(x_estimate_plot))\n",
    "# t = [_*300 for _ in range(np.shape(x_estimate_plot)[0])\n",
    "# print(diff)\n",
    "\n",
    "# plt.plot(t,diff)"
   ]
  },
  {
   "cell_type": "code",
   "execution_count": 14,
   "metadata": {},
   "outputs": [],
   "source": [
    "def plot_tex_setting():\n",
    "    plt.rc('text.latex', preamble=r'\\usepackage{amsmath}')  # für \\text{..}\n",
    "    plt.rcParams['text.usetex'] = True\n",
    "    # plt.rcParams['figure.subplot.bottom'] = .265\n",
    "    plt.rcParams['figure.subplot.bottom'] = .265\n",
    "    plt.rcParams['figure.subplot.left'] = .21\n",
    "    plt.rcParams['figure.subplot.top'] = .995\n",
    "    plt.rcParams['figure.subplot.right'] = .98\n",
    "\n",
    "    plt.rcParams['figure.subplot.hspace'] = .5  # vertikaler Abstand\n",
    "    plt.rcParams['figure.subplot.wspace'] = .5  # horizontaler Abstand\n",
    "    plt.rcParams['font.size'] = 14\n",
    "    plt.rcParams['axes.labelsize'] = 13"
   ]
  },
  {
   "cell_type": "code",
   "execution_count": 15,
   "metadata": {},
   "outputs": [
    {
     "data": {
      "image/png": "[encoded data removed]",
      "text/plain": [
       "<Figure size 792x612 with 6 Axes>"
      ]
     },
     "metadata": {
      "needs_background": "light"
     },
     "output_type": "display_data"
    }
   ],
   "source": [
    "plot_tex_setting()\n",
    "fig = plt.figure(figsize=(11, 8.5))\n",
    "spec=fig.add_gridspec(nrows=3,ncols=2,height_ratios=[1,1,1])\n",
    "ax1 = fig.add_subplot(spec[0,0])\n",
    "ax2 = fig.add_subplot(spec[1,0])\n",
    "ax3 = fig.add_subplot(spec[2,0])\n",
    "\n",
    "ax4 = fig.add_subplot(spec[0,1])\n",
    "ax5 = fig.add_subplot(spec[1,1])\n",
    "ax6 = fig.add_subplot(spec[2,1])\n",
    "\n",
    "\n",
    "ax1.ticklabel_format(axis=\"y\", style=\"sci\", scilimits=(0,0))\n",
    "ax2.ticklabel_format(axis=\"y\", style=\"sci\", scilimits=(0,0))\n",
    "ax3.ticklabel_format(axis=\"y\", style=\"sci\", scilimits=(0,0))\n",
    "ax4.ticklabel_format(axis=\"y\", style=\"sci\", scilimits=(0,0))\n",
    "ax5.ticklabel_format(axis=\"y\", style=\"sci\", scilimits=(0,0))\n",
    "ax6.ticklabel_format(axis=\"y\", style=\"sci\", scilimits=(0,0))\n",
    "\n",
    "ax1.plot(t_est,np.array(x_estimate_plot)[:,0],zorder = 4,color ='r',label=r'{\\fontsize{14}{8}\\selectfont Estimate}')\n",
    "ax2.plot(t_est,np.array(x_estimate_plot)[:,1],zorder = 4,color ='r')\n",
    "ax3.plot(t_est,np.array(x_estimate_plot)[:,2],zorder = 4,color ='r')\n",
    "\n",
    "ax1.plot(t_real,np.array(x_real_plot)[:,0],zorder = 4,color ='g',label=r'{\\fontsize{14}{8}\\selectfont Real}')\n",
    "ax2.plot(t_real,np.array(x_real_plot)[:,1],zorder = 4,color ='g')\n",
    "ax3.plot(t_real,np.array(x_real_plot)[:,2],zorder = 4,color ='g')\n",
    "\n",
    "ax4.plot(t_est,diff[:,0],zorder = 4,color ='b',label=r'{\\fontsize{14}{8}\\selectfont Difference error}')\n",
    "ax5.plot(t_est,diff[:,1],zorder = 4,color ='b')\n",
    "ax6.plot(t_est,diff[:,2],zorder = 4,color ='b')\n",
    "\n",
    "labels = [0,10,20,30]\n",
    "ax1.set_xticks([0,10000,20000,30000])\n",
    "ax2.set_xticks([0,10000,20000,30000])\n",
    "ax3.set_xticks([0,10000,20000,30000])\n",
    "ax4.set_xticks([0,10000,20000,30000])\n",
    "ax5.set_xticks([0,10000,20000,30000])\n",
    "ax6.set_xticks([0,10000,20000,30000])\n",
    "\n",
    "ax1.set_xticklabels(labels, fontdict=None, minor=False)\n",
    "ax2.set_xticklabels(labels, fontdict=None, minor=False)\n",
    "ax3.set_xticklabels(labels, fontdict=None, minor=False)\n",
    "ax4.set_xticklabels(labels, fontdict=None, minor=False)\n",
    "ax5.set_xticklabels(labels, fontdict=None, minor=False)\n",
    "ax6.set_xticklabels(labels, fontdict=None, minor=False)\n",
    "\n",
    "ax1.set_ylabel(r'{\\fontsize{14}{8}\\selectfont Amplitude, }$x_1[ft]$ ')\n",
    "ax2.set_ylabel(r'{\\fontsize{14}{8}\\selectfont Velocity., }$x_2[ft/s]$ ')\n",
    "ax3.set_ylabel(r'{\\fontsize{14}{8}\\selectfont Ball. Coeff.} ')\n",
    "ax3.set_xlabel(r'{\\fontsize{14}{8}\\selectfont Time, }$t[s]$ ')\n",
    "ax6.set_xlabel(r'{\\fontsize{14}{8}\\selectfont Time, }$t[s]$ ')\n",
    "\n",
    "ax1.legend(loc=\"upper right\")\n",
    "ax4.legend(loc=\"upper right\")\n",
    "\n",
    "ax1.grid(True)\n",
    "ax2.grid(True)\n",
    "ax3.grid(True)\n",
    "ax4.grid(True)\n",
    "ax5.grid(True)\n",
    "ax6.grid(True)\n",
    "\n",
    "plt.show()"
   ]
  },
  {
   "cell_type": "markdown",
   "metadata": {},
   "source": [
    "\"It is seen that the altitude and velocity estimates both spike\n",
    "around 10 seconds, at which point the altitude of the measuring device and\n",
    "the falling body are about the same, so the measurement gives less information\n",
    "about the body's altitude and velocity\""
   ]
  },
  {
   "cell_type": "code",
   "execution_count": 17,
   "metadata": {},
   "outputs": [
    {
     "data": {
      "image/png": "[encoded data removed]",
      "text/plain": [
       "<Figure size 720x576 with 1 Axes>"
      ]
     },
     "metadata": {
      "needs_background": "light"
     },
     "output_type": "display_data"
    }
   ],
   "source": [
    "fig = plt.figure(figsize=(10, 8))\n",
    "spec=fig.add_gridspec(nrows=1,ncols=1)\n",
    "ax1 = fig.add_subplot(spec[0,0])\n",
    "\n",
    "ax1.plot(t_est[:-1],y_plot,zorder = 4,color ='r',label=r'{\\fontsize{14}{8}\\selectfont Measurement}')\n",
    "\n",
    "ax1.ticklabel_format(axis=\"y\", style=\"sci\", scilimits=(0,0))\n",
    "\n",
    "labels = [0,10,20,30]\n",
    "ax1.set_xticks([0,10000,20000,30000])\n",
    "ax1.set_xticklabels(labels, fontdict=None, minor=False)\n",
    "\n",
    "ax1.set_ylabel(r'{\\fontsize{14}{8}\\selectfont Measurement, }$y[ft]$ ')\n",
    "ax1.set_xlabel(r'{\\fontsize{14}{8}\\selectfont Time, }$t[s]$ ')\n",
    "ax1.legend(loc=\"upper right\")\n",
    "ax1.grid(True)"
   ]
  },
  {
   "cell_type": "code",
   "execution_count": null,
   "metadata": {},
   "outputs": [],
   "source": []
  }
 ],
 "metadata": {
  "kernelspec": {
   "display_name": "Python 3",
   "language": "python",
   "name": "python3"
  },
  "language_info": {
   "codemirror_mode": {
    "name": "ipython",
    "version": 3
   },
   "file_extension": ".py",
   "mimetype": "text/x-python",
   "name": "python",
   "nbconvert_exporter": "python",
   "pygments_lexer": "ipython3",
   "version": "3.7.7"
  }
 },
 "nbformat": 4,
 "nbformat_minor": 4
}
