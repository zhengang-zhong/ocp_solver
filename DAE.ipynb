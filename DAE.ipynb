{
 "cells": [
  {
   "cell_type": "code",
   "execution_count": null,
   "metadata": {},
   "outputs": [],
   "source": []
  },
  {
   "cell_type": "markdown",
   "metadata": {},
   "source": [
    "## Numerical solution for DAE"
   ]
  },
  {
   "cell_type": "markdown",
   "metadata": {},
   "source": [
    "A system of equations that has the form $F(t,x,\\dot{x}) = 0$ is called **differential algebraic equation** if the Jacobian $\\frac{\\partial F}{\\partial \\dot{x}}$ is singular. DAE models describe a dynamical system using differential equations and also take some laws of consevation and constraints into consideration in its algeraic equation part. Any system of equations with nonsingular Jacobian can be transformed into an ODE of the form $\\dot{x} = f(t,x)$.\n",
    "\n",
    "The abovementioned form is also called **fully-implicit** form of DAE. Any fully implicit DAE can be always transformed in to a **semi-explicit** DAE in the following form: $\\begin{aligned} \\dot{x} &=f(t, x, z) \\\\ 0 &=g(t, x, z) \\end{aligned}$. It is worth noticing that the derivative of variable $z$ doesn't apprear; thus, it is called **algebraic variable**. \n",
    "\n",
    "Since analytically solve DAEs would be very hard, people try to solve DAEs by transforming DAE into ODE. The minimum number of differentiation steps required to transform a DAE into an ODE is called **index** of the DAE.\n"
   ]
  },
  {
   "cell_type": "code",
   "execution_count": null,
   "metadata": {},
   "outputs": [],
   "source": []
  }
 ],
 "metadata": {
  "kernelspec": {
   "display_name": "Python 3",
   "language": "python",
   "name": "python3"
  },
  "language_info": {
   "codemirror_mode": {
    "name": "ipython",
    "version": 3
   },
   "file_extension": ".py",
   "mimetype": "text/x-python",
   "name": "python",
   "nbconvert_exporter": "python",
   "pygments_lexer": "ipython3",
   "version": "3.7.7"
  }
 },
 "nbformat": 4,
 "nbformat_minor": 4
}
