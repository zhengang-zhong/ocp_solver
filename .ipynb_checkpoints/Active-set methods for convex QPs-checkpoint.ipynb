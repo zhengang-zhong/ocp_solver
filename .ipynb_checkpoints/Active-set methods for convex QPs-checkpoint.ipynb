{
 "cells": [
  {
   "cell_type": "code",
   "execution_count": 27,
   "metadata": {},
   "outputs": [],
   "source": [
    "import numpy as np\n",
    "import matplotlib.pyplot as plt"
   ]
  },
  {
   "cell_type": "code",
   "execution_count": 28,
   "metadata": {},
   "outputs": [],
   "source": [
    "# small number is to be recognized as zero to avoid numerical problem (owning to the calculation accuracy)\n",
    "tol_zero = 1e-10"
   ]
  },
  {
   "cell_type": "markdown",
   "metadata": {},
   "source": [
    "1. define an optimization problem in the following form\n",
    "$$\n",
    "\\begin{array}{rlr}\n",
    "\\min _{x} &  q(x)=\\frac{1}{2} x^{T} G x+x^{T} c \\\\\n",
    "\\text { subject to } & a_{i} x=b_{i}, & i \\in \\mathcal{E} \\\\\n",
    "& a_{i} x \\geq b_{i}, & i \\in \\mathcal{I}\n",
    "\\end{array}\n",
    "$$"
   ]
  },
  {
   "cell_type": "code",
   "execution_count": 29,
   "metadata": {},
   "outputs": [],
   "source": [
    "def active_set(ai, bi, x0):\n",
    "    '''\n",
    "    Initialize the active set for the given initial state.\n",
    "    Args:\n",
    "        ai: Left-hand side of the inequality constraints (Ni x Nx).\n",
    "        bi: right-hand side of the inequality constraints (Ni x 1).\n",
    "        x0: initial state (Nx x 1).\n",
    "        \n",
    "    Return:\n",
    "        active_set: rerturn the active set of the given inequality constraints at x0 (N_act x Nx).\n",
    "        inactive_set: rerturn the inactive set of the given inequality constraints at x0 (N_inact x Nx).\n",
    "    '''\n",
    "    n_active_row = (ai @ x0 - bi == 0).flatten()\n",
    "    n_inactive_row = ~ n_active_row\n",
    "    active_set = np.hstack((ai[n_active_row],bi[n_active_row]))\n",
    "    inactive_set = np.hstack((ai[n_inactive_row],bi[n_inactive_row]))\n",
    "    return active_set,inactive_set"
   ]
  },
  {
   "cell_type": "code",
   "execution_count": 30,
   "metadata": {},
   "outputs": [],
   "source": [
    "def QP_subproblem(G, c, ws, xk):\n",
    "    \n",
    "    '''\n",
    "    Solve the QP subproblem for Newton-KKT system.\n",
    "    Args:\n",
    "        G: Weigting matrix of quadratic terms (Nx x Nx).\n",
    "        c: Weigting matrix of linear terms (Nx x 1).\n",
    "        ws: working space ( (Ne + N_active) x (Nx + 1)).\n",
    "        xk: Curret state (Nx x 1).\n",
    "        \n",
    "    Return:\n",
    "        pk: search step (Nx x 1). \n",
    "        lambda_k: Lagrangian multiplier ( (Ne + N_active) x 1\n",
    "    '''\n",
    "    \n",
    "    \n",
    "    Nx = np.shape(xk)[0]\n",
    "    Nlambda = np.shape(ws)[0]\n",
    "    \n",
    "    A = ws[:,0:-1]\n",
    "    \n",
    "    gk = G @ xk + c\n",
    "    rhs = np.vstack((-gk,np.zeros([Nlambda,1])))\n",
    "    lhs = np.vstack((np.hstack((G,-A.T)),np.hstack((A,np.zeros([Nlambda,Nlambda])))))\n",
    "    sol = np.linalg.inv(lhs) @ rhs\n",
    "    sol[abs(sol) < tol_zero] = 0.0\n",
    "    return sol[:Nx,:],sol[Nx:,:]"
   ]
  },
  {
   "cell_type": "code",
   "execution_count": 31,
   "metadata": {},
   "outputs": [],
   "source": [
    "def QP_activeset(G, c, ae = None, be = None, ai= None, bi= None, x0 = None):\n",
    "    '''\n",
    "    Solve the convex QP problem with active-set method\n",
    "    Args:\n",
    "        G: Weigting matrix of quadratic terms (Nx x Nx).\n",
    "        c: Weigting matrix of linear terms (Nx x 1).\n",
    "        ae: Left-hand side of the equality constraints (Ne x Nx).\n",
    "        be: Right-hand side of the equality constraints  (Ne x 1).\n",
    "        ai: Left-hand side of the inequality constraints (Ni x Nx).\n",
    "        bi: Right-hand side of the inequality constraints (Ni x 1).        \n",
    "        x0: Initial state (Nx x 1).    \n",
    "    \n",
    "    Returns: \n",
    "        xk: Optimial state.\n",
    "    \n",
    "    TODO:\n",
    "        1. deal with infeasible initial point.\n",
    "        2. Select another algorithm for the QP subproblem.\n",
    "        3. Tranform into C code.\n",
    "        4. Visualization.\n",
    "        5. Find a better way to deal with the empty set.\n",
    "    '''\n",
    "    # Test if the given initial point is feasible.\n",
    "    Nx = np.shape(G)[0]\n",
    "    if x0 is None:\n",
    "        x0 = np.zeros(Nx).reshape(-1,1)\n",
    "    if ae is not None:\n",
    "        if not np.all(ae @ x0 - be == 0):\n",
    "            print(\"Error\")\n",
    "            return None\n",
    "    if ai is not None:\n",
    "        if not np.all(ai @ x0 - bi >= 0):\n",
    "            print(\"Error\")\n",
    "            return None\n",
    "    xk = x0\n",
    "    \n",
    "    #initialization.\n",
    "    if ae is not None:\n",
    "        Ne = np.shape(ae)[0]\n",
    "    else:\n",
    "        Ne = 0\n",
    "    if ai is not None:\n",
    "        Ni = np.shape(ai)[0]\n",
    "        # Return which set is active. Empty array if none inequality constraint is active.\n",
    "        ws_active, ws_inactive = active_set(ai, bi, xk)\n",
    "    else:\n",
    "        Ni = 0 \n",
    "        ws_active = np.array([], dtype=np.int).reshape(0,Nx+1)\n",
    "        ws_inactive = np.array([], dtype=np.int).reshape(0,Nx+1)\n",
    "\n",
    "    if ae is None:\n",
    "        we = np.array([], dtype=np.int).reshape(0,Nx+1)\n",
    "    else:\n",
    "        we = np.hstack((ae,be))\n",
    "\n",
    "\n",
    "    # Define working space = equality constraints + active inequality constraints.\n",
    "    ws = np.vstack((we,ws_active))\n",
    "    \n",
    "    \n",
    "    while(True):\n",
    "        # Solve QP subproblem.\n",
    "        pk,lambda_k = QP_subproblem(G,c,ws,xk)\n",
    "        # Seperate the Lagrangian multiplier into two parts for equality constraints and inequality constraints. \n",
    "        if np.shape(lambda_k)[0] > Ne:\n",
    "            lambda_inequality = lambda_k[Ne:,:]\n",
    "        else:\n",
    "            lambda_inequality = np.array([], dtype=np.int).reshape(0,1)\n",
    "        n_zero = Nx - np.count_nonzero(pk)\n",
    "        # If search step vector has only element with 0 value. \n",
    "        if n_zero == Nx:\n",
    "            # p statisfies the optimality conditions, check the signs of the multipliers.\n",
    "            if np.all(lambda_inequality >= 0):\n",
    "                print(\"solution find\")\n",
    "                return xk, lambda_k\n",
    "            else:\n",
    "                # Droping the working constraint with most negative value.\n",
    "                n_min = np.argmin(lambda_inequality)\n",
    "                row_del = ws_active[n_min,:]\n",
    "                ws_active = np.delete(ws_active, (n_min), axis=0)\n",
    "                ws_inactive = np.vstack((ws_inactive, row_del))\n",
    "                ws = np.vstack((we,ws_active))\n",
    "        # p vector not zero -> calculate the search length alpha.\n",
    "        else:\n",
    "            # Yield alpha value.\n",
    "            alpha_k = 1\n",
    "            for i,row in enumerate(ws_inactive):\n",
    "                b = row[-1]\n",
    "                a = row[:-1]\n",
    "                if (a @ pk)[0] < 0:\n",
    "                    v_tmp = (( b - a @ xk )/ (a @ pk))[0]\n",
    "                    if v_tmp < 1:\n",
    "                        n_constraint = i\n",
    "                        alpha_k = v_tmp\n",
    "            if alpha_k == 1:\n",
    "                xk = xk + pk * alpha_k\n",
    "            # If not a full step, include the most restrive inactive constraint into working space.\n",
    "            else:\n",
    "                row_inc = ws_inactive[n_constraint,:]\n",
    "                ws_active = np.vstack( (ws_active, row_inc))\n",
    "                ws_inactive = np.delete(ws_inactive, (n_constraint), axis=0)\n",
    "                ws = np.vstack((we,ws_active))\n",
    "                xk = xk + pk * alpha_k"
   ]
  },
  {
   "cell_type": "markdown",
   "metadata": {},
   "source": [
    "### Test1: \n",
    "$$\n",
    "\\begin{aligned}\n",
    "\\min _{x} q(x)  =\\left(x_{1}-1\\right)^{2}+&\\left(x_{2}-2.5\\right)^{2}\\\\\n",
    "\\text { subject to }  x_{1}-2 x_{2}+2 & \\geq 0 \\\\\n",
    "-x_{1}-2 x_{2}+6 & \\geq 0 \\\\\n",
    "-x_{1}+2 x_{2}+2 & \\geq 0 \\\\\n",
    "x_{1} & \\geq 0 \\\\\n",
    "x_{2} & \\geq 0\n",
    "\\end{aligned}\n",
    "$$"
   ]
  },
  {
   "cell_type": "code",
   "execution_count": 32,
   "metadata": {},
   "outputs": [],
   "source": [
    "# QP problem\n",
    "ai = np.array([[1,-2],[-1,-2],[-1,2],[1,0],[0,1]])\n",
    "bi = np.array([-2,-6,-2,0,0]).reshape(-1,1)\n",
    "G = np.diag([2,2])\n",
    "c = np.array([-2,-5]).reshape(-1,1)"
   ]
  },
  {
   "cell_type": "code",
   "execution_count": 33,
   "metadata": {},
   "outputs": [
    {
     "name": "stdout",
     "output_type": "stream",
     "text": [
      "solution find\n"
     ]
    },
    {
     "data": {
      "text/plain": [
       "(array([[1.4],\n",
       "        [1.7]]),\n",
       " array([[0.8]]))"
      ]
     },
     "execution_count": 33,
     "metadata": {},
     "output_type": "execute_result"
    }
   ],
   "source": [
    "a = QP_activeset(G,c,ai=ai,bi=bi,x0 = np.array([[2],[0]]))\n",
    "a"
   ]
  },
  {
   "cell_type": "markdown",
   "metadata": {},
   "source": [
    "### Test 2\n",
    "$$\n",
    "\\begin{aligned}\n",
    "\\min _{x} q(x)  =\\left(x_{1}\\right)^{2}+&\\left(x_{2}\\right)^{2}\\\\\n",
    "\\text { subject to }  x_{1}-x_{2} & = 0 \\\\\n",
    "x_{1} & \\geq 1\n",
    "\\end{aligned}\n",
    "$$"
   ]
  },
  {
   "cell_type": "code",
   "execution_count": 34,
   "metadata": {},
   "outputs": [],
   "source": [
    "ai = np.array([[1,0]])\n",
    "bi = np.array([1]).reshape(-1,1)\n",
    "\n",
    "ae = np.array([[1,-1]])\n",
    "be = np.array([0]).reshape(-1,1)\n",
    "\n",
    "G = np.diag([2,2]) \n",
    "c = np.array([0,0]).reshape(-1,1)"
   ]
  },
  {
   "cell_type": "code",
   "execution_count": 35,
   "metadata": {},
   "outputs": [
    {
     "name": "stdout",
     "output_type": "stream",
     "text": [
      "solution find\n"
     ]
    },
    {
     "data": {
      "text/plain": [
       "(array([[1.],\n",
       "        [1.]]),\n",
       " array([[-2.],\n",
       "        [ 4.]]))"
      ]
     },
     "execution_count": 35,
     "metadata": {},
     "output_type": "execute_result"
    }
   ],
   "source": [
    "b = QP_activeset(G,c,ai=ai,bi=bi,ae= ae, be= be, x0 = np.array([[3],[3]]))\n",
    "b"
   ]
  },
  {
   "cell_type": "markdown",
   "metadata": {},
   "source": [
    "### Test 3\n",
    "$$\n",
    "\\begin{aligned}\n",
    "\\min _{x} q(x)  =\\left(x_{1}\\right)^{2}+&\\left(x_{2}\\right)^{2}\\\\\n",
    "\\text { subject to }  x_{1}-x_{2} & = 0 \\\\\n",
    "\\end{aligned}\n",
    "$$"
   ]
  },
  {
   "cell_type": "code",
   "execution_count": 36,
   "metadata": {},
   "outputs": [],
   "source": [
    "ae = np.array([[1,-1]])\n",
    "be = np.array([0]).reshape(-1,1)\n",
    "\n",
    "G = np.diag([2,2])\n",
    "c = np.array([0,0]).reshape(-1,1)"
   ]
  },
  {
   "cell_type": "code",
   "execution_count": 37,
   "metadata": {},
   "outputs": [
    {
     "name": "stdout",
     "output_type": "stream",
     "text": [
      "solution find\n"
     ]
    },
    {
     "data": {
      "text/plain": [
       "(array([[0.],\n",
       "        [0.]]),\n",
       " array([[0.]]))"
      ]
     },
     "execution_count": 37,
     "metadata": {},
     "output_type": "execute_result"
    }
   ],
   "source": [
    "c = QP_activeset(G,c,ae= ae, be= be, x0 = np.array([[3],[3]]))\n",
    "c"
   ]
  },
  {
   "cell_type": "markdown",
   "metadata": {},
   "source": [
    "### Test 4\n",
    "$$\n",
    "\\begin{aligned}\n",
    "\\min _{x} q(x)  =\\left(x_{1}\\right)^{2}+& \\left(x_{2}\\right)^{2} + \\left(x_{3}\\right)^{2}\\\\\n",
    "\\text { subject to }  x_{1} + x_{2} + x_{2}  & = 1 \\\\\n",
    "\\end{aligned}\n",
    "$$"
   ]
  },
  {
   "cell_type": "code",
   "execution_count": 38,
   "metadata": {},
   "outputs": [],
   "source": [
    "ae = np.array([[1,1,1]])\n",
    "be = np.array([1]).reshape(-1,1)\n",
    "\n",
    "G = np.diag([2,2,2])\n",
    "c = np.array([0,0,0]).reshape(-1,1)"
   ]
  },
  {
   "cell_type": "code",
   "execution_count": 39,
   "metadata": {},
   "outputs": [
    {
     "name": "stdout",
     "output_type": "stream",
     "text": [
      "solution find\n"
     ]
    },
    {
     "data": {
      "text/plain": [
       "(array([[0.33333333],\n",
       "        [0.33333333],\n",
       "        [0.33333333]]),\n",
       " array([[0.66666667]]))"
      ]
     },
     "execution_count": 39,
     "metadata": {},
     "output_type": "execute_result"
    }
   ],
   "source": [
    "d = QP_activeset(G,c,ae= ae, be= be, x0 = np.array([[3],[3],[-5]]))\n",
    "d"
   ]
  }
 ],
 "metadata": {
  "kernelspec": {
   "display_name": "Python 3",
   "language": "python",
   "name": "python3"
  },
  "language_info": {
   "codemirror_mode": {
    "name": "ipython",
    "version": 3
   },
   "file_extension": ".py",
   "mimetype": "text/x-python",
   "name": "python",
   "nbconvert_exporter": "python",
   "pygments_lexer": "ipython3",
   "version": "3.7.7"
  }
 },
 "nbformat": 4,
 "nbformat_minor": 4
}
