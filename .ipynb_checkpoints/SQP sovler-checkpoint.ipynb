{
 "cells": [
  {
   "cell_type": "code",
   "execution_count": 3,
   "metadata": {},
   "outputs": [],
   "source": [
    "import casadi as ca\n",
    "import numpy as np\n",
    "import matplotlib.pyplot as plt\n",
    "import sympy as sp"
   ]
  },
  {
   "cell_type": "markdown",
   "metadata": {},
   "source": [
    "## SQP solver\n",
    "\n",
    "reference: Numerical Optimization (Jorge Nocedal and Stephen J. Wright), Springer, 2006."
   ]
  },
  {
   "cell_type": "markdown",
   "metadata": {},
   "source": [
    "The purpose of this notebook is to visualize **Sequential Quadratic Programming** method both in line search and trust-region frameworks. \n",
    "\n",
    "SQP as an effective method for nonlinearly constrained optimization problem solves a sequence of quadratic optimization problems to approximate the solution of the original nonlinear problem. The solving strategies by applying active-set methods are bifold: IQP and EQP methods. The **inequality-constrained QP** (IQP) approach solves an inequality-constrained quadratic problem iteratively to compute a search step and update the estimate of the optimal active set. **Equality constrained QP** method separates the computations of search step and active set estimation by 1. first, generating an estimate of the optimal active set; 2. then, solving an equality-constrained quadratic program to find the search step."
   ]
  },
  {
   "cell_type": "markdown",
   "metadata": {},
   "source": [
    "Assumed that we are given an nonlinear optimization problem as following: \n",
    "$$\n",
    "\\begin{aligned}\n",
    "\\text{min} &f(x)\\\\\n",
    "\\text { subject to } c_{i}(x)&=0,  i \\in \\mathcal{E} \\\\\n",
    "c_{i}(x) &\\geq 0,  i \\in \\mathcal{I},\n",
    "\\end{aligned}\n",
    "$$\n",
    "where the objective function $f$ and constraint functions are smooth. \n",
    "The quadratic program for the given NLP problem could be derived by the Newton-KKT system with the assumption that the constraints Jacobian $A_k$ has full row rank (linearly independent constraints) and the Hessian of the Lagrangian is positive definite (second order sufficient optimality condition). The underlying idea is to replace the original nonlinear problem by the problem minimizing the Lagrangian, and then to make a quadratic approximation to the Lagrangian.\n",
    "\n",
    "The following quadratic problem is then solved in each iteration to update the step and the Lagrangian mupltiplier: $$\n",
    "\\begin{array}{rl}\n",
    "\\min _{p} & f_{k}+\\nabla f_{k}^{T} p+\\frac{1}{2} p^{T} \\nabla_{x x}^{2} \\mathcal{L}_{k} p \\\\\n",
    "\\text { subject to } & \\nabla c_{i}\\left(x_{k}\\right)^{T} p+c_{i}\\left(x_{k}\\right)=0, \\quad i \\in \\mathcal{E} \\\\\n",
    "& \\nabla c_{i}\\left(x_{k}\\right)^{T} p+c_{i}\\left(x_{k}\\right) \\geq 0, \\quad i \\in \\mathcal{I}.\n",
    "\\end{array}\n",
    "$$\n"
   ]
  },
  {
   "cell_type": "markdown",
   "metadata": {},
   "source": [
    "### Some important ingredients\n",
    "1. Handling in consistent linearizations: The linearized constriants of the original nonlinear constraints may give rise to an infeasible subproblem. Thus, we could reformulate the NLP as a $\\ell_1$ penalty problem.\n",
    "2. Full Quasi-Newton approximations: BFGS and SR1.\n",
    "    - BFGS: If Hession $\\nabla_{x x}^{2} \\mathcal{L}$ has negative eigenvalues, BFGS updating may not fulfilled the curvature condtion $s_{k}^{T} y_{k}>0$. We may skip the update if $s_{k}^{T} y_{k} \\geq \\theta s_{k}^{T} B_{k} s_{k}$ not satisfied, or, we could replace the $y_{k}$ in the standard BFGS by $r_{k}=\\theta_{k} y_{k}+\\left(1-\\theta_{k}\\right) B_{k} s_{k}$.\n",
    "    - SR1: A Good choice for a trust-region method, but not accept an indefinite Hessian approximation for a Line search method.\n",
    "3. Reduced-Hessian Quasi-Newton approximations: Find approximations to only the part of $\\nabla_{x x}^{2} \\mathcal{L}_{k}$ that affects the component of $p_k$ in the null space of $A_k$.\n",
    "4. Merit fucntions: control the step size in a line search method and determine whether the step should be accepted or rejected in a trust-region method. Many of merit functions could be applied, for example nonsmooth penalty functions and augmented Lagrangians.\n",
    "5. Second-order correction: To keep away from the Maratos effect by using the new step to approxiamte a second-order Taylor expandsion.\n"
   ]
  },
  {
   "cell_type": "markdown",
   "metadata": {},
   "source": [
    "### Line search SQP"
   ]
  },
  {
   "cell_type": "markdown",
   "metadata": {},
   "source": [
    "Step 1: Initialization: objective function, its first and second derivative (or approximated Hessian instead), constraint Jacobian, and constraint.\n",
    "\n",
    "Step 2: Solve the approximated squadratic program to get the step and Lagrange multiplier. \n",
    "\n",
    "Step 3: select $\\mu$ satisfying $\\mu \\geq \\frac{\\nabla f_{k}^{T} p_{k}+(\\sigma / 2) p_{k}^{T} \\nabla_{x x}^{2} \\mathcal{L}_{k} p_{k}}{(1-\\rho)\\left\\|c_{k}\\right\\|_{1}}$ for the merit function.\n",
    "\n",
    "Step 4: Select $\\alpha_k$ satisfying the sufficient decrease condition (Armijo condition).\n",
    "\n",
    "Step 5: Evaluation and jump to step 2"
   ]
  },
  {
   "cell_type": "markdown",
   "metadata": {},
   "source": [
    "### Trust-region SQP"
   ]
  },
  {
   "cell_type": "markdown",
   "metadata": {},
   "source": [
    "`TODO: finish it`"
   ]
  },
  {
   "cell_type": "code",
   "execution_count": 4,
   "metadata": {},
   "outputs": [],
   "source": [
    "# small number is to be recognized as zero to avoid numerical problem (owning to the calculation accuracy)\n",
    "tol_zero = 1e-10"
   ]
  },
  {
   "cell_type": "code",
   "execution_count": 5,
   "metadata": {},
   "outputs": [],
   "source": [
    "def active_set(ai, bi, x0):\n",
    "    '''\n",
    "    Initialize the active set for the given initial state.\n",
    "    Args:\n",
    "        ai: Left-hand side of the inequality constraints (Ni x Nx).\n",
    "        bi: right-hand side of the inequality constraints (Ni x 1).\n",
    "        x0: initial state (Nx x 1).\n",
    "        \n",
    "    Return:\n",
    "        active_set: rerturn the active set of the given inequality constraints at x0 (N_act x Nx).\n",
    "        inactive_set: rerturn the inactive set of the given inequality constraints at x0 (N_inact x Nx).\n",
    "    '''\n",
    "    n_active_row = (ai @ x0 - bi == 0).flatten()\n",
    "    n_inactive_row = ~ n_active_row\n",
    "    active_set = np.hstack((ai[n_active_row],bi[n_active_row]))\n",
    "    inactive_set = np.hstack((ai[n_inactive_row],bi[n_inactive_row]))\n",
    "    return active_set,inactive_set"
   ]
  },
  {
   "cell_type": "code",
   "execution_count": 6,
   "metadata": {},
   "outputs": [],
   "source": [
    "def QP_subproblem(G, c, ws, xk):\n",
    "    \n",
    "    '''\n",
    "    Solve the QP subproblem for Newton-KKT system.\n",
    "    Args:\n",
    "        G: Weigting matrix of quadratic terms (Nx x Nx).\n",
    "        c: Weigting matrix of linear terms (Nx x 1).\n",
    "        ws: working space ( (Ne + N_active) x (Nx + 1)).\n",
    "        xk: Curret state (Nx x 1).\n",
    "        \n",
    "    Return:\n",
    "        pk: search step (Nx x 1). \n",
    "        lambda_k: Lagrangian multiplier ( (Ne + N_active) x 1\n",
    "    '''\n",
    "    \n",
    "    \n",
    "    Nx = np.shape(xk)[0]\n",
    "    Nlambda = np.shape(ws)[0]\n",
    "    \n",
    "    A = ws[:,0:-1]\n",
    "    \n",
    "    gk = G @ xk + c\n",
    "    rhs = np.vstack((-gk,np.zeros([Nlambda,1])))\n",
    "    lhs = np.vstack((np.hstack((G,-A.T)),np.hstack((A,np.zeros([Nlambda,Nlambda])))))\n",
    "    sol = np.linalg.inv(lhs) @ rhs\n",
    "    sol[abs(sol) < tol_zero] = 0.0\n",
    "    return sol[:Nx,:],sol[Nx:,:]"
   ]
  },
  {
   "cell_type": "code",
   "execution_count": 327,
   "metadata": {},
   "outputs": [],
   "source": [
    "def QP_activeset(G, c, ae = None, be = None, ai= None, bi= None, x0 = None):\n",
    "    '''\n",
    "    Solve the convex QP problem with active-set method\n",
    "    Args:\n",
    "        G: Weigting matrix of quadratic terms (Nx x Nx).\n",
    "        c: Weigting matrix of linear terms (Nx x 1).\n",
    "        ae: Left-hand side of the equality constraints (Ne x Nx).\n",
    "        be: Right-hand side of the equality constraints  (Ne x 1).\n",
    "        ai: Left-hand side of the inequality constraints (Ni x Nx).\n",
    "        bi: Right-hand side of the inequality constraints (Ni x 1).        \n",
    "        x0: Initial state (Nx x 1).    \n",
    "    \n",
    "    Returns: \n",
    "        xk: Optimial state.\n",
    "    \n",
    "    TODO:\n",
    "        1. deal with infeasible initial point.\n",
    "        2. Select another algorithm for the QP subproblem.\n",
    "        3. Tranform into C code.\n",
    "        4. Visualization.\n",
    "        5. Find a better way to deal with the empty set.\n",
    "    '''\n",
    "        \n",
    "    # Test if the given initial point is feasible.\n",
    "    Nx = np.shape(G)[0]\n",
    "    if x0 is None:\n",
    "        x0 = np.zeros(Nx).reshape(-1,1)\n",
    "    else:\n",
    "        x0 = np.reshape(x0,(-1,1))\n",
    "    if ae is not None:\n",
    "        if not np.all(ae @ x0 - be == 0):\n",
    "            print(\"Error\")\n",
    "            return None\n",
    "    if ai is not None:\n",
    "        if not np.all(ai @ x0 - bi >= 0):\n",
    "            print(\"Error\")\n",
    "            return None\n",
    "    xk = x0\n",
    "    \n",
    "    #initialization.\n",
    "\n",
    "    if ae is not None:\n",
    "        Ne = np.shape(ae)[0]\n",
    "    else:\n",
    "        Ne = 0\n",
    "    if ai is not None:\n",
    "        Ni = np.shape(ai)[0]\n",
    "        # Return which set is active. Empty array if none inequality constraint is active.\n",
    "        ws_active, ws_inactive = active_set(ai, bi, xk)\n",
    "    else:\n",
    "        Ni = 0 \n",
    "        ws_active = np.array([], dtype=np.int).reshape(0,Nx+1)\n",
    "        ws_inactive = np.array([], dtype=np.int).reshape(0,Nx+1)\n",
    "\n",
    "    if ae is None:\n",
    "        we = np.array([], dtype=np.int).reshape(0,Nx+1)\n",
    "    else:\n",
    "        we = np.hstack((ae,be))\n",
    "\n",
    "\n",
    "    # Define working space = equality constraints + active inequality constraints.\n",
    "    ws = np.vstack((we,ws_active))\n",
    "    \n",
    "    while(True):\n",
    "        # Solve QP subproblem.\n",
    "        pk,lambda_k = QP_subproblem(G,c,ws,xk)\n",
    "        # Seperate the Lagrangian multiplier into two parts for equality constraints and inequality constraints. \n",
    "        if np.shape(lambda_k)[0] > Ne:\n",
    "            lambda_inequality = lambda_k[Ne:,:]\n",
    "        else:\n",
    "            lambda_inequality = np.array([], dtype=np.int).reshape(0,1)\n",
    "        n_zero = Nx - np.count_nonzero(pk)\n",
    "        # If search step vector has only element with 0 value. \n",
    "        if n_zero == Nx:\n",
    "            # p statisfies the optimality conditions, check the signs of the multipliers.\n",
    "            if np.all(lambda_inequality >= 0):\n",
    "                print(\"solution find\")\n",
    "                return xk, lambda_k\n",
    "            else:\n",
    "                # Droping the working constraint with most negative value.\n",
    "                n_min = np.argmin(lambda_inequality)\n",
    "                row_del = ws_active[n_min,:]\n",
    "                ws_active = np.delete(ws_active, (n_min), axis=0)\n",
    "                ws_inactive = np.vstack((ws_inactive, row_del))\n",
    "                ws = np.vstack((we,ws_active))\n",
    "        # p vector not zero -> calculate the search length alpha.\n",
    "        else:\n",
    "            # Yield alpha value.\n",
    "            alpha_k = 1\n",
    "            for i,row in enumerate(ws_inactive):\n",
    "                b = row[-1]\n",
    "                a = row[:-1]\n",
    "                if (a @ pk)[0] < 0:\n",
    "                    v_tmp = (( b - a @ xk )/ (a @ pk))[0]\n",
    "                    if v_tmp < 1:\n",
    "                        n_constraint = i\n",
    "                        alpha_k = v_tmp\n",
    "            if alpha_k == 1:\n",
    "                xk = xk + pk * alpha_k\n",
    "            # If not a full step, include the most restrive inactive constraint into working space.\n",
    "            else:\n",
    "                row_inc = ws_inactive[n_constraint,:]\n",
    "                ws_active = np.vstack( (ws_active, row_inc))\n",
    "                ws_inactive = np.delete(ws_inactive, (n_constraint), axis=0)\n",
    "                ws = np.vstack((we,ws_active))\n",
    "                xk = xk + pk * alpha_k"
   ]
  },
  {
   "cell_type": "markdown",
   "metadata": {},
   "source": [
    "### Local SQP "
   ]
  },
  {
   "cell_type": "code",
   "execution_count": 328,
   "metadata": {},
   "outputs": [],
   "source": [
    "def sp_sub(var,value):\n",
    "    return list(zip(var,value))"
   ]
  },
  {
   "cell_type": "code",
   "execution_count": 338,
   "metadata": {},
   "outputs": [],
   "source": [
    "def SQP_solver(var, obj, lambda_0 = None, x0 = None ,ce = None, ci = None, solver = 'sqp_local'):\n",
    "    '''\n",
    "    x0 is 1D array\n",
    "\n",
    "\n",
    "    \n",
    "    '''\n",
    "\n",
    "     \n",
    "    # Initialization   \n",
    "    if solver is 'sqp_local':\n",
    "        print(\"Solving with the local SQP algorithm\")\n",
    "#     print(np.array(ce.subs(list(zip(x_vec, x0)))))\n",
    "    # Choose initial pair \n",
    "    Nx = np.shape(var)[0]\n",
    "    # Test if the given initial point is feasible.\n",
    "    if x0 is None:\n",
    "        x0 = np.zeros(Nx).reshape(-1,1)\n",
    "    if ce is not None:\n",
    "        if not np.all(np.array(ce.subs(sp_sub(x_vec, x0))) == 0):\n",
    "            print(\"Error\")\n",
    "            return None\n",
    "        Ne = np.shape(ce)[0]\n",
    "    else:\n",
    "        Ne = 0\n",
    "    if ci is not None:\n",
    "        if not np.all(np.array(ci.subs(sp_sub(x_vec, x0))) >= 0):\n",
    "            print(\"Error\")\n",
    "            return None\n",
    "        Ni = np.shape(ci)[0]\n",
    "    else:\n",
    "        Ni = 0\n",
    "    xk = x0\n",
    "    \n",
    "    if lambda_0 is None:\n",
    "        lambda_0 = np.zeros(Ne + Ni).reshape(-1,1)\n",
    "    lambda_k = lambda_0\n",
    "    print(Ne)\n",
    "    c_symb = ci.row_insert(0,ce)    #  (Ne + Ni) x 1\n",
    "    c_jac_symb = c_symb.jacobian(var)    #  (Ne + Ni) x Nx\n",
    "    ck = c_symb.subs(sp_sub(var, xk))\n",
    "    c_jac_k = c_jac_symb.subs(sp_sub(var, xk))    #  (Ne + Ni) x Nx\n",
    "    print(np.shape(c_jac_k))\n",
    "    \n",
    "    lambda_symb = sp.Matrix( sp.symbols('lambda0:' + str(Ne+Ni)))\n",
    "    fk = obj.subs(sp_sub(var, xk))\n",
    "    f_jac_symb = obj.jacobian(var).T # column vector\n",
    "    f_jac_k = f_jac_symb.subs(sp_sub(var, xk))\n",
    "\n",
    "    L_symb = f_jac_symb - c_jac_symb.T @ lambda_symb\n",
    "    L_hessian_xx_symb = L_symb.jacobian(var)\n",
    "    L_hessian_xx_k = L_hessian_xx_symb.subs(sp_sub(var, xk)).subs(sp_sub(lambda_symb,lambda_k))\n",
    "\n",
    "\n",
    "    G = np.array(L_hessian_xx_k,dtype='float')\n",
    "    c = np.array(f_jac_k,dtype='float')\n",
    "    ae = np.array(c_jac_k,dtype='float')[:Ne,:]\n",
    "    ai = np.array(c_jac_k,dtype='float')[Ne:,:]\n",
    "    \n",
    "    be = - np.array(ck,dtype='float' )[:Ne,:]\n",
    "    bi = - np.array(ck,dtype='float')[Ne:,:]\n",
    "    p,lambda_k = QP_activeset(G, c, ae = ae, be = be, ai = ai, bi= bi, x0 = None)\n",
    "    print(xk)\n",
    "    xk = xk + p\n"
   ]
  },
  {
   "cell_type": "code",
   "execution_count": 339,
   "metadata": {},
   "outputs": [],
   "source": [
    "x = sp.symbols('x0:3')\n",
    "x_vec = sp.Matrix([x[0],x[1],x[2]])\n",
    "P = np.diag([1,1,1])\n",
    "obj_vec = x_vec.T @ np.diag([1,1,1]) @ x_vec\n",
    "obj = obj_vec\n",
    "\n",
    "ce = sp.Matrix([x[0]+x[1]+x[2]-1])\n",
    "ci = sp.Matrix([x[0]])\n",
    "\n",
    "x0 = np.array([1,0,0])"
   ]
  },
  {
   "cell_type": "code",
   "execution_count": 340,
   "metadata": {},
   "outputs": [
    {
     "name": "stdout",
     "output_type": "stream",
     "text": [
      "Solving with the local SQP algorithm\n",
      "1\n",
      "(2, 3)\n",
      "solution find\n",
      "[1 0 0]\n"
     ]
    }
   ],
   "source": [
    "SQP_solver(x_vec, obj,ce = ce, ci = ci,x0 =x0 )"
   ]
  },
  {
   "cell_type": "code",
   "execution_count": 90,
   "metadata": {},
   "outputs": [
    {
     "data": {
      "text/plain": [
       "3"
      ]
     },
     "execution_count": 90,
     "metadata": {},
     "output_type": "execute_result"
    }
   ],
   "source": [
    "np.shape(x_vec)[0]"
   ]
  },
  {
   "cell_type": "code",
   "execution_count": 143,
   "metadata": {},
   "outputs": [
    {
     "data": {
      "text/latex": [
       "$\\displaystyle \\left[\\begin{matrix}2 & 0 & 0\\\\0 & 2 & 0\\\\0 & 0 & 2\\end{matrix}\\right]$"
      ],
      "text/plain": [
       "Matrix([\n",
       "[2, 0, 0],\n",
       "[0, 2, 0],\n",
       "[0, 0, 2]])"
      ]
     },
     "execution_count": 143,
     "metadata": {},
     "output_type": "execute_result"
    }
   ],
   "source": [
    "obj.jacobian(x_vec).jacobian(x_vec)\n",
    "# np.shape(x_vec)\n"
   ]
  },
  {
   "cell_type": "code",
   "execution_count": 137,
   "metadata": {},
   "outputs": [
    {
     "data": {
      "text/latex": [
       "$\\displaystyle \\left[\\begin{matrix}1\\end{matrix}\\right]$"
      ],
      "text/plain": [
       "Matrix([[1]])"
      ]
     },
     "execution_count": 137,
     "metadata": {},
     "output_type": "execute_result"
    }
   ],
   "source": [
    "obj.subs(sp_sub(x_vec, x0))"
   ]
  },
  {
   "cell_type": "code",
   "execution_count": 120,
   "metadata": {},
   "outputs": [
    {
     "name": "stdout",
     "output_type": "stream",
     "text": [
      "Matrix([[5]])\n"
     ]
    },
    {
     "data": {
      "text/plain": [
       "array([[False]])"
      ]
     },
     "execution_count": 120,
     "metadata": {},
     "output_type": "execute_result"
    }
   ],
   "source": [
    "vec = np.zeros(3)\n",
    "vec = np.array([1,2,3])\n",
    "vec[2] = 3\n",
    "\n",
    "\n",
    "obj\n",
    "\n",
    "a = ce.subs(sp_sub(x_vec, vec))\n",
    "print(a)\n",
    "np.array(a)==1"
   ]
  },
  {
   "cell_type": "code",
   "execution_count": 64,
   "metadata": {},
   "outputs": [
    {
     "data": {
      "text/plain": [
       "array([], dtype=float64)"
      ]
     },
     "execution_count": 64,
     "metadata": {},
     "output_type": "execute_result"
    }
   ],
   "source": [
    "np.zeros(0)"
   ]
  },
  {
   "cell_type": "code",
   "execution_count": 151,
   "metadata": {},
   "outputs": [
    {
     "data": {
      "text/plain": [
       "(1, 1)"
      ]
     },
     "execution_count": 151,
     "metadata": {},
     "output_type": "execute_result"
    }
   ],
   "source": [
    "np.shape(ci)"
   ]
  },
  {
   "cell_type": "code",
   "execution_count": 185,
   "metadata": {},
   "outputs": [
    {
     "name": "stdout",
     "output_type": "stream",
     "text": [
      "Matrix([[x0 + x1 + x2 - 1], [x0]])\n"
     ]
    }
   ],
   "source": [
    "constraint = ci.row_insert(0,ce)\n",
    "print(constraint)"
   ]
  },
  {
   "cell_type": "code",
   "execution_count": 256,
   "metadata": {},
   "outputs": [
    {
     "data": {
      "text/latex": [
       "$\\displaystyle \\left[\\begin{matrix}2 & 0 & 0\\\\0 & 4 & 0\\\\0 & 0 & 6\\end{matrix}\\right]$"
      ],
      "text/plain": [
       "Matrix([\n",
       "[2, 0, 0],\n",
       "[0, 4, 0],\n",
       "[0, 0, 6]])"
      ]
     },
     "execution_count": 256,
     "metadata": {},
     "output_type": "execute_result"
    }
   ],
   "source": [
    "A = sp.symbols('a0:3')\n",
    "lambda_s = sp.symbols('lambda0:' + str(3))\n",
    "# test = sp.Matrix([a[0]+])\n",
    "test = sp.diag(*A) + sp.diag(*lambda_s)\n",
    "test.subs(sp_sub(A,[1,2,3])).subs(sp_sub(lambda_s,[1,2,3]))"
   ]
  },
  {
   "cell_type": "code",
   "execution_count": null,
   "metadata": {},
   "outputs": [],
   "source": []
  }
 ],
 "metadata": {
  "kernelspec": {
   "display_name": "Python 3",
   "language": "python",
   "name": "python3"
  },
  "language_info": {
   "codemirror_mode": {
    "name": "ipython",
    "version": 3
   },
   "file_extension": ".py",
   "mimetype": "text/x-python",
   "name": "python",
   "nbconvert_exporter": "python",
   "pygments_lexer": "ipython3",
   "version": "3.7.7"
  }
 },
 "nbformat": 4,
 "nbformat_minor": 4
}
