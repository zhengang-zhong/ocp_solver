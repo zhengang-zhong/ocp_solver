{
 "cells": [
  {
   "cell_type": "code",
   "execution_count": 422,
   "metadata": {},
   "outputs": [],
   "source": [
    "import casadi as ca\n",
    "import numpy as np\n",
    "from scipy.linalg import sqrtm\n",
    "import matplotlib.pyplot as plt"
   ]
  },
  {
   "cell_type": "markdown",
   "metadata": {},
   "source": [
    "## Unscented Kalman filter"
   ]
  },
  {
   "cell_type": "markdown",
   "metadata": {},
   "source": [
    "Since EKF propogate the mean and covariance of the state on the basis of the linearization, the estimation of EKF would be erroneous if the system is highly nonlinear. The unscented Kalman filter (UKF) significantly diminishes the linearization errors brought by EKF.  "
   ]
  },
  {
   "cell_type": "markdown",
   "metadata": {},
   "source": [
    "The underlying idea of UKF is that we use the unscented transformation to propogate the mean and covariance of a system for each time update and measurement update, whereas the EKF uses linearization instead. "
   ]
  },
  {
   "cell_type": "markdown",
   "metadata": {},
   "source": [
    "reference: Dan Siomon, Optimal State Estimation."
   ]
  },
  {
   "cell_type": "markdown",
   "metadata": {},
   "source": [
    "### UKF alogrithm"
   ]
  },
  {
   "cell_type": "markdown",
   "metadata": {},
   "source": [
    "#### Step1: Define a discrete-time nonlinear system\n",
    "<center>\n",
    "$$\\begin{aligned} x_{k+1} &=f\\left(x_{k}, u_{k}, t_{k}\\right)+w_{k} \\\\ y_{k} &=h\\left(x_{k}, t_{k}\\right)+v_{k} \\\\ w_{k} & \\sim\\left(0, Q_{k}\\right) \\\\ v_{k} & \\sim\\left(0, R_{k}\\right), \\end{aligned}$$\n",
    "</center>\n",
    "where the state $x_k$ is a vector with $n$ elements. The noise processes ${w_k}$ and ${v_k}$ are white, zero-mean, uncorrelated, and have known covariance matriced $Q_k$ and $R_k$."
   ]
  },
  {
   "cell_type": "markdown",
   "metadata": {},
   "source": [
    "#### Step 2: Initialize the UKF\n",
    "<center>\n",
    "$\\begin{aligned} \\hat{x}_{0}^{+} &=E\\left(x_{0}\\right) \\\\ P_{0}^{+} &=E\\left[\\left(x_{0}-\\hat{x}_{0}^{+}\\right)\\left(x_{0}-\\hat{x}_{0}^{+}\\right)^{T}\\right] \\end{aligned}$    \n",
    "<center>"
   ]
  },
  {
   "cell_type": "markdown",
   "metadata": {},
   "source": [
    "#### Step 3: Time update\n",
    "The state estimate and covriance are propogated from $\\hat{x}_{k-1}$ to $\\hat{x}_{k}$.\n",
    "\n",
    "1. Choose $2n$ sigma points $\\hat{x}^{(i)}_{k-1}$ for the best mean and covariance guess at time instant $k$ based on the estimation at $k-1$.\n",
    "<center>\n",
    "    $\\begin{aligned} \\hat{x}_{k-1}^{(i)} &=\\hat{x}_{k-1}^{+}+\\tilde{x}^{(i)} \\quad i=1, \\cdots, 2 n \\\\ \\tilde{x}^{(i)} &=\\left(\\sqrt{n P_{k-1}^{+}}\\right)_{i}^{T} \\quad i=1, \\cdots, n \\\\ \\tilde{x}^{(n+i)} &=-\\left(\\sqrt{n P_{k-1}^{+}}\\right)_{i}^{T} \\quad i=1, \\cdots, n \\end{aligned}$\n",
    "<center>"
   ]
  },
  {
   "cell_type": "markdown",
   "metadata": {},
   "source": [
    "2. Tranform the simga points $\\hat{x}_{k-1}^{(i)}$ into $\\hat{x}^{(i)}_{k}$ vectors using the given nonlinear system $f\\left(x_{k}, u_{k}, t_{k}\\right)$ in the first step.\n",
    "<center>\n",
    "    $\\hat{x}_{k}^{(i)}=f\\left(\\hat{x}_{k-1}^{(i)}, u_{k}, t_{k}\\right)$    \n",
    "<center>"
   ]
  },
  {
   "cell_type": "markdown",
   "metadata": {},
   "source": [
    "3. Make a weighted average of $\\hat{x}_k^{(i)}$ to acquire the the a priori state estimate at the time instant $k$ (here assigned equal weight).\n",
    "<center>\n",
    "    $\\hat{x}_{k}^{-}=\\frac{1}{2 n} \\sum_{i=1}^{2 n} \\hat{x}_{k}^{(i)}$\n",
    "<center>"
   ]
  },
  {
   "cell_type": "markdown",
   "metadata": {},
   "source": [
    "4. Update the a priori error covariance with the concideration of the process noise $Q_{k-1}$.\n",
    "<center>\n",
    "    $P_{k}^{-}=\\frac{1}{2 n} \\sum_{i=1}^{2 n}\\left(\\hat{x}_{k}^{(i)}-\\hat{x}_{k}^{-}\\right)\\left(\\hat{x}_{k}^{(i)}-\\hat{x}_{k}^{-}\\right)^{T}+Q_{k-1}$\n",
    "<center>\n",
    "    "
   ]
  },
  {
   "cell_type": "markdown",
   "metadata": {},
   "source": [
    "#### Step 4: Measurement update"
   ]
  },
  {
   "cell_type": "markdown",
   "metadata": {},
   "source": [
    "1. Choose $2n$ sigma points $\\hat{x}_k^{(i)}$.\n",
    "<center>\n",
    "    $\\begin{aligned} \\hat{x}_{k}^{(i)} &=\\hat{x}_{k}^{-}+\\tilde{x}^{(i)} \\quad i=1, \\cdots, 2 n \\\\ \\tilde{x}^{(i)} &=\\left(\\sqrt{n P_{k}^{-}}\\right)_{i}^{T} \\quad i=1, \\cdots, n \\\\ \\tilde{x}^{(n+i)} &=-\\left(\\sqrt{n P_{k}^{-}}\\right)_{i}^{T} \\quad i=1, \\cdots, n \\end{aligned}$\n",
    "<center>\n",
    "\n",
    "    This step could be omitted for saving computational effort; instead, reuse the result from step 3.2. "
   ]
  },
  {
   "cell_type": "markdown",
   "metadata": {},
   "source": [
    "2. Tranform the sigma points into the predicted mearsurements $\\hat{y}_k^{(i)}$.\n",
    "<center>\n",
    "    $\\hat{y}_{k}^{(i)}=h\\left(\\hat{x}_{k}^{(i)}, t_{k}\\right)$\n",
    "    \n",
    "<center>"
   ]
  },
  {
   "cell_type": "markdown",
   "metadata": {},
   "source": [
    "3. \n",
    "Make a weighted average of the predicted measurements as in the step 2.3.\n",
    "<center>\n",
    "    $\\hat{y}_{k}=\\frac{1}{2 n} \\sum_{i=1}^{2 n} \\hat{y}_{k}^{(i)}$\n",
    "<center>"
   ]
  },
  {
   "cell_type": "markdown",
   "metadata": {},
   "source": [
    "4. Estimate the covavriance of the predicted measurement with the consideration of the measurement noise $R_k$.\n",
    "<center>\n",
    "$P_{y}=\\frac{1}{2 n} \\sum_{i=1}^{2 n}\\left(\\hat{y}_{k}^{(i)}-\\hat{y}_{k}\\right)\\left(\\hat{y}_{k}^{(i)}-\\hat{y}_{k}\\right)^{T}+R_{k}$\n",
    "<center>"
   ]
  },
  {
   "cell_type": "markdown",
   "metadata": {},
   "source": [
    "5. Estimate the cross covariance between $\\hat{x}_{k}^{-}$ and $\\hat{y}_{k}$.\n",
    "<center>\n",
    "$P_{x y}=\\frac{1}{2 n} \\sum_{i=1}^{2 n}\\left(\\hat{x}_{k}^{(i)}-\\hat{x}_{k}^{-}\\right)\\left(\\hat{y}_{k}^{(i)}-\\hat{y}_{k}\\right)^{T}$\n",
    "<center>"
   ]
  },
  {
   "cell_type": "markdown",
   "metadata": {},
   "source": [
    "6. Update the a posteriori estimate.\n",
    "<center>\n",
    "    $\\begin{aligned} K_{k} &=P_{x y} P_{y}^{-1} \\\\ \\hat{x}_{k}^{+} &=\\hat{x}_{k}^{-}+K_{k}\\left(y_{k}-\\hat{y}_{k}\\right) \\\\ P_{k}^{+} &=P_{k}^{-}-K_{k} P_{y} K_{k}^{T} \\end{aligned}$\n",
    "<center>"
   ]
  },
  {
   "cell_type": "code",
   "execution_count": 33,
   "metadata": {},
   "outputs": [
    {
     "data": {
      "text/plain": [
       "array([[1., 0., 0.],\n",
       "       [0., 2., 0.],\n",
       "       [0., 0., 3.]])"
      ]
     },
     "execution_count": 33,
     "metadata": {},
     "output_type": "execute_result"
    }
   ],
   "source": [
    "a = np.diag([1,4,9])\n",
    "\n",
    "b = sqrtm(a)\n",
    "\n"
   ]
  },
  {
   "cell_type": "code",
   "execution_count": 46,
   "metadata": {},
   "outputs": [
    {
     "data": {
      "text/plain": [
       "SX(1)"
      ]
     },
     "execution_count": 46,
     "metadata": {},
     "output_type": "execute_result"
    }
   ],
   "source": [
    "a = np.diag([1,4,9])\n",
    "\n",
    "a= ca.SX.sym(\"a\",1)\n",
    "b= ca.SX.sym(\"b\",1)\n",
    "\n",
    "c = ca.SX(1) \n",
    "\n",
    "fn = ca.Function(\"fn\",[a],[a**2])\n",
    "fn(c)\n",
    "\n"
   ]
  },
  {
   "cell_type": "code",
   "execution_count": null,
   "metadata": {},
   "outputs": [],
   "source": [
    "b = ca.DM(a)\n",
    "\n",
    "type(np.array(b))"
   ]
  },
  {
   "cell_type": "code",
   "execution_count": 221,
   "metadata": {},
   "outputs": [],
   "source": [
    "def RK4_ca(f, x, u, t, h):\n",
    "    \"\"\"\n",
    "    Runge-Kutta 4th order solver using casadi.\n",
    "\n",
    "    Args:\n",
    "        f: First order ODE in casadi function (Nx + Nt -> Nx).\n",
    "        x: Current value (list or numpy array). \n",
    "        t: Current time.\n",
    "        h: Step length.\n",
    "    Returns:\n",
    "        x_next: Vector of next value in casadi DM\n",
    "    \"\"\"\n",
    "    k1 = f(x, u, t)\n",
    "    k2 = f(x + h / 2 * k1, u, t + h / 2)\n",
    "    k3 = f(x + h / 2 * k2, u, t + h / 2)\n",
    "    k4 = f(x + h * k3, u, t + h)\n",
    "    x_next = x + h / 6 * (k1 + 2 * k2 + 2 * k3 + k4)\n",
    "    return x_next"
   ]
  },
  {
   "cell_type": "code",
   "execution_count": 222,
   "metadata": {},
   "outputs": [],
   "source": [
    "def ode_nominal(x, u, t):\n",
    "    \"\"\"\n",
    "\n",
    "    \"\"\"\n",
    "    # Parameter konfiguration\n",
    "    rho_0 = 2    # [1b-sec^{2}/ft^{4}]\n",
    "    g = 32.2    # [ft/sec^{2}]\n",
    "    k = 2e4    # [ft]\n",
    "    E_v = 1e4    # [ft2]\n",
    "    E_wf = 0    #\n",
    "    M = 1e5    # [ft]\n",
    "    a = 1e5    # [ft]\n",
    "\n",
    "    rhs = [x[1],\n",
    "           rho_0 * ca.exp(-x[0]/k) * x[1]**2 * x[2]/2 - g,\n",
    "           0\n",
    "           ]\n",
    "    return ca.vertcat(*rhs)\n"
   ]
  },
  {
   "cell_type": "code",
   "execution_count": 223,
   "metadata": {},
   "outputs": [],
   "source": [
    "def ode_noised(x, u, w, t):\n",
    "    \"\"\"\n",
    "\n",
    "    \"\"\"\n",
    "    # Parameter konfiguration\n",
    "    rho_0 = 2    # [1b-sec^{2}/ft^{4}]\n",
    "    g = 32.2    # [ft/sec^{2}]\n",
    "    k = 2e4    # [ft]\n",
    "    E_v = 1e4    # [ft2]\n",
    "    E_wf = 0    #\n",
    "    M = 1e5    # [ft]\n",
    "    a = 1e5    # [ft]\n",
    "\n",
    "    rhs = [x[1] + w[0],\n",
    "           rho_0 * ca.exp(-x[0]/k) * x[1]**2 * x[2]/2 - g + w[1],\n",
    "           0 + w[2]\n",
    "           ]\n",
    "    return ca.vertcat(*rhs)"
   ]
  },
  {
   "cell_type": "code",
   "execution_count": 224,
   "metadata": {},
   "outputs": [],
   "source": [
    "def h_nominal(x, t):\n",
    "    \"\"\"\n",
    "    Nominal measurement function \n",
    "    \"\"\"\n",
    "    # Parameter konfiguration\n",
    "    rho_0 = 2    # [1b-sec^{2}/ft^{4}]\n",
    "    g = 32.2    # [ft/sec^{2}]\n",
    "    k = 2e4    # [ft]\n",
    "    E_v = 1e4    # [ft2]\n",
    "    E_wf = 0    #\n",
    "    M = 1e5    # [ft]\n",
    "    a = 1e5    # [ft]\n",
    "\n",
    "    rhs = [ca.sqrt(M**2 + (x[0] - a)**2)\n",
    "           ]\n",
    "    return ca.vertcat(*rhs)\n"
   ]
  },
  {
   "cell_type": "code",
   "execution_count": 225,
   "metadata": {},
   "outputs": [],
   "source": [
    "def h_noise(x, v, t):\n",
    "    \"\"\"\n",
    "    Nominal measurement function \n",
    "    \"\"\"\n",
    "    # Parameter konfiguration\n",
    "    rho_0 = 2    # [1b-sec^{2}/ft^{4}]\n",
    "    g = 32.2    # [ft/sec^{2}]\n",
    "    k = 2e4    # [ft]\n",
    "    E_v = 1e4    # [ft2]\n",
    "    E_wf = 0    #\n",
    "    M = 1e5    # [ft]\n",
    "    a = 1e5    # [ft]\n",
    "\n",
    "    rhs = [ca.sqrt(M**2 + (x[0] - a)**2) + v[0]\n",
    "           ]\n",
    "    return ca.vertcat(*rhs)"
   ]
  },
  {
   "cell_type": "code",
   "execution_count": 382,
   "metadata": {},
   "outputs": [],
   "source": [
    "def UKF(f, h, x0, P0, Q0,y1, u1, t1, R1):\n",
    "    '''\n",
    "    \n",
    "    Args:\n",
    "        f:\n",
    "        x0:\n",
    "    TODO: P may need to be symmetrized: (P+P.T)/2\n",
    "    \n",
    "    Return:\n",
    "    \n",
    "    '''\n",
    "    # Initialization\n",
    "    \n",
    "    # Transfer x0 in casadi.casadi.DM\n",
    "    if isinstance(x0,list) or isinstance(x0,np.ndarray):\n",
    "        x0_DM = ca.DM(x0)\n",
    "    else:\n",
    "        x0_DM = x0\n",
    "#         print(type(x0_DM))\n",
    "    # Transfer P0 in casadi.casadi.DM\n",
    "    if isinstance(P0,list) or isinstance(P0,np.ndarray):\n",
    "        P0_DM = ca.DM(P0)\n",
    "    else:\n",
    "        P0_DM = P0\n",
    "\n",
    "    Nx = x0_DM.shape[0]    \n",
    "    Ny = np.shape(y1)[0]\n",
    "\n",
    "    # TIME UPDATE\n",
    "    # Choose 2n sigma points \\hat{x}_{k-1}^{(i)} given the P_{k-1}^{+}\n",
    "    x_tilde_matrix_temp = ca.DM(sqrtm(Nx*P0_DM)).T\n",
    "    x_tilde_matrix = ca.horzcat(x_tilde_matrix_temp,-x_tilde_matrix_temp)\n",
    "#     print(x_tilde_matrix)\n",
    "    x0_hat_matrix = x0_DM + x_tilde_matrix\n",
    "    \n",
    "    # transform the sigma points into x_k^{(i)}} \n",
    "    x1_hat_matrix = ca.DM.zeros(Nx,2*Nx)\n",
    "    for i in range(2*Nx):\n",
    "        x1_hat_matrix[:,i] = f(x0_hat_matrix[:,i], u1, t1)\n",
    "        \n",
    "    # calculate the a priori state estimate \n",
    "    x1_apriori = ca.DM.zeros(Nx)\n",
    "\n",
    "    for i in range(2*Nx):\n",
    "        x1_apriori += x1_hat_matrix[:,i]\n",
    "    x1_apriori = x1_apriori/(2*Nx)\n",
    "#     print(x_1_apriori)\n",
    "\n",
    "    # estimate a priori error covariance\n",
    "    P1_apriori = ca.DM.zeros(Nx,Nx)\n",
    "    for i in range(2*Nx):\n",
    "        P1_apriori += (x1_hat_matrix[:,i] - x1_apriori) @ (x1_hat_matrix[:,i] - x1_apriori).T\n",
    "    P1_apriori = P1_apriori/(2*Nx) + Q0\n",
    "\n",
    "    \n",
    "    #MEASUREMENT UPDATE\n",
    "    # Choose 2n sigma points \\hat{x}_{k}^{(i)} given the P_{k}^{-}\n",
    "    x_tilde_matrix_temp = ca.DM(sqrtm(Nx*P1_apriori)).T\n",
    "    x_tilde_matrix = ca.horzcat(x_tilde_matrix_temp,-x_tilde_matrix_temp)\n",
    "    x1_hat_matrix = x1_apriori + x_tilde_matrix\n",
    "    # transform the sigma points into y_{k}^{(i)}} \n",
    "    y1_hat_matrix = ca.DM.zeros(Ny,2*Nx)\n",
    "    for i in range(2*Nx):\n",
    "        y1_hat_matrix[:,i] = h(x1_hat_matrix[:,i], t1)\n",
    "    \n",
    "    y1_hat = ca.DM.zeros(Ny)\n",
    "    for i in range(2*Nx):\n",
    "        y1_hat += y1_hat_matrix[:,i]\n",
    "    y1_hat = y1_hat/(2*Nx)    \n",
    "    \n",
    "    \n",
    "    # Covariance estimate\n",
    "    Py = ca.DM.zeros(Ny,Ny)\n",
    "    for i in range(2*Nx):\n",
    "        Py += (y1_hat_matrix[:,i] - y1_hat) @ (y1_hat_matrix[:,i] - y1_hat).T\n",
    "    Py = Py/(2*Nx) + R1\n",
    "\n",
    "#     print(y1_hat)\n",
    "    Pxy = ca.DM.zeros(Nx,Ny)\n",
    "    for i in range(2*Nx):\n",
    "        Pxy += (x1_hat_matrix[:,i] - x1_apriori) @ (y1_hat_matrix[:,i] - y1_hat).T\n",
    "    Pxy = Pxy/(2*Nx) \n",
    "    \n",
    "    # a posteriori estimate\n",
    "    K1 =  Pxy @ np.linalg.inv(Py)\n",
    "    x1_aposteriori = x1_apriori + K1 @ (y1 - y1_hat)\n",
    "    P1_aposteriori = P1_apriori - K1 @ Py @ K1.T\n",
    "#     print(x1_aposteriori)\n",
    "    return x1_aposteriori, P1_aposteriori"
   ]
  },
  {
   "cell_type": "code",
   "execution_count": 383,
   "metadata": {},
   "outputs": [],
   "source": [
    "Nx = 3    # x dimension: 3\n",
    "Nt = 1    # t dimension: 1\n",
    "Nu = 0\n",
    "Nw = 3\n",
    "Nv = 1\n",
    "\n",
    "\n",
    "x = ca.SX.sym('x', Nx)\n",
    "t = ca.SX.sym('t', Nt)\n",
    "u = ca.SX.sym('u', Nu)\n",
    "w = ca.SX.sym('w', Nw)\n",
    "v = ca.SX.sym('t', Nv)\n",
    "\n",
    "# Construct a casadi function for the ODE\n",
    "fn_ca = ca.Function(\"ode_func\", [x,u,t], [ode_nominal(x,u,t)])\n",
    "fn_noised_ca = ca. Function(\"ode_noised_func\", [x, u,  t],[ode_noised(x, u, w, t)]) ##\n",
    "hn_ca = ca.Function(\"measurement_func\", [x, t], [h_nominal(x,t)])\n",
    "hn_noised_ca = ca.Function(\"measurement_noised_func\", [x, v, t], [h_noise(x, v, t)])\n",
    "\n",
    "\n",
    "h = 1e-3\n",
    "fn_dis = ca.Function(\"ode_disc\", [x,u,t], [RK4_ca(fn_ca, x, u, t, h)])\n",
    "\n",
    "\n",
    "fn_noised_dis = ca.Function(\"ode_disc\", [x,u, w,t], [RK4_ca(fn_noised_ca, x, u, t, h)])"
   ]
  },
  {
   "cell_type": "code",
   "execution_count": 470,
   "metadata": {},
   "outputs": [],
   "source": [
    "x0 = np.array([3e5,-2e4,1e-3])\n",
    "f=1\n",
    "P0= ca.diag([1e6,4e6,10])\n",
    "Q0=ca.diag([0,0,0])\n",
    "R1=ca.diag(1e4)\n",
    "t1= 1\n",
    "u1 = 1\n",
    "mu_v = 0\n",
    "sigma_v = ca.sqrt(R1)[0] \n",
    "\n",
    "\n",
    "w = [0,0,0]"
   ]
  },
  {
   "cell_type": "code",
   "execution_count": 385,
   "metadata": {},
   "outputs": [
    {
     "data": {
      "text/plain": [
       "DM([299980, -20000, 0.001])"
      ]
     },
     "execution_count": 385,
     "metadata": {},
     "output_type": "execute_result"
    }
   ],
   "source": [
    "# fn(x0,1,1)"
   ]
  },
  {
   "cell_type": "code",
   "execution_count": 386,
   "metadata": {},
   "outputs": [
    {
     "data": {
      "text/plain": [
       "DM([299980, -20000, 0.001])"
      ]
     },
     "execution_count": 386,
     "metadata": {},
     "output_type": "execute_result"
    }
   ],
   "source": [
    "# fn_noised_dis(x0,1, [0,0,0], 1)"
   ]
  },
  {
   "cell_type": "code",
   "execution_count": 387,
   "metadata": {},
   "outputs": [
    {
     "data": {
      "text/plain": [
       "array([176.4052346])"
      ]
     },
     "execution_count": 387,
     "metadata": {},
     "output_type": "execute_result"
    }
   ],
   "source": [
    "# np.random.seed(0)\n",
    "\n",
    "# v_noise = np.random.normal(mu_v, sigma_v, 1)\n",
    "# v_noise"
   ]
  },
  {
   "cell_type": "code",
   "execution_count": 388,
   "metadata": {},
   "outputs": [
    {
     "data": {
      "text/plain": [
       "array([40.01572084])"
      ]
     },
     "execution_count": 388,
     "metadata": {},
     "output_type": "execute_result"
    }
   ],
   "source": [
    "# v_noise = np.random.normal(mu_v, sigma_v, 1)\n",
    "# v_noise"
   ]
  },
  {
   "cell_type": "code",
   "execution_count": 389,
   "metadata": {},
   "outputs": [
    {
     "data": {
      "text/plain": [
       "DM([299980, -20000, 0.001])"
      ]
     },
     "execution_count": 389,
     "metadata": {},
     "output_type": "execute_result"
    }
   ],
   "source": [
    "# fn_noised_dis(x0,1,w,1)"
   ]
  },
  {
   "cell_type": "code",
   "execution_count": 400,
   "metadata": {},
   "outputs": [
    {
     "name": "stdout",
     "output_type": "stream",
     "text": [
      "<class 'casadi.casadi.DM'> \n",
      "[[1231.91, 19343.8, 0.0442114], \n",
      " [19343.8, 3.86347e+06, 12.9915], \n",
      " [0.0442114, 12.9915, 10]]\n"
     ]
    }
   ],
   "source": [
    "# y1 = hn_noised_ca(x0, v_noise,1)\n",
    "# x0, P0 = UKF(fn_dis, hn_ca, x0, P0, Q0, y1, u1, t1, R1)\n",
    "# print(type(x0),P0)"
   ]
  },
  {
   "cell_type": "code",
   "execution_count": 471,
   "metadata": {},
   "outputs": [
    {
     "name": "stdout",
     "output_type": "stream",
     "text": [
      "30001\n"
     ]
    }
   ],
   "source": [
    "x_real_plot = []\n",
    "x_estimate_plot = []\n",
    "y_plot = []\n",
    "\n",
    "x1_real = x0\n",
    "x_real_plot.append(ca_to_list_1d(x1_real))\n",
    "x_estimate_plot.append(ca_to_list_1d(x0))\n",
    "\n",
    "t_l = 30000\n",
    "for i in range(t_l):\n",
    "    x1_real = fn_noised_dis(x1_real,1,w,1)\n",
    "    x_real_plot.append(ca_to_list_1d(x1_real))\n",
    "    if i % 500 == 0:\n",
    "        y1 = hn_noised_ca(x1_real, v_noise,1)\n",
    "        y_plot.append(ca_to_list_1d(y1))\n",
    "    x1_estimate, P0 = UKF(fn, hn_ca, x0, P0, Q0, y1, u1, t1, R1)\n",
    "    x_estimate_plot.append(ca_to_list_1d(x1_estimate))\n",
    "    x0 = x1_estimate\n",
    "# print(x_estimate_plot)\n",
    "# print(x_real_plot)\n",
    "# print(y_plot)\n",
    "\n",
    "\n",
    "\n",
    "print(len(x_estimate_plot))"
   ]
  },
  {
   "cell_type": "code",
   "execution_count": 472,
   "metadata": {},
   "outputs": [
    {
     "data": {
      "text/plain": [
       "array([[ 3.00000000e+05, -2.00000000e+04,  1.00000000e-03],\n",
       "       [ 3.00023694e+05, -1.99998573e+04,  1.00002674e-03],\n",
       "       [ 3.00014150e+05, -1.99964612e+04,  1.00158709e-03],\n",
       "       ...,\n",
       "       [ 2.94327694e+05, -4.04880589e+02,  4.32913398e+02],\n",
       "       [ 2.94327364e+05, -4.04873937e+02,  4.32936824e+02],\n",
       "       [ 2.94327034e+05, -4.04867271e+02,  4.32960281e+02]])"
      ]
     },
     "execution_count": 472,
     "metadata": {},
     "output_type": "execute_result"
    }
   ],
   "source": [
    "(np.array(x_estimate_plot))"
   ]
  },
  {
   "cell_type": "code",
   "execution_count": 473,
   "metadata": {},
   "outputs": [
    {
     "data": {
      "text/plain": [
       "[300000.0, -20000.0, 0.001]"
      ]
     },
     "execution_count": 473,
     "metadata": {},
     "output_type": "execute_result"
    }
   ],
   "source": [
    "x_real_plot[0]"
   ]
  },
  {
   "cell_type": "code",
   "execution_count": 475,
   "metadata": {},
   "outputs": [
    {
     "data": {
      "text/plain": [
       "[<matplotlib.lines.Line2D at 0x7fd9f5482050>]"
      ]
     },
     "execution_count": 475,
     "metadata": {},
     "output_type": "execute_result"
    },
    {
     "data": {
      "image/png": "[encoded data removed]",
      "text/plain": [
       "<Figure size 432x288 with 1 Axes>"
      ]
     },
     "metadata": {
      "needs_background": "light"
     },
     "output_type": "display_data"
    }
   ],
   "source": [
    "t = np.arange(t_l+1)\n",
    "plt.plot(t,np.array(x_estimate_plot)[:,1])\n",
    "plt.plot(t,np.array(x_real_plot)[:,1])"
   ]
  },
  {
   "cell_type": "code",
   "execution_count": 79,
   "metadata": {},
   "outputs": [
    {
     "name": "stdout",
     "output_type": "stream",
     "text": [
      "<class 'casadi.casadi.DM'>\n"
     ]
    }
   ],
   "source": [
    "print(type(ca.DM([1,2,3])))"
   ]
  },
  {
   "cell_type": "code",
   "execution_count": 92,
   "metadata": {},
   "outputs": [
    {
     "name": "stdout",
     "output_type": "stream",
     "text": [
      "<class 'numpy.ndarray'>\n"
     ]
    },
    {
     "data": {
      "text/plain": [
       "DM(\n",
       "[[1.73205, 0, 0], \n",
       " [0, 3.4641, 0], \n",
       " [0, 0, 5.19615]])"
      ]
     },
     "execution_count": 92,
     "metadata": {},
     "output_type": "execute_result"
    }
   ],
   "source": [
    "a = np.diag([1,4,9])\n",
    "\n",
    "a_DM = ca.DM(a)\n",
    "\n",
    "b = sqrtm(a_DM)\n",
    "print(type(b))\n",
    "n = 3\n",
    "sigma_matrix = ca.DM(sqrtm(n*a_DM)).T\n",
    "sigma_matrix"
   ]
  },
  {
   "cell_type": "code",
   "execution_count": 95,
   "metadata": {},
   "outputs": [
    {
     "data": {
      "text/plain": [
       "array([ 3.e+05, -2.e+04,  1.e-03])"
      ]
     },
     "execution_count": 95,
     "metadata": {},
     "output_type": "execute_result"
    }
   ],
   "source": [
    "x0 = np.array([3e5,-2e4,1e-3])\n",
    "x0"
   ]
  },
  {
   "cell_type": "markdown",
   "metadata": {},
   "source": [
    "$\\rho$"
   ]
  },
  {
   "cell_type": "code",
   "execution_count": 410,
   "metadata": {},
   "outputs": [
    {
     "name": "stdout",
     "output_type": "stream",
     "text": [
      "[1.0, 2.0, 3.0]\n"
     ]
    },
    {
     "data": {
      "text/plain": [
       "[[1.0], [2.0], [3.0]]"
      ]
     },
     "execution_count": 410,
     "metadata": {},
     "output_type": "execute_result"
    }
   ],
   "source": [
    "a = ca.DM([1,2,3])\n",
    "print(ca_to_list_1d(a))\n",
    "\n"
   ]
  },
  {
   "cell_type": "code",
   "execution_count": 409,
   "metadata": {},
   "outputs": [],
   "source": [
    "def ca_to_list_1d(ca_data):\n",
    "    return np.array(ca_data).reshape(1, -1).flatten().tolist()"
   ]
  },
  {
   "cell_type": "code",
   "execution_count": null,
   "metadata": {},
   "outputs": [],
   "source": []
  }
 ],
 "metadata": {
  "kernelspec": {
   "display_name": "Python 3",
   "language": "python",
   "name": "python3"
  },
  "language_info": {
   "codemirror_mode": {
    "name": "ipython",
    "version": 3
   },
   "file_extension": ".py",
   "mimetype": "text/x-python",
   "name": "python",
   "nbconvert_exporter": "python",
   "pygments_lexer": "ipython3",
   "version": "3.7.7"
  }
 },
 "nbformat": 4,
 "nbformat_minor": 4
}
