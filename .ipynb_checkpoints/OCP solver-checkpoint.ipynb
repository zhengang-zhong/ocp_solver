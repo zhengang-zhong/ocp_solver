{
 "cells": [
  {
   "cell_type": "code",
   "execution_count": 113,
   "metadata": {},
   "outputs": [],
   "source": [
    "import casadi as ca\n",
    "import numpy as np\n",
    "import sympy as sy"
   ]
  },
  {
   "cell_type": "markdown",
   "metadata": {},
   "source": [
    "## OCP Solver"
   ]
  },
  {
   "cell_type": "markdown",
   "metadata": {},
   "source": [
    "The purpose of this program is to demonstrate how to solve a DAE-constrianed optimization problem. All the solving methods can be divided into two directions: indirect method and direct method. The direct method solves a boundary value problem in ODE. This method is usually called *first optimiza, then discretize*, since the conditions of optimality are at first written in a continuous-time formulation, and then discretized for a numerical solution.\n",
    "\n",
    "The direct method - an more general and computationally efficient method - transform the DAE-constrianed optimization problem into nonlinear program (NLP). This approach is also well known as *first discretize then optimiza* strategy. The direct method can be further classified as single shooting, multiple shooting and collocation method, based on their way to handle the continuous-time DAE. In the following, only direct method will be considered.\n",
    "\n",
    "A standard dynamic optimzation strategy therefore incorporates three parts: DAE solver, Sensitivity Calculations and NLP Solver.\n",
    "\n",
    "DAE Solver：DAE solver applies numerical methods to find the solution of initial value problems. Single shooting method only discretizes the control variables, and DAE model is integrated w.r.t. the given control varibles and the initial condition. The multiple shooting method discretizes the control varible and states simultaneously, and the DAE is integrated in small elements (within each discretization interval). Extra equality constraints following the continuity condition across boundary of the intervals should be included. The collocation simultaneously discretizes the state and control profiles as well. It approximates each state profile in the elements with a polynomial. Extra equality constraints following the continuity condition will be needed.\n",
    "\n",
    "Sensitivity Calculation: Deals with efficient and accurate gradient calculations\n",
    "for the NLP solver.\n",
    "\n",
    "\n",
    "NLP solver:\n",
    "Two NLP solver are widely applied: 1. Interior point method 2. SQP.\n",
    "We use the ipopt plugin in the Casadi NLP solver to find the numerical solution.\n",
    "\n",
    "\n",
    "\n"
   ]
  },
  {
   "cell_type": "code",
   "execution_count": 114,
   "metadata": {},
   "outputs": [],
   "source": [
    "def ode_ca(t, x, u):\n",
    "    '''\n",
    "    Double integrator\n",
    "    \n",
    "    Args:\n",
    "        t: Current time.\n",
    "        x: Current value (list or numpy array). \n",
    "        \n",
    "    Returns: First order ODE in casadi SX col vector .\n",
    "    '''\n",
    "    # Parameter konfiguration\n",
    "    rhs = [x[1],\n",
    "           u[0]\n",
    "           ]\n",
    "\n",
    "    return ca.vertcat(*rhs)"
   ]
  },
  {
   "cell_type": "code",
   "execution_count": 158,
   "metadata": {},
   "outputs": [],
   "source": [
    "def multiple_shooting(fn, l, t_var, x_var ,x_r_var, u_var, u_r_var, N, h, lt=None, solver_opt=None):\n",
    "    '''\n",
    "    Solve the ODE for the multiple shooting optimization formulation\n",
    "    \n",
    "    \n",
    "    '''\n",
    "    Nx = x_var.shape[0]    \n",
    "    Nu = u_var.shape[0]\n",
    "    \n",
    "    OPT_variables = []\n",
    "    g = []\n",
    "    p = []\n",
    "    obj = 0\n",
    "    \n",
    "    ti_var = t_var\n",
    "    xi_var = ca.SX.sym('x0', Nx)\n",
    "    xinit_var = ca.SX.sym('x_init', Nx)\n",
    "    \n",
    "    g += [xi_var - xinit_var]\n",
    "    \n",
    "    OPT_variables += [xi_var]\n",
    "    for i in range(N):\n",
    "        \n",
    "        ui_var = ca.SX.sym('u_' + str(i), Nu)\n",
    "        OPT_variables   += [ui_var]\n",
    "\n",
    "        # Integrate till the end of the interval\n",
    "        # TODO: Add terminal cost if we has one.\n",
    "        qi = l(ti_var, xi_var ,x_r_var , ui_var, u_r_var)\n",
    "        xi_end_var = fn(ti_var, xi_var, ui_var)\n",
    "        obj += qi\n",
    "\n",
    "        # New NLP variable for state at end of interval\n",
    "        ti_var += h\n",
    "        xi_var = ca.SX.sym('x_' + str(i+1), Nx)\n",
    "        OPT_variables   += [xi_var]\n",
    "\n",
    "        # Add equality constraint\n",
    "        g   += [xi_end_var-xi_var]\n",
    "    if L_fn_d is None:\n",
    "        obj += lt(ti_var, xi_var ,x_r_var , ui_var, u_r_var)\n",
    "    \n",
    "    \n",
    "    p = [ t_var, xinit_var, x_r_var, u_r_var ]\n",
    "    \n",
    "    nlp_prob = {\n",
    "        'f': obj,\n",
    "        'x': ca.vertcat(*OPT_variables),\n",
    "        'g': ca.vertcat(*g),\n",
    "        'p': ca.vertcat(*p)\n",
    "    }\n",
    "    \n",
    "    print(ca.vertcat(*OPT_variables).shape)\n",
    "    \n",
    "    if solver_opt is None:\n",
    "        solver_opt = {}\n",
    "        solver_opt['print_time'] = False\n",
    "        solver_opt['ipopt'] = {\n",
    "        'max_iter': 500,\n",
    "        'print_level': 3,\n",
    "        'acceptable_tol': 1e-8,\n",
    "        'acceptable_obj_change_tol': 1e-6}\n",
    "    \n",
    "    solver = ca.nlpsol(\"solver\",\"ipopt\", nlp_prob, solver_opt)\n",
    "    \n",
    "    return solver"
   ]
  },
  {
   "cell_type": "code",
   "execution_count": 159,
   "metadata": {},
   "outputs": [],
   "source": [
    "def stage_cost_dis(f, l, x, x_r, u, u_r, t, h):\n",
    "    '''\n",
    "    This function discretize the integration of stage cost.\n",
    "    '''\n",
    "    \n",
    "    k1 = f(t, x, u)\n",
    "    k2 = f(t + h / 2, x + h / 2 * k1, u)\n",
    "    k3 = f(t + h / 2, x + h / 2 * k2, u)\n",
    "    k4 = f(t + h, x + h * k3, u)\n",
    "\n",
    "  \n",
    "    L_fn = ca.Function(\"L_fn\", [x_var, x_r_var, u_var, u_r_var], [L]) \n",
    "    \n",
    "    Q = 0\n",
    "    k1_q = l(x, x_r, u, u_r_var)\n",
    "    k2_q = l(x + h / 2 * k1, x_r, u, u_r_var) \n",
    "    k3_q = l(x + h / 2 * k2, x_r, u, u_r_var)\n",
    "    k4_q = l(x + h * k3, x_r, u, u_r_var)\n",
    "    Q = Q + h/6*(k1_q + 2*k2_q + 2*k3_q + k4_q)\n",
    "    return Q"
   ]
  },
  {
   "cell_type": "code",
   "execution_count": 160,
   "metadata": {},
   "outputs": [],
   "source": [
    "def RK4_ca(f, x, u, t, h):\n",
    "    \"\"\"\n",
    "    Runge-Kutta 4th order solver using casadi.\n",
    "\n",
    "    Args:\n",
    "        f: First order ODE in casadi function (Nx + Nt -> Nx).\n",
    "        x: Current value (list or numpy array). \n",
    "        t: Current time.\n",
    "        h: Step length.\n",
    "    Returns:\n",
    "        x_next: Vector of next value in casadi DM\n",
    "    \"\"\"\n",
    "    k1 = f(t, x, u)\n",
    "    k2 = f(t + h / 2, x + h / 2 * k1, u)\n",
    "    k3 = f(t + h / 2, x + h / 2 * k2, u)\n",
    "    k4 = f(t + h, x + h * k3, u)\n",
    "    x_next = x + h / 6 * (k1 + 2 * k2 + 2 * k3 + k4)\n",
    "\n",
    "    return x_next"
   ]
  },
  {
   "cell_type": "code",
   "execution_count": 161,
   "metadata": {},
   "outputs": [],
   "source": [
    "T = 10    # Prediction horizon [s]\n",
    "N = 10    # Number of control intervals"
   ]
  },
  {
   "cell_type": "code",
   "execution_count": 167,
   "metadata": {},
   "outputs": [
    {
     "name": "stdout",
     "output_type": "stream",
     "text": [
      "(32, 1)\n",
      "Total number of variables............................:       32\n",
      "                     variables with only lower bounds:        0\n",
      "                variables with lower and upper bounds:        0\n",
      "                     variables with only upper bounds:        0\n",
      "Total number of equality constraints.................:       20\n",
      "Total number of inequality constraints...............:        2\n",
      "        inequality constraints with only lower bounds:        0\n",
      "   inequality constraints with lower and upper bounds:        0\n",
      "        inequality constraints with only upper bounds:        0\n",
      "\n",
      "\n",
      "Number of Iterations....: 0\n",
      "\n",
      "                                   (scaled)                 (unscaled)\n",
      "Objective...............:   0.0000000000000000e+00    0.0000000000000000e+00\n",
      "Dual infeasibility......:   0.0000000000000000e+00    0.0000000000000000e+00\n",
      "Constraint violation....:   0.0000000000000000e+00    0.0000000000000000e+00\n",
      "Complementarity.........:   0.0000000000000000e+00    0.0000000000000000e+00\n",
      "Overall NLP error.......:   0.0000000000000000e+00    0.0000000000000000e+00\n",
      "\n",
      "\n",
      "Number of objective function evaluations             = 1\n",
      "Number of objective gradient evaluations             = 1\n",
      "Number of equality constraint evaluations            = 1\n",
      "Number of inequality constraint evaluations          = 1\n",
      "Number of equality constraint Jacobian evaluations   = 1\n",
      "Number of inequality constraint Jacobian evaluations = 1\n",
      "Number of Lagrangian Hessian evaluations             = 0\n",
      "Total CPU secs in IPOPT (w/o function evaluations)   =      0.001\n",
      "Total CPU secs in NLP function evaluations           =      0.000\n",
      "\n",
      "EXIT: Optimal Solution Found.\n"
     ]
    },
    {
     "data": {
      "text/plain": [
       "DM([0, 0, 0, 0, 0, 0, 0, 0, 0, 0, 0, 0, 0, 0, 0, 0, 0, 0, 0, 0, 0, 0, 0, 0, 0, 0, 0, 0, 0, 0, 0, 0])"
      ]
     },
     "execution_count": 167,
     "metadata": {},
     "output_type": "execute_result"
    }
   ],
   "source": [
    "Nx = 2    # x dimension: 2\n",
    "Nt = 1    # t dimension: 1\n",
    "Nu = 1    # u dimension: 1\n",
    "\n",
    "x_var = ca.SX.sym('x', Nx)\n",
    "x_r_var = ca.SX.sym('x_r', Nx)\n",
    "t_var = ca.SX.sym('t', Nt)\n",
    "u_var = ca.SX.sym('u', Nu)\n",
    "u_r_var = ca.SX.sym('u_r', Nu)\n",
    "\n",
    "# Construct a casadi function for the ODE\n",
    "fn = ca.Function(\"ode_func\", [t_var, x_var, u_var], [ode_ca(t_var, x_var, u_var)])\n",
    "# fn_ca(1, [10,5], 10)\n",
    "\n",
    "h = T/N    # Length of each discretization interval\n",
    "\n",
    "fn_d = ca.Function(\"dis_func\", [t_var, x_var, u_var], [RK4_ca(fn_ca, x_var, u_var, t_var, h)])    # Discretized dynmaic system\n",
    "# fn_d(1,[1,2],1)\n",
    "\n",
    "Q = ca.diag([1,1])    # Q, R, P could be time variant if neccessary. -> Define variable matrix \n",
    "R = ca.diag([1])\n",
    "\n",
    "L = (x_var - x_r_var).T @ Q @ (x_var - x_r_var) + (u_var - u_r_var).T @ R @ (u_var - u_r_var).T\n",
    "L_fn = ca.Function(\"L_fn\", [x_var, x_r_var, u_var, u_r_var], [L]) \n",
    "\n",
    "L_fn_d = ca.Function(\"L_fb_dis\", [t_var, x_var ,x_r_var, u_var, u_r_var] ,[stage_cost_dis(fn, L_fn, x_var ,x_r_var, u_var, u_r_var, t_var, h)])\n",
    "\n",
    "solver = multiple_shooting(fn_d, L_fn_d, t_var, x_var ,x_r_var, u_var, u_r_var, N, h)\n",
    "\n",
    "lbg = [0.0 for i in range(N * Nx)]\n",
    "lbg += [-ca.inf] * Nx\n",
    "ubg = [0.0 for i in range(N * Nx)]\n",
    "ubg += [ca.inf] * Nx\n",
    "\n",
    "nl = {}\n",
    "nl['x0'] = [0.0] * ((N+1)*Nx + N*Nu)\n",
    "nl['lbx'] = [-ca.inf] * ((N+1)*Nx + N*Nu)\n",
    "nl['ubx'] = [ca.inf] * ((N+1)*Nx + N*Nu)\n",
    "nl['lbg'] =lbg\n",
    "nl['ubg'] =ubg\n",
    "\n",
    "# nl['lbw'] = \n",
    "# n\n",
    "\n",
    "sol = solver(**nl)\n",
    "\n",
    "sol['x']"
   ]
  },
  {
   "cell_type": "markdown",
   "metadata": {},
   "source": [
    "Evaluate the approximated integration of stage cost with *Sympy*"
   ]
  },
  {
   "cell_type": "code",
   "execution_count": 77,
   "metadata": {},
   "outputs": [
    {
     "data": {
      "text/plain": [
       "DM(12.5625)"
      ]
     },
     "execution_count": 77,
     "metadata": {},
     "output_type": "execute_result"
    }
   ],
   "source": [
    "L_fn_d(1, [1,2], [0,0],1, 0)"
   ]
  },
  {
   "cell_type": "code",
   "execution_count": 78,
   "metadata": {},
   "outputs": [
    {
     "data": {
      "text/latex": [
       "$\\displaystyle \\left(t + 2\\right)^{2} + 4 \\left(0.25 t^{2} + t + \\frac{1}{2}\\right)^{2} + 1$"
      ],
      "text/plain": [
       "(t + 2)**2 + 4*(0.25*t**2 + t + 1/2)**2 + 1"
      ]
     },
     "execution_count": 78,
     "metadata": {},
     "output_type": "execute_result"
    }
   ],
   "source": [
    "# x0,x1 = sy.symbols('x0:2')\n",
    "x_init0,x_init1 = sy.symbols('x_init0:2')\n",
    "u = sy.symbols('u')\n",
    "t = sy.symbols('t')\n",
    "\n",
    "x0 = x_init0 + x_init1 * t + 1/2 * u * t**2\n",
    "x1 = u*t + x_init1\n",
    "\n",
    "integral = x0**2 + x1**2 + u**2\n",
    "integral_num = integral.subs({x_init0:1,x_init1:2,u:1})\n",
    "integral_num"
   ]
  },
  {
   "cell_type": "code",
   "execution_count": 79,
   "metadata": {},
   "outputs": [
    {
     "data": {
      "text/latex": [
       "$\\displaystyle 12.55$"
      ],
      "text/plain": [
       "12.5500000000000"
      ]
     },
     "execution_count": 79,
     "metadata": {},
     "output_type": "execute_result"
    }
   ],
   "source": [
    "sy.integrate(integral_num, (t,0,1))"
   ]
  },
  {
   "cell_type": "code",
   "execution_count": null,
   "metadata": {},
   "outputs": [],
   "source": []
  }
 ],
 "metadata": {
  "kernelspec": {
   "display_name": "Python 3",
   "language": "python",
   "name": "python3"
  },
  "language_info": {
   "codemirror_mode": {
    "name": "ipython",
    "version": 3
   },
   "file_extension": ".py",
   "mimetype": "text/x-python",
   "name": "python",
   "nbconvert_exporter": "python",
   "pygments_lexer": "ipython3",
   "version": "3.7.7"
  }
 },
 "nbformat": 4,
 "nbformat_minor": 4
}
