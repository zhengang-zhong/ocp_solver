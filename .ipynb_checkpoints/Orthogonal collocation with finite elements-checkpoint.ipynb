{
 "cells": [
  {
   "cell_type": "code",
   "execution_count": 472,
   "metadata": {},
   "outputs": [],
   "source": [
    "import casadi as ca\n",
    "import numpy as np\n",
    "import sympy as sp"
   ]
  },
  {
   "cell_type": "markdown",
   "metadata": {},
   "source": [
    "## Orthogonal collocation with finite elements"
   ]
  },
  {
   "cell_type": "markdown",
   "metadata": {},
   "source": [
    "reference: \n",
    "1. L.T. Biegler. Nonlinear Programming: Concepts, Algorithms, and Applications to Chemical Processes. SIAM, 2010.\n",
    "2. do-mpc: https://www.do-mpc.com/en/latest/theory_orthogonal_collocation.html#biegler2010\n",
    "3. Dr. Abebe Geletu. Introduction to Differential Algebraic Equations"
   ]
  },
  {
   "cell_type": "markdown",
   "metadata": {},
   "source": [
    "Since the dynamic model equations are formulated as ODE or DAE, the continuous time model should be either directly or indirectly incorporated into the NLP problem. Orthogonal collocation on finite elements as a direct method, which fully discretizes the continuous-time variable and tranforms the infinite-dimensional optimization problem to finite-dimensional problem, is considered below.\n",
    "\n",
    "The basic idea of this approach is to use a polynomial to collocate the target function $z(t)$, which is originally given in the ODE form $\\frac{dz}{dt} = f(z(t),t)$. This approach splits the domain of ODE into several small (equal-length) time intervals, called element. Within each element, the same number of collocations points are chosen. In the following, the approach to pick up the appropriate collocation points will be introduced."
   ]
  },
  {
   "cell_type": "markdown",
   "metadata": {},
   "source": [
    "### Collocation polynomial"
   ]
  },
  {
   "cell_type": "markdown",
   "metadata": {},
   "source": [
    "The solution of ODE is approximated by the interpolation polynomial in the Lagrange form: $z^{K}_{i}(t)=\\sum_{j=0}^{K} \\ell_{j}(\\tau) z_{i j}$, where $\\ell_{j}(\\tau)=\\prod_{k=0, \\neq j}^{K} \\frac{\\left(\\tau-\\tau_{k}\\right)}{\\left(\\tau_{j}-\\tau_{k}\\right)}$. The polynomial could be equivalently represented with power series of order $k+1$: $z^{K}(t)=\\alpha_{0}+\\alpha_{1} t+\\alpha_{2} t^{2}+\\cdots+\\alpha_{K} t^{K}$, where $t=t_{i-1}+h_{i} \\tau$ with $t \\in\\left[t_{i-1}, t_{i}\\right]$ and $\\tau \\in[0,1]$. Note that $z_{ij}$ represents the $j$-th state in the $i$-th element. "
   ]
  },
  {
   "cell_type": "markdown",
   "metadata": {},
   "source": [
    "### Constraints"
   ]
  },
  {
   "cell_type": "markdown",
   "metadata": {},
   "source": [
    "Since the derivatives of polynomial approximation at each collocation point is required to equal to the original ODE at the same point. This leads to the following collocation equations:\n",
    "$\\frac{d z^{K}}{d t}\\left(t_{i k}\\right)=f\\left(z^{K}\\left(t_{i k}\\right), t_{i k}\\right), \\quad k=1, \\ldots, K$. We substitue here $t$ with $\\tau$, the collocation equations become $\\sum_{j=0}^{K} z_{i j} \\frac{d \\ell_{j}\\left(\\tau_{k}\\right)}{d \\tau}=h_{i} f\\left(z_{i k}, t_{i k}\\right), \\quad k=1, \\ldots, K$.\n",
    "\n",
    "These collocation contraints provide $K$ equations for $K+1$ variables within each element. Therefore, more contunuity constraints should be applied to enforce the continuity of the state profiles across element boundaries: \n",
    "$\\begin{aligned} z_{i+1,0} &=\\sum_{j=0}^{K} \\ell_{j}(1) z_{i j}, \\quad i=1, \\ldots, N-1, \\\\ z_{f} &=\\sum_{j=0}^{K} \\ell_{j}(1) z_{N j}, \\quad z_{1,0}=z_{0} \\end{aligned}$"
   ]
  },
  {
   "cell_type": "markdown",
   "metadata": {},
   "source": [
    "### Decision of collocation points"
   ]
  },
  {
   "cell_type": "markdown",
   "metadata": {},
   "source": [
    "Till now, we have still insufficient knowledge about the position of collocation points. The basic idea behind choosing $\\tau_j$ is to let the numerical solution approximate the implicit integral $z\\left(t_{i}\\right)=z\\left(t_{i-1}\\right)+\\int_{t_{i-1}}^{t_{i}} f(z(t), t) d t$. The numerical is represented by the quadrature formula $z\\left(t_{i}\\right)=z\\left(t_{i-1}\\right)+\\sum_{j=1}^{K} \\omega_{j} h_{i} f\\left(z\\left(t_{i j}\\right), t_{i j}\\right), \\quad t_{i j}=t_{i-1}+h_{i} \\tau_{j}$.\n",
    "\n",
    "The theorem of **accuracy of Gaussian Quadrature** gives the exact condition to choose the collocation points - collocations points $\\tau_j$ are the root of the shifted Gauss-Legendre polynomial $P_K(\\tau)$ with degree $K$.\n",
    "\n",
    "After inserting every acquired parameters into the collocation approximation $z_i^{K}(t)=\\sum_{j=0}^{K} \\ell_{j}(\\tau) z_{i j}$, the work's done!"
   ]
  },
  {
   "cell_type": "markdown",
   "metadata": {},
   "source": [
    "### Implementation\n",
    "\n",
    "Orthogonal collocation on finite over finite elements in time order 4 (K = 3?)"
   ]
  },
  {
   "cell_type": "markdown",
   "metadata": {},
   "source": [
    "### First step: Formulate the interpolation polynomial"
   ]
  },
  {
   "cell_type": "code",
   "execution_count": 547,
   "metadata": {},
   "outputs": [],
   "source": [
    "def lagrange_poly_fn(j,tau_vec):\n",
    "    '''\n",
    "    This function formulate the Lagrange polynomial for a given collocation point.\n",
    "    \n",
    "    Args:\n",
    "        j: Index of of the selected collocation point in the tau vector.\n",
    "        tau_vec: a vector in SX. Length of tau_vec is equal to K + 1 (tau_0 included).\n",
    "    \n",
    "    Return: \n",
    "        l_fn: casadi function: tau -> l_j(tau)\n",
    "        It is a scalar function of time instant tau returns the Lagrange polynomial of a given collocation.\n",
    "    '''\n",
    "    N_tau = np.shape(tau_vec)[0] #  K + 1\n",
    "    tau = ca.SX.sym(\"tau\",1)\n",
    "    \n",
    "    l_j = 1\n",
    "    for k in range(N_tau):\n",
    "        if k != j:\n",
    "            l_j = l_j * (tau - tau_vec[k]) / (tau_vec[j] - tau_vec[k]) \n",
    "    l_fn = ca.Function(\"lagrange_poly_\" + str(j),[tau],[l_j])\n",
    "    return l_fn\n",
    "    \n",
    "    "
   ]
  },
  {
   "cell_type": "code",
   "execution_count": 549,
   "metadata": {},
   "outputs": [],
   "source": [
    "def collocation_equation(dae, N, tau_vec, state_init, t_begin=0.0,t_end=1.0):\n",
    "    '''\n",
    "    This function formulate the system of collocation equations, so as to identify the state x_ij and z_ij at each collocation points.\n",
    "    \n",
    "    TODO: 1. only for ode right now. Either write a wrapper or vertically concatenate algebriac equations.\n",
    "    2. If this program is used in other subjects, reformulate the return. It is not neaty to return the defined variable.\n",
    "    Solution to this problem: Either take z_var and x_var as input defined in the class or return a casadi function.\n",
    "    3. the time step h is defined a constant here. In some paper step lengths are defined as variables. Make some changes if neccessary. \n",
    "    4. Support Radau and Lobatto collocation besides the applied Legendre collocation. \n",
    "    Args:\n",
    "        dae: ODE/DAE function in casadi function (Nt x Nx x Nz -> Nx x Nz).\n",
    "        N: The number of Elements.\n",
    "        tau_vec: List of tau vector: tau_0, tau_1 ... tau_K (length K+1).\n",
    "        state_init: Initial state as boundary of the initial value problem.\n",
    "        t_begin: Start time of the collocation.\n",
    "        t_end End time of the collocation\n",
    "    '''\n",
    "    Nx = dae.sx_in()[1].shape[0]  # Number of differential variables (dae.sx_in()[0].shape[0] is t)\n",
    "    Nz = dae.sx_in()[2].shape[0]  # Number of algebraic variables\n",
    "    \n",
    "    N_tau = np.shape(tau_vec)[0] #  K + 1\n",
    "    N_element = N\n",
    "    \n",
    "    h = (t_end - t_begin) / N_element\n",
    "    # Form (Nx + Nz) x (N_element x N_tau) equations to determing the (Nx + Nz) x (N_element x N_tau) unknowns.\n",
    "    \n",
    "    # Generate matrix for each variable.\n",
    "    # Each element in the list is a variable matrix of size (Nx + Nz) x (N_element x N_tau)\n",
    "    # TODO: find out if it is better to form a tensor.\n",
    "    x_var = ca.SX.sym('x', Nx, N_element * N_tau)   \n",
    "    z_var = ca.SX.sym('z', Nz, N_element * N_tau)\n",
    "    # An extra column for the end state\n",
    "    x_f_var = ca.SX.sym('x_f', Nx)\n",
    "    \n",
    "    tau_var = ca.SX.sym('tau',1) \n",
    "    \n",
    "    # Get Lagrange polynomial and its time derivative of tau\n",
    "    l_fn = []   # Lagrange polynomial in casadi function \n",
    "    ld = []    # Derivative of Lagrange polynomial in casadi.SX \n",
    "    ld_fn = []    # Derivative of Lagrange polynomial in casadi fucntion\n",
    "    col_eq = []    # Collocation equation in casadi.SX\n",
    "    \n",
    "    # Get prepared with the Lagrange polynomials\n",
    "    for i in range(N_tau):\n",
    "        l_fn.append(lagrange_poly_fn(i,tau_vec))\n",
    "        ld_temp = ca.jacobian(l_fn[i](tau_var), tau_var)\n",
    "        ld.append(ld_temp)\n",
    "        ld_fn.append(ca.Function(\"ld\" + str(i),[tau_var] ,[ld_temp] ))\n",
    "    \n",
    "    # Interpolation polynomials in Lagrange form\n",
    "    x_poly = []    # \\Sigma_{j=0}^{K} z_{ij}l_j(\\tau_k)\n",
    "    x_poly_d = []    # l_j time derivative of the interpolation polynomials\n",
    "    # Iterate over all the elements \n",
    "    for i in range(N_element):\n",
    "        # Within a element, sum the polynomial function of each collocation point up. \n",
    "        t_i = t_begin + i * h\n",
    "        interp_end_temp = 0\n",
    "        for k in range(N_tau-1): \n",
    "            interp_temp = 0\n",
    "            interp_d_temp = 0\n",
    "            for j in range(N_tau):\n",
    "                interp_temp += x_var[:,i*N_element + j] * l_fn[j](tau_vec[k+1])\n",
    "                interp_d_temp += x_var[:,i*N_element + j] * ld_fn[j](tau_vec[k+1])\n",
    "                # Continuity condition: calculate the end value only once in each element,  and altogether N-1 times\n",
    "#                 if k == 0 and (i < N_element - 1): \n",
    "                if k == 0: \n",
    "                    interp_end_temp += x_var[:,i*N_element + j] * l_fn[j](1)\n",
    "                    \n",
    "            x_poly.append(interp_temp)\n",
    "            x_poly_d.append(interp_d_temp)\n",
    "            # collocation equation\n",
    "            t_ik = h * tau_vec[k+1] + t_i\n",
    "            print(t_ik)\n",
    "            col_eq = ca.vertcat(col_eq, (interp_d_temp - h * dae(t_ik, x_var[:,i*N_element + k+1], z_var[:,i*N_element + k+1])))  # k+1 since fisrt condition at tau_1   \n",
    "            if k == 0 and (i < N_element - 1):\n",
    "                col_eq = ca.vertcat(col_eq,(interp_end_temp - x_var[:,(i + 1)*N_element]))\n",
    "            if k == 0 and i == N_element - 1:\n",
    "                col_eq = ca.vertcat(col_eq,(interp_end_temp - x_f_var))\n",
    "    col_eq = ca.vertcat(col_eq,(x_var[:,0] - state_init))\n",
    "    \n",
    "    return ca.horzcat(x_var, x_f_var), z_var, col_eq\n",
    "#     return x_var, z_var, col_eq"
   ]
  },
  {
   "cell_type": "markdown",
   "metadata": {},
   "source": [
    "Example for debug: $\\dot{x} = x$, analytical solution is $x = x_0e^t$"
   ]
  },
  {
   "cell_type": "code",
   "execution_count": 550,
   "metadata": {},
   "outputs": [],
   "source": [
    "def ode_ca(t, x, z):\n",
    "    '''\n",
    "    Double integrator\n",
    "    \n",
    "    Args:\n",
    "        t: Current time.\n",
    "        x: Current value (list or numpy array). \n",
    "        \n",
    "    Returns: First order ODE in casadi SX col vector .\n",
    "    '''\n",
    "    # Parameter konfiguration\n",
    "    rhs = [x\n",
    "           ]\n",
    "\n",
    "    return ca.vertcat(*rhs)\n",
    "\n",
    "Nx = 1    # x dimension: 2\n",
    "Nt = 1    # t dimension: 1\n",
    "Nz = 0\n",
    "\n",
    "x = ca.SX.sym('x', Nx)\n",
    "t = ca.SX.sym('t', Nt)\n",
    "z = ca.SX.sym('z', Nz)\n",
    "# print([t, x, z])\n",
    "# Construct a casadi function for the ODE\n",
    "fn_ca = ca.Function(\"dae_func\", [t, x,z], [ode_ca(t,x,z)])\n"
   ]
  },
  {
   "cell_type": "code",
   "execution_count": 552,
   "metadata": {},
   "outputs": [
    {
     "name": "stdout",
     "output_type": "stream",
     "text": [
      "0.112702\n",
      "0.5\n",
      "0.887298\n",
      "x_0\n",
      "@1=-5.99997, [(((((@1*x_0)+(4.99997*x_1))+(1.16398*x_2))+(-0.163978*x_3))-x_1), (((((-1*x_0)+(1.66667*x_1))+(-1.33334*x_2))+(1.66667*x_3))-x_f), (((((2.99999*x_0)+(-5.72747*x_1))+(2*x_2))+(0.727487*x_3))-x_2), (((((@1*x_0)+(10.164*x_1))+(-9.16398*x_2))+(5*x_3))-x_3), (x_0-1)]\n"
     ]
    },
    {
     "data": {
      "text/plain": [
       "DM([1, 1.12006, 1.64789, 2.42924, 2.71831])"
      ]
     },
     "execution_count": 552,
     "metadata": {},
     "output_type": "execute_result"
    }
   ],
   "source": [
    "tau_vec = [0.0000, 0.112702, 0.50000, 0.887298]\n",
    "x0 = [1.0]\n",
    "\n",
    "# x_var, x_f_var, z_var, eq = collocation_equation(fn_ca,1,tau_vec,x0)\n",
    "x_var, z_var, eq = collocation_equation(fn_ca,1,tau_vec,x0)\n",
    "print(x_var[:,0])\n",
    "x_var = ca.reshape(x_var, -1,1)\n",
    "# x_var = ca.vertcat(x_var, x_f_var)\n",
    "print(eq)\n",
    "g = ca.Function('g',[x_var],[eq])\n",
    "G = ca.rootfinder('G','newton',g)\n",
    "\n",
    "# ld_fn[1](1)\n",
    "\n",
    "G([0,0,0,0,0])"
   ]
  },
  {
   "cell_type": "markdown",
   "metadata": {},
   "source": [
    "test $\\dot{l}_j$"
   ]
  },
  {
   "cell_type": "code",
   "execution_count": 531,
   "metadata": {},
   "outputs": [
    {
     "data": {
      "text/plain": [
       "19.78829586306479"
      ]
     },
     "execution_count": 531,
     "metadata": {},
     "output_type": "execute_result"
    }
   ],
   "source": [
    "tau = sp.symbols('tau')\n",
    "tau_vec = [0.0000, 0.112702, 0.50000, 0.887298]\n",
    "\n",
    "j = 1\n",
    "l_0 = (tau - tau_vec[0]) / (tau_vec[j] - tau_vec[0]) * (tau - tau_vec[2]) / (tau_vec[j] - tau_vec[2]) * (tau - tau_vec[3]) / (tau_vec[j] - tau_vec[3]) \n",
    "l_0_d = sp.diff(l_0,tau)\n",
    "l_0_d = sp.expand(l_0_d)\n",
    "l_0_d_fn = sp.lambdify(tau,l_0_d)\n",
    "l_0_d_fn(1)"
   ]
  },
  {
   "cell_type": "code",
   "execution_count": 554,
   "metadata": {},
   "outputs": [],
   "source": [
    "def ode_ca(t, x, z):\n",
    "    '''\n",
    "    Double integrator\n",
    "    \n",
    "    Args:\n",
    "        t: Current time.\n",
    "        x: Current value (list or numpy array). \n",
    "        \n",
    "    Returns: First order ODE in casadi SX col vector .\n",
    "    '''\n",
    "    # Parameter konfiguration\n",
    "    u = 1.0\n",
    "    rhs = [x[1],\n",
    "           u\n",
    "           ]\n",
    "\n",
    "    return ca.vertcat(*rhs)\n",
    "\n",
    "Nx = 2    # x dimension: 2\n",
    "Nt = 1    # t dimension: 1\n",
    "Nz = 0\n",
    "\n",
    "x = ca.SX.sym('x', Nx)\n",
    "t = ca.SX.sym('t', Nt)\n",
    "z = ca.SX.sym('z', Nz)\n",
    "# print([t, x, z])\n",
    "# Construct a casadi function for the ODE\n",
    "fn_ca = ca.Function(\"dae_func\", [t, x,z], [ode_ca(t,x,z)])\n"
   ]
  },
  {
   "cell_type": "code",
   "execution_count": 555,
   "metadata": {},
   "outputs": [
    {
     "name": "stdout",
     "output_type": "stream",
     "text": [
      "0.112702\n",
      "0.5\n",
      "0.887298\n"
     ]
    },
    {
     "data": {
      "text/plain": [
       "DM([1, 2, 1.23175, 2.1127, 2.125, 2.5, 3.16824, 2.8873, 3.5, 3])"
      ]
     },
     "execution_count": 555,
     "metadata": {},
     "output_type": "execute_result"
    }
   ],
   "source": [
    "tau_vec = [0.0000, 0.112702, 0.50000, 0.887298]\n",
    "x0 = [1.0, 2.0]\n",
    "\n",
    "\n",
    "x_var, z_var, eq = collocation_equation(fn_ca,1,tau_vec,x0)\n",
    "x_var = ca.reshape(x_var, -1,1)\n",
    "\n",
    " \n",
    "g = ca.Function('g',[x_var],[eq])\n",
    "G = ca.rootfinder('G','newton',g)\n",
    "\n",
    "G([1,1,1,1,1,1,1,1,1,1])\n",
    "\n",
    "# G([0,0,0,0,0,0,0,0])"
   ]
  },
  {
   "cell_type": "markdown",
   "metadata": {},
   "source": [
    "Biegler Beispiel"
   ]
  },
  {
   "cell_type": "code",
   "execution_count": 556,
   "metadata": {},
   "outputs": [
    {
     "name": "stdout",
     "output_type": "stream",
     "text": [
      "dae_func:(i0,i1,i2[0])->(o0) SXFunction\n"
     ]
    }
   ],
   "source": [
    "def ode_ca(t, x, z):\n",
    "    '''\n",
    "    Demonstration of Orthogonal Collocation\n",
    "    \n",
    "    Args:\n",
    "        t: Current time.\n",
    "        x: Current value (list or numpy array). \n",
    "        \n",
    "    Returns: First order ODE in casadi SX col vector .\n",
    "    '''\n",
    "    # Parameter konfiguration\n",
    "    rhs = [x[0]**2 - 2*x[0]+1\n",
    "           ]\n",
    "\n",
    "    return ca.vertcat(*rhs)\n",
    "\n",
    "Nx = 1    # x dimension: 2\n",
    "Nt = 1    # t dimension: 1\n",
    "Nz = 0\n",
    "\n",
    "x = ca.SX.sym('x', Nx)\n",
    "t = ca.SX.sym('t', Nt)\n",
    "z = ca.SX.sym('z', Nz)\n",
    "# print([t, x, z])\n",
    "# Construct a casadi function for the ODE\n",
    "fn_ca = ca.Function(\"dae_func\", [t, x,z], [ode_ca(t,x,z)])\n",
    "print(fn_ca)"
   ]
  },
  {
   "cell_type": "code",
   "execution_count": 558,
   "metadata": {},
   "outputs": [
    {
     "name": "stdout",
     "output_type": "stream",
     "text": [
      "0.112702\n",
      "0.5\n",
      "0.887298\n"
     ]
    },
    {
     "data": {
      "text/plain": [
       "DM([-3, -1.88606, -0.199567, 0.0490687, 0.204433])"
      ]
     },
     "execution_count": 558,
     "metadata": {},
     "output_type": "execute_result"
    }
   ],
   "source": [
    "tau_vec = [0.0000, 0.112702, 0.50000, 0.887298]\n",
    "x0 = [-3]\n",
    "\n",
    "x_var, z_var, eq = collocation_equation(fn_ca,1,tau_vec,x0)\n",
    "\n",
    "x_var = ca.reshape(x_var, -1,1)\n",
    "\n",
    " \n",
    "g = ca.Function('g',[x_var],[eq])\n",
    "G = ca.rootfinder('G','newton',g)\n",
    "\n",
    "G([0,0,0,0,0])"
   ]
  },
  {
   "cell_type": "markdown",
   "metadata": {},
   "source": [
    "???Gauss-Jacobi polynomials ...\n",
    "\n",
    "remark:\n",
    "1. its order is conventionally the degree +1\n",
    "2. K = number of tau_vec = number of collocation points"
   ]
  },
  {
   "cell_type": "code",
   "execution_count": 38,
   "metadata": {},
   "outputs": [
    {
     "data": {
      "text/plain": [
       "3"
      ]
     },
     "execution_count": 38,
     "metadata": {},
     "output_type": "execute_result"
    }
   ],
   "source": [
    "a = 3 * ca.DM.ones(3,1)\n",
    "\n",
    "np.shape(a)[0]\n",
    "\n",
    "# a[0]"
   ]
  },
  {
   "cell_type": "code",
   "execution_count": 235,
   "metadata": {},
   "outputs": [
    {
     "data": {
      "text/plain": [
       "casadi.casadi.SX"
      ]
     },
     "execution_count": 235,
     "metadata": {},
     "output_type": "execute_result"
    }
   ],
   "source": [
    "Nz = 2\n",
    "z = ca.SX.sym('z',Nz,2)\n",
    "type(z)"
   ]
  },
  {
   "cell_type": "code",
   "execution_count": 52,
   "metadata": {},
   "outputs": [
    {
     "name": "stdout",
     "output_type": "stream",
     "text": [
      "4\n"
     ]
    },
    {
     "data": {
      "text/plain": [
       "DM(-0.0800019)"
      ]
     },
     "execution_count": 52,
     "metadata": {},
     "output_type": "execute_result"
    }
   ],
   "source": [
    "tau_vec = [0.0, 0.112702, 0.5, 0.887298]\n",
    "l = lagrange_poly_fn(0,tau_vec)\n",
    "l(0.9)\n"
   ]
  },
  {
   "cell_type": "code",
   "execution_count": 94,
   "metadata": {},
   "outputs": [],
   "source": [
    "z = ca.SX.sym(\"z\",2)\n",
    "g0 = 3*z[0] + z[1]\n",
    "g1 = z[1] + z[0] \n",
    "# g2 = z[1,0]\n",
    "# g3 = z[1,1]\n",
    "g = ca.Function('g',[z[0],z[1]],[g0,g1])\n",
    "G = ca.rootfinder('G','newton',g)\n",
    "# print(G)"
   ]
  },
  {
   "cell_type": "code",
   "execution_count": 95,
   "metadata": {},
   "outputs": [
    {
     "data": {
      "text/plain": [
       "(DM(-0.333333), DM(0.666667))"
      ]
     },
     "execution_count": 95,
     "metadata": {},
     "output_type": "execute_result"
    }
   ],
   "source": [
    "\n",
    "G(3,1)"
   ]
  },
  {
   "cell_type": "code",
   "execution_count": 103,
   "metadata": {},
   "outputs": [
    {
     "name": "stdout",
     "output_type": "stream",
     "text": [
      "G:(i0,i1)->(o0,o1) Newton\n"
     ]
    }
   ],
   "source": [
    "z = ca.SX.sym('x',2)\n",
    "g0 = ca.sin(z[0]+z[1])\n",
    "g1 = ca.cos(z[0]-z[1])\n",
    "g = ca.Function('g',ca.vertsplit(z),[g0,g1])\n",
    "G = ca.rootfinder('G','newton',g)\n",
    "print(G)"
   ]
  },
  {
   "cell_type": "markdown",
   "metadata": {},
   "source": [
    "ca.vertsplit for ca.Function"
   ]
  },
  {
   "cell_type": "code",
   "execution_count": 100,
   "metadata": {},
   "outputs": [
    {
     "data": {
      "text/plain": [
       "[SX(z_0), SX(z_1)]"
      ]
     },
     "execution_count": 100,
     "metadata": {},
     "output_type": "execute_result"
    }
   ],
   "source": [
    "ca.vertsplit(z)"
   ]
  },
  {
   "cell_type": "code",
   "execution_count": null,
   "metadata": {},
   "outputs": [],
   "source": []
  },
  {
   "cell_type": "code",
   "execution_count": 101,
   "metadata": {},
   "outputs": [
    {
     "data": {
      "text/plain": [
       "[SX(z_0), SX(z_1)]"
      ]
     },
     "execution_count": 101,
     "metadata": {},
     "output_type": "execute_result"
    }
   ],
   "source": [
    "[z[0],z[1]]"
   ]
  },
  {
   "cell_type": "code",
   "execution_count": 133,
   "metadata": {},
   "outputs": [],
   "source": [
    "x = ca.SX.sym('x',2)\n",
    "y = ca.SX.sym('y',3)\n",
    "\n",
    "f = x[0] + y[0] + x[1] + y[1] + y[2]\n",
    "fn = ca.Function('fn',[x,y],[f])\n",
    "# ca.vertcat(x+y).shape\n"
   ]
  },
  {
   "cell_type": "code",
   "execution_count": 135,
   "metadata": {},
   "outputs": [
    {
     "data": {
      "text/plain": [
       "3"
      ]
     },
     "execution_count": 135,
     "metadata": {},
     "output_type": "execute_result"
    }
   ],
   "source": [
    "fn.sx_in()[1].shape[0]"
   ]
  },
  {
   "cell_type": "code",
   "execution_count": null,
   "metadata": {},
   "outputs": [],
   "source": [
    "g.sx_out()[]"
   ]
  },
  {
   "cell_type": "code",
   "execution_count": 157,
   "metadata": {},
   "outputs": [
    {
     "data": {
      "text/plain": [
       "SX([[x_0, x_2, x_4, x_6, x_8, x_10, x_12, x_14, x_16, x_18, x_20, x_22, x_24, x_26, x_28]])"
      ]
     },
     "execution_count": 157,
     "metadata": {},
     "output_type": "execute_result"
    }
   ],
   "source": [
    "z = ca.SX.sym('x',2,15)\n",
    "z[0, :]"
   ]
  },
  {
   "cell_type": "code",
   "execution_count": 147,
   "metadata": {},
   "outputs": [
    {
     "data": {
      "text/plain": [
       "SX(\n",
       "[[x2_0, x2_2, x2_4, x2_6], \n",
       " [x2_1, x2_3, x2_5, x2_7]])"
      ]
     },
     "execution_count": 147,
     "metadata": {},
     "output_type": "execute_result"
    }
   ],
   "source": [
    "N_element = 2\n",
    "N_tau = 4\n",
    "\n",
    "x = [ca.SX.sym('x' + str(i), N_element,N_tau) for i in range(3)]\n",
    "x[2]"
   ]
  },
  {
   "cell_type": "code",
   "execution_count": 149,
   "metadata": {},
   "outputs": [
    {
     "data": {
      "text/plain": [
       "[0, 1, 2, 1, 2, 3]"
      ]
     },
     "execution_count": 149,
     "metadata": {},
     "output_type": "execute_result"
    }
   ],
   "source": [
    "a =[i+j for i in range(2) for j in range(3)]\n",
    "a"
   ]
  },
  {
   "cell_type": "code",
   "execution_count": 160,
   "metadata": {},
   "outputs": [
    {
     "data": {
      "text/plain": [
       "(1,)"
      ]
     },
     "execution_count": 160,
     "metadata": {},
     "output_type": "execute_result"
    }
   ],
   "source": [
    "a = []\n",
    "\n",
    "a.append(1)\n",
    "np.shape(a)"
   ]
  },
  {
   "cell_type": "code",
   "execution_count": 165,
   "metadata": {},
   "outputs": [
    {
     "data": {
      "text/plain": [
       "casadi.casadi.SX"
      ]
     },
     "execution_count": 165,
     "metadata": {},
     "output_type": "execute_result"
    }
   ],
   "source": [
    "x = ca.SX.sym('x',1)\n",
    "\n",
    "f = 1 + x**2 + 3*x**3  \n",
    "fn = ca.Function('fn',[x],[f])\n",
    "\n",
    "type(ca.jacobian(fn(x),x)"
   ]
  },
  {
   "cell_type": "code",
   "execution_count": 259,
   "metadata": {},
   "outputs": [
    {
     "data": {
      "text/plain": [
       "(2, 1)"
      ]
     },
     "execution_count": 259,
     "metadata": {},
     "output_type": "execute_result"
    }
   ],
   "source": [
    "a = [1,2]\n",
    "c = ca.SX.sym('x',2)\n",
    "\n",
    "c.shape\n",
    "# c-a"
   ]
  },
  {
   "cell_type": "code",
   "execution_count": 399,
   "metadata": {},
   "outputs": [
    {
     "name": "stdout",
     "output_type": "stream",
     "text": [
      "(2, 1)\n"
     ]
    },
    {
     "data": {
      "text/plain": [
       "DM([0, 9.53674e-07])"
      ]
     },
     "execution_count": 399,
     "metadata": {},
     "output_type": "execute_result"
    }
   ],
   "source": [
    "z = ca.SX.sym('z',1)\n",
    "x = ca.SX.sym('x',1)\n",
    "g0 = x**2+3*z\n",
    "g1 = x**2-3*z\n",
    "test_in = ca.vertcat(z,x)\n",
    "test_out = ca.vertcat(g0,g1)\n",
    "g = ca.Function('g',[test_in],[test_out])\n",
    "\n",
    "G = ca.rootfinder('G','newton',g)\n",
    "print(test_in.shape)\n",
    "G([0,1])"
   ]
  },
  {
   "cell_type": "code",
   "execution_count": 335,
   "metadata": {},
   "outputs": [
    {
     "name": "stdout",
     "output_type": "stream",
     "text": [
      "G:(i0,i1)->(o0,o1) Newton\n"
     ]
    },
    {
     "data": {
      "text/plain": [
       "(DM(-0.333333), DM(2))"
      ]
     },
     "execution_count": 335,
     "metadata": {},
     "output_type": "execute_result"
    }
   ],
   "source": [
    "z = ca.SX.sym('z',1)\n",
    "x = ca.SX.sym('x',1)\n",
    "g0 = x**2+3*z\n",
    "g1 = x**2-3*z\n",
    "g = ca.Function('g',[z,x],[g0,g1])\n",
    "G = ca.rootfinder('G','newton',g)\n",
    "print(G)\n",
    "G(0,1)"
   ]
  },
  {
   "cell_type": "code",
   "execution_count": 318,
   "metadata": {},
   "outputs": [
    {
     "data": {
      "text/plain": [
       "-0.2603956516185358"
      ]
     },
     "execution_count": 318,
     "metadata": {},
     "output_type": "execute_result"
    }
   ],
   "source": []
  },
  {
   "cell_type": "code",
   "execution_count": 278,
   "metadata": {},
   "outputs": [
    {
     "data": {
      "text/plain": [
       "casadi.casadi.SX"
      ]
     },
     "execution_count": 278,
     "metadata": {},
     "output_type": "execute_result"
    }
   ],
   "source": [
    "x = ca.SX.sym('x',2); y = ca.SX.sym('y'); z = ca.SX.sym('z')\n",
    "re = ca.vertcat(x,y,z)\n",
    "type(re)"
   ]
  },
  {
   "cell_type": "code",
   "execution_count": 343,
   "metadata": {},
   "outputs": [
    {
     "data": {
      "text/plain": [
       "list"
      ]
     },
     "execution_count": 343,
     "metadata": {},
     "output_type": "execute_result"
    }
   ],
   "source": [
    "x = ca.SX.sym('x',2)\n",
    "temp = ca.horzsplit(x)\n",
    "type(temp)"
   ]
  },
  {
   "cell_type": "code",
   "execution_count": 354,
   "metadata": {},
   "outputs": [
    {
     "name": "stdout",
     "output_type": "stream",
     "text": [
      "(((x_0+x_1)+x_2)+x_3)\n"
     ]
    },
    {
     "data": {
      "text/plain": [
       "(4, 1)"
      ]
     },
     "execution_count": 354,
     "metadata": {},
     "output_type": "execute_result"
    }
   ],
   "source": [
    "x = ca.SX.sym('x',2,2)\n",
    "\n",
    "\n",
    "f = x[0] + x[1] + x[2] + x[3]\n",
    "print(f)\n",
    "\n",
    "fn = ca.Function('fn',[x],[f])\n",
    "temp = ca.reshape(x,-1,1)\n",
    "temp.shape"
   ]
  },
  {
   "cell_type": "code",
   "execution_count": 388,
   "metadata": {},
   "outputs": [
    {
     "data": {
      "text/plain": [
       "(2, 1)"
      ]
     },
     "execution_count": 388,
     "metadata": {},
     "output_type": "execute_result"
    }
   ],
   "source": [
    "a = ca.SX.sym(\"a\",1)\n",
    "b = ca.SX.sym(\"b\",1)\n",
    "c = []\n",
    "\n",
    "c = ca.vertcat(c,a)\n",
    "c = ca.vertcat(c,b)\n",
    "c.shape"
   ]
  },
  {
   "cell_type": "code",
   "execution_count": null,
   "metadata": {},
   "outputs": [],
   "source": []
  }
 ],
 "metadata": {
  "kernelspec": {
   "display_name": "Python 3",
   "language": "python",
   "name": "python3"
  },
  "language_info": {
   "codemirror_mode": {
    "name": "ipython",
    "version": 3
   },
   "file_extension": ".py",
   "mimetype": "text/x-python",
   "name": "python",
   "nbconvert_exporter": "python",
   "pygments_lexer": "ipython3",
   "version": "3.7.7"
  }
 },
 "nbformat": 4,
 "nbformat_minor": 4
}
